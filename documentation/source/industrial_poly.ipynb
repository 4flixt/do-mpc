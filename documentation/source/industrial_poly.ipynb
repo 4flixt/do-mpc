{
 "cells": [
  {
   "cell_type": "markdown",
   "metadata": {},
   "source": [
    "# Industrial polymerization reactor\n",
    "\n",
    "In this Jupyter Notebook we illustrate the example **industrial_poly**.\n",
    "\n",
    "The example consists of the three modules **template_model.py**, which describes the system model, **template_mpc.py**, which defines the settings for the control and **template_simulator.py**, which sets the parameters for the simulator.\n",
    "The modules are used in **main.py** for the closed-loop execution of the controller.\n",
    "\n",
    "In the following the different parts are presented. But first, we start by importing basic modules and **do-mpc**."
   ]
  },
  {
   "cell_type": "code",
   "execution_count": 1,
   "metadata": {},
   "outputs": [],
   "source": [
    "import numpy as np\n",
    "import sys\n",
    "from casadi import *\n",
    "\n",
    "# Add do_mpc to path. This is not necessary if it was installed via pip\n",
    "sys.path.append('../../')\n",
    "\n",
    "# Import do_mpc package:\n",
    "import do_mpc"
   ]
  },
  {
   "cell_type": "markdown",
   "metadata": {},
   "source": [
    "## Model"
   ]
  },
  {
   "cell_type": "markdown",
   "metadata": {},
   "source": [
    "In the following we will present the configuration, setup and connection between these blocks, starting with the `model`.\n",
    "The considered model of the industrial reactor is continuous and has 10 states and 3 control inputs.\n",
    "The model is initiated by:"
   ]
  },
  {
   "cell_type": "code",
   "execution_count": 2,
   "metadata": {},
   "outputs": [],
   "source": [
    "model_type = 'continuous' # either 'discrete' or 'continuous'\n",
    "model = do_mpc.model.Model(model_type)"
   ]
  },
  {
   "cell_type": "markdown",
   "metadata": {},
   "source": [
    "### System description\n",
    "\n",
    "The system consists of a reactor into which nonomer is fed.\n",
    "The monomerturns into a polymer via a very exothermic chemical reaction.\n",
    "The reactor is equipped with a jacket and with an External Heat Exchanger(EHE) that can both be used to control the temperature inside the reactor.\n",
    "The schematic of the system is presented below:\n",
    "\n",
    "![alt text](industrial_poly.png \"Industrial polymerization batch reactor\")\n",
    "\n",
    "The process is modeled by a set of 8 ordinary differential equations (ODEs):\n",
    "\n",
    "$\n",
    "\\begin{align}\n",
    "&\\dot{m}_{\\text{W}} =  \\ \\dot{m}_{\\text{F}}\\, \\omega_{\\text{W,F}} \\notag\\\\\n",
    "&\\dot{m}_{\\text{A}} =  \\ \\dot{m}_{\\text{F}} \\omega_{\\text{A,F}}-k_{\\text{R1}}\\, m_{\\text{A,R}}-k_{\\text{R2}}\\, m_{\\text{AWT}}\\, m_{\\text{A}}/m_{\\text{ges}} , \\notag\\\\\n",
    "&\\dot{m}_{\\text{P}} =  \\ k_{\\text{R1}} \\, m_{\\text{A,R}}+p_{1}\\, k_{\\text{R2}}\\, m_{\\text{AWT}}\\, m_{\\text{A}}/ m_{\\text{ges}} , \\notag\\\\\n",
    "&\\dot{T}_{\\text{R}} =  \\ 1/(c_{\\text{p,R}} m_{\\text{ges}})\\; [\\dot{m}_{\\text{F}} \\; c_{\\text{p,F}}\\left(T_{\\text{F}}-T_{\\text{R}}\\right) +\\Delta H_{\\text{R}} k_{\\text{R1}} m_{\\text{A,R}}-k_{\\text{K}} A\\left(T_{\\text{R}}-T_{\\text{S}}\\right)   -\\dot{m}_{\\text{AWT}} \\,c_{\\text{p,R}}\\left(T_{\\text{R}}-T_{\\text{EK}}\\right)],\\notag\\\\\n",
    "&\\dot{T}_{S} =  1/(c_{\\text{p,S}} m_{\\text{S}}) \\;[k_{\\text{K}} A\\left(T_{\\text{R}}-T_{\\text{S}}\\right)-k_{\\text{K}} A\\left(T_{\\text{S}}-T_{\\text{M}}\\right)], \\notag\\\\\n",
    "&\\dot{T}_{\\text{M}} =  1/(c_{\\text{p,W}} m_{\\text{M,KW}})\\;[\\dot{m}_{\\text{M,KW}}\\, c_{\\text{p,W}}\\left(T_{\\text{M}}^{\\text{IN}}-T_{\\text{M}}\\right)+k_{\\text{K}} A\\left(T_{\\text{S}}-T_{\\text{M}}\\right)]+k_{\\text{K}} A\\left(T_{\\text{S}}-T_{\\text{M}}\\right)], \\\\\n",
    "&\\dot{T}_{\\text{EK}}=  1/(c_{\\text{p,R}} m_{\\text{AWT}})\\;[\\dot{m}_{\\text{AWT}} c_{\\text{p,W}}\\left(T_{\\text{R}}-T_{\\text{EK}}\\right)-\\alpha\\left(T_{\\text{EK}}-T_{\\text{AWT}}\\right)  +   k_{\\text{R2}}\\, m_{\\text{A}}\\, m_{\\text{AWT}}\\Delta H_{\\text{R}}/m_{\\text{ges}}], \\notag\\\\\n",
    "&\\dot{T}_{\\text{AWT}} =  [\\dot{m}_{\\text{AWT,KW}} \\,c_{\\text{p,W}}\\,(T_{\\text{AWT}}^{\\text{IN}}-T_{\\text{AWT}})-\\alpha\\left(T_{\\text{AWT}}-T_{\\text{EK}}\\right)]/(c_{\\text{p,W}} m_{\\text{AWT,KW}}),\n",
    "\\end{align}\n",
    "$\n",
    "\n",
    "where\n",
    "\n",
    "$$\n",
    "U       =  m_{\\text{P}}/(m_{\\text{A}}+m_{\\text{P}}), \\\\\n",
    "m_{\\text{ges}} =  \\  m_{\\text{W}}+m_{\\text{A}}+m_{\\text{P}}, \\\\\n",
    "k_{\\text{R1}}  =  \\  k_{0} e^{\\frac{-E_{a}}{R (T_{\\text{R}}+273.15)}}\\left(k_{\\text{U1}}\\left(1-U\\right)+k_{\\text{U2}} U\\right), \\\\\n",
    "k_{\\text{R2}}  =  \\  k_{0} e^{\\frac{-E_{a}}{R (T_{\\text{EK}}+273.15)}}\\left(k_{\\text{U1}}\\left(1-U\\right)+k_{\\text{U2}} U\\right), \\\\\n",
    "k_{\\text{K}}   =  (m_{\\text{W}}k_{\\text{WS}}+m_{\\text{A}}k_{\\text{AS}}+m_{\\text{P}}k_{\\text{PS}})/m_{\\text{ges}},\\\\\n",
    "m_{\\text{A,R}}=  m_\\text{A}-m_\\text{A} m_{\\text{AWT}}/m_{\\text{ges}}.\n",
    "$$\n",
    "\n",
    "The model includes mass balances for the water, monomer and product hold-ups ($m_\\text{W}$, $m_\\text{A}$, $m_\\text{P}$) and energy balances for the reactor ($T_\\text{R}$), the vessel ($T_\\text{S}$), the jacket ($T_\\text{M}$), the mixture in the external heat exchanger ($T_{\\text{EK}}$) and the coolant leaving the external heat exchanger ($T_{\\text{AWT}}$).\n",
    "The variable $U$ denotes the polymer-monomer ratio  in the reactor, $m_{\\text{ges}}$ represents the total mass, $k_{\\text{R1}}$ is the reaction rate inside the reactor and $k_{\\text{R2}}$ is the reaction rate in the external heat exchanger. The total heat transfer coefficient of the mixture inside the reactor is denoted as $k_{\\text{K}}$ and $m_{\\text{A,R}}$ represents the current amount of monomer inside the reactor.\n",
    "\n",
    "The available control inputs are the feed flow $\\dot{m}_{\\text{F}}$, the coolant temperature at the inlet of the jacket $T^{\\text{IN}}_{\\text{M}}$ and the coolant temperature at the inlet of the external heat exchanger $T^{\\text{IN}}_{\\text{AWT}}$.\n",
    "\n",
    "An overview of the parameters are listed below:\n",
    "\n",
    "![bla text](poly_reactor_parameters.png \"Parameters of the polymerization reactor\")"
   ]
  },
  {
   "cell_type": "markdown",
   "metadata": {},
   "source": [
    "### Implementation\n",
    "\n",
    "First, we set the certain parameters:"
   ]
  },
  {
   "cell_type": "code",
   "execution_count": 3,
   "metadata": {},
   "outputs": [],
   "source": [
    "# Certain parameters\n",
    "R           = 8.314    \t\t\t#gas constant\n",
    "T_F         = 25 + 273.15       #feed temperature\n",
    "E_a         = 8500.0     \t\t\t#activation energy\n",
    "delH_R      = 950.0*1.00      \t\t\t#sp reaction enthalpy\n",
    "A_tank      = 65.0       \t\t\t#area heat exchanger surface jacket 65\n",
    "\n",
    "k_0         = 7.0*1.00      \t#sp reaction rate\n",
    "k_U2        = 32.0     \t#reaction parameter 1\n",
    "k_U1        = 4.0      \t#reaction parameter 2\n",
    "w_WF        = .333      #mass fraction water in feed\n",
    "w_AF        = .667      #mass fraction of A in feed\n",
    "\n",
    "m_M_KW      = 5000.0      #mass of coolant in jacket\n",
    "fm_M_KW     = 300000.0    #coolant flow in jacket 300000;\n",
    "m_AWT_KW    = 1000.0      #mass of coolant in EHE\n",
    "fm_AWT_KW   = 100000.0    #coolant flow in EHE\n",
    "m_AWT       = 200.0       #mass of product in EHE\n",
    "fm_AWT      = 20000.0     #product flow in EHE\n",
    "m_S         = 39000.0     #mass of reactor steel\n",
    "\n",
    "c_pW        = 4.2      #sp heat cap coolant\n",
    "c_pS        = .47       #sp heat cap steel\n",
    "c_pF        = 3.0         #sp heat cap feed\n",
    "c_pR        = 5.0         #sp heat cap reactor contents\n",
    "\n",
    "k_WS        = 17280.0     #heat transfer coeff water-steel\n",
    "k_AS        = 3600.0      #heat transfer coeff monomer-steel\n",
    "k_PS        = 360.0       #heat transfer coeff product-steel\n",
    "\n",
    "alfa        = 5*20e4*3.6\n",
    "\n",
    "p_1         = 1.0"
   ]
  },
  {
   "cell_type": "markdown",
   "metadata": {},
   "source": [
    "and afterwards the uncertain parameters:"
   ]
  },
  {
   "cell_type": "code",
   "execution_count": 4,
   "metadata": {},
   "outputs": [],
   "source": [
    "# Uncertain parameters:\n",
    "delH_R = model.set_variable('_p', 'delH_R')\n",
    "k_0 =    model.set_variable('_p', 'k_0')"
   ]
  },
  {
   "cell_type": "markdown",
   "metadata": {},
   "source": [
    "The 10 states of the control problem are initialized via:"
   ]
  },
  {
   "cell_type": "code",
   "execution_count": 5,
   "metadata": {},
   "outputs": [],
   "source": [
    "# States struct (optimization variables):\n",
    "m_W =         model.set_variable('_x', 'm_W')\n",
    "m_A =         model.set_variable('_x', 'm_A')\n",
    "m_P =         model.set_variable('_x', 'm_P')\n",
    "T_R =         model.set_variable('_x', 'T_R')\n",
    "T_S =         model.set_variable('_x', 'T_S')\n",
    "Tout_M =      model.set_variable('_x', 'Tout_M')\n",
    "T_EK =        model.set_variable('_x', 'T_EK')\n",
    "Tout_AWT =    model.set_variable('_x', 'Tout_AWT')\n",
    "accum_monom = model.set_variable('_x', 'accum_monom')\n",
    "T_adiab =     model.set_variable('_x', 'T_adiab')"
   ]
  },
  {
   "cell_type": "markdown",
   "metadata": {},
   "source": [
    "and the control inputs via:"
   ]
  },
  {
   "cell_type": "code",
   "execution_count": 6,
   "metadata": {},
   "outputs": [],
   "source": [
    "# Input struct (optimization variables):\n",
    "m_dot_f = model.set_variable('_u', 'm_dot_f')\n",
    "T_in_M =  model.set_variable('_u', 'T_in_M')\n",
    "T_in_EK = model.set_variable('_u', 'T_in_EK')"
   ]
  },
  {
   "cell_type": "markdown",
   "metadata": {},
   "source": [
    "Before adding the ODE to each state variable, we define auxiliary terms:"
   ]
  },
  {
   "cell_type": "code",
   "execution_count": 7,
   "metadata": {},
   "outputs": [],
   "source": [
    "# algebraic equations\n",
    "U_m    = m_P / (m_A + m_P)\n",
    "m_ges  = m_W + m_A + m_P\n",
    "k_R1   = k_0 * exp(- E_a/(R*T_R)) * ((k_U1 * (1 - U_m)) + (k_U2 * U_m))\n",
    "k_R2   = k_0 * exp(- E_a/(R*T_EK))* ((k_U1 * (1 - U_m)) + (k_U2 * U_m))\n",
    "k_K    = ((m_W / m_ges) * k_WS) + ((m_A/m_ges) * k_AS) + ((m_P/m_ges) * k_PS)"
   ]
  },
  {
   "cell_type": "markdown",
   "metadata": {},
   "source": [
    "The auxiliary terms are used for the more readable definition of the ODEs:"
   ]
  },
  {
   "cell_type": "code",
   "execution_count": 8,
   "metadata": {},
   "outputs": [],
   "source": [
    "# Differential equations\n",
    "dot_m_W = m_dot_f * w_WF\n",
    "model.set_rhs('m_W', dot_m_W)\n",
    "dot_m_A = (m_dot_f * w_AF) - (k_R1 * (m_A-((m_A*m_AWT)/(m_W+m_A+m_P)))) - (p_1 * k_R2 * (m_A/m_ges) * m_AWT)\n",
    "model.set_rhs('m_A', dot_m_A)\n",
    "dot_m_P = (k_R1 * (m_A-((m_A*m_AWT)/(m_W+m_A+m_P)))) + (p_1 * k_R2 * (m_A/m_ges) * m_AWT)\n",
    "model.set_rhs('m_P', dot_m_P)\n",
    "\n",
    "dot_T_R = 1./(c_pR * m_ges)   * ((m_dot_f * c_pF * (T_F - T_R)) - (k_K *A_tank* (T_R - T_S)) - (fm_AWT * c_pR * (T_R - T_EK)) + (delH_R * k_R1 * (m_A-((m_A*m_AWT)/(m_W+m_A+m_P)))))\n",
    "model.set_rhs('T_R', dot_T_R)\n",
    "model.set_rhs('T_S', 1./(c_pS * m_S)     * ((k_K *A_tank* (T_R - T_S)) - (k_K *A_tank* (T_S - Tout_M))))\n",
    "model.set_rhs('Tout_M', 1./(c_pW * m_M_KW)  * ((fm_M_KW * c_pW * (T_in_M - Tout_M)) + (k_K *A_tank* (T_S - Tout_M))))\n",
    "model.set_rhs('T_EK', 1./(c_pR * m_AWT)   * ((fm_AWT * c_pR * (T_R - T_EK)) - (alfa * (T_EK - Tout_AWT)) + (p_1 * k_R2 * (m_A/m_ges) * m_AWT * delH_R)))\n",
    "model.set_rhs('Tout_AWT', 1./(c_pW * m_AWT_KW)* ((fm_AWT_KW * c_pW * (T_in_EK - Tout_AWT)) - (alfa * (Tout_AWT - T_EK))))\n",
    "model.set_rhs('accum_monom', m_dot_f)\n",
    "model.set_rhs('T_adiab', delH_R/(m_ges*c_pR)*dot_m_A-(dot_m_A+dot_m_W+dot_m_P)*(m_A*delH_R/(m_ges*m_ges*c_pR))+dot_T_R)"
   ]
  },
  {
   "cell_type": "markdown",
   "metadata": {},
   "source": [
    "Finally, the model setup is completed:"
   ]
  },
  {
   "cell_type": "code",
   "execution_count": 9,
   "metadata": {},
   "outputs": [],
   "source": [
    "# Build the model\n",
    "model.setup()"
   ]
  },
  {
   "cell_type": "markdown",
   "metadata": {},
   "source": [
    "## Controller\n"
   ]
  },
  {
   "cell_type": "markdown",
   "metadata": {},
   "source": [
    "Next, the model predictive controller is configured (in **template_mpc.py**).\n",
    "First, one member of the mpc class is generated with the prediction model defined above:"
   ]
  },
  {
   "cell_type": "code",
   "execution_count": null,
   "metadata": {},
   "outputs": [],
   "source": [
    "mpc = do_mpc.controller.MPC(model)"
   ]
  },
  {
   "cell_type": "markdown",
   "metadata": {},
   "source": [
    "We choose the prediction horizon `n_horizon`, set the robust horizon `n_robust` to 1. The time step `t_step` is set to one second and parameters of the applied discretization scheme orthogonal collocation are as seen below:"
   ]
  },
  {
   "cell_type": "code",
   "execution_count": null,
   "metadata": {},
   "outputs": [],
   "source": [
    "setup_mpc = {\n",
    "    'n_horizon': 20,\n",
    "    'n_robust': 1,\n",
    "    'open_loop': 0,\n",
    "    't_step': 0.005,\n",
    "    'state_discretization': 'collocation',\n",
    "    'collocation_type': 'radau',\n",
    "    'collocation_deg': 2,\n",
    "    'collocation_ni': 2,\n",
    "    'store_full_solution': True,\n",
    "    # Use MA27 linear solver in ipopt for faster calculations:\n",
    "    #'nlpsol_opts': {'ipopt.linear_solver': 'MA27'}\n",
    "}\n",
    "\n",
    "mpc.set_param(**setup_mpc)"
   ]
  },
  {
   "cell_type": "markdown",
   "metadata": {},
   "source": [
    "Because the magnitude of the states and inputs is very different, we introduce scaling factors:"
   ]
  },
  {
   "cell_type": "code",
   "execution_count": null,
   "metadata": {},
   "outputs": [],
   "source": [
    "mpc.scaling['_x', 'T_R'] = 100\n",
    "mpc.scaling['_x', 'T_K'] = 100\n",
    "mpc.scaling['_u', 'Q_dot'] = 2000\n",
    "mpc.scaling['_u', 'F'] = 100"
   ]
  },
  {
   "cell_type": "markdown",
   "metadata": {},
   "source": [
    "### Objective\n",
    "\n",
    "The goal of the CSTR is to obtain a mixture with a concentration of $C_{\\text{B,ref}} = 0.6$ mol/l.\n",
    "Additionally, we add a penalty on input changes for both control inputs, to obtain a smooth control performance."
   ]
  },
  {
   "cell_type": "code",
   "execution_count": null,
   "metadata": {},
   "outputs": [],
   "source": [
    "_x = model.x\n",
    "mterm = (_x['C_b'] - 0.6)**2 # terminal cost\n",
    "lterm = (_x['C_b'] - 0.6)**2 # stage cost\n",
    "\n",
    "mpc.set_objective(mterm=mterm, lterm=lterm)\n",
    "\n",
    "mpc.set_rterm(F=0.1, Q_dot = 1e-3) # input penalty"
   ]
  },
  {
   "cell_type": "markdown",
   "metadata": {},
   "source": [
    "### Constraints\n",
    "\n",
    "In the next step, the constraints of the control problem are set.\n",
    "In this case, there are only upper and lower bounds for each state and the input:"
   ]
  },
  {
   "cell_type": "code",
   "execution_count": null,
   "metadata": {},
   "outputs": [],
   "source": [
    "# lower bounds of the states\n",
    "mpc.bounds['lower', '_x', 'C_a'] = 0.1\n",
    "mpc.bounds['lower', '_x', 'C_b'] = 0.1\n",
    "mpc.bounds['lower', '_x', 'T_R'] = 50\n",
    "mpc.bounds['lower', '_x', 'T_K'] = 50\n",
    "\n",
    "# upper bounds of the states\n",
    "mpc.bounds['upper', '_x', 'C_a'] = 2\n",
    "mpc.bounds['upper', '_x', 'C_b'] = 2\n",
    "mpc.bounds['upper', '_x', 'T_K'] = 140\n",
    "\n",
    "# lower bounds of the inputs\n",
    "mpc.bounds['lower', '_u', 'F'] = 5\n",
    "mpc.bounds['lower', '_u', 'Q_dot'] = -8500\n",
    "\n",
    "# upper bounds of the inputs\n",
    "mpc.bounds['upper', '_u', 'F'] = 100\n",
    "mpc.bounds['upper', '_u', 'Q_dot'] = 0.0"
   ]
  },
  {
   "cell_type": "markdown",
   "metadata": {},
   "source": [
    "If a constraint is not critical, it is possible to implement it as a **soft** constraint.\n",
    "This means, that a small violation of the constraint does not render the optimization infeasible.\n",
    "Instead, a penalty term is added to the objective.\n",
    "**Soft** constraints can always be applied, if small violations can be accepted and it might even be necessary to apply MPC in a safe way (by avoiding avoiding numerical instabilities).\n",
    "In this case, we define the upper bounds of the reactor temperature as a **soft** constraint by using `mpc.set_nl_cons()`."
   ]
  },
  {
   "cell_type": "code",
   "execution_count": null,
   "metadata": {},
   "outputs": [],
   "source": [
    "mpc.set_nl_cons('T_R', _x['T_R'], ub=140, soft_constraint=True, penalty_term_cons=1e2)"
   ]
  },
  {
   "cell_type": "markdown",
   "metadata": {},
   "source": [
    "### Uncertain values\n",
    "\n",
    "The explicit values of the two uncertain parameters $\\alpha$ and $\\beta$, which are considered in the scenario tree, are given by:"
   ]
  },
  {
   "cell_type": "code",
   "execution_count": null,
   "metadata": {},
   "outputs": [],
   "source": [
    "alpha_var = np.array([1., 1.05, 0.95])\n",
    "beta_var = np.array([1., 1.1, 0.9])\n",
    "\n",
    "mpc.set_uncertainty_values([alpha_var, beta_var])"
   ]
  },
  {
   "cell_type": "markdown",
   "metadata": {},
   "source": [
    "This means with `n_robust=1`, that 9 different scenarios are considered.\n",
    "The setup of the MPC controller is concluded by:"
   ]
  },
  {
   "cell_type": "code",
   "execution_count": null,
   "metadata": {},
   "outputs": [],
   "source": [
    "mpc.setup()"
   ]
  },
  {
   "cell_type": "markdown",
   "metadata": {},
   "source": [
    "## Estimator\n",
    "\n",
    "We assume, that all states can be directly measured (state-feedback):"
   ]
  },
  {
   "cell_type": "code",
   "execution_count": null,
   "metadata": {},
   "outputs": [],
   "source": [
    "estimator = do_mpc.estimator.StateFeedback(model)"
   ]
  },
  {
   "cell_type": "markdown",
   "metadata": {},
   "source": [
    "## Simulator\n",
    "\n",
    "To create a simulator in order to run the MPC in a closed-loop, we create an instance of the **do-mpc** simulator which is based on the same model:"
   ]
  },
  {
   "cell_type": "code",
   "execution_count": null,
   "metadata": {},
   "outputs": [],
   "source": [
    "simulator = do_mpc.simulator.Simulator(model)"
   ]
  },
  {
   "cell_type": "markdown",
   "metadata": {},
   "source": [
    "For the simulation, we use the same time step `t_step` as for the optimizer:"
   ]
  },
  {
   "cell_type": "code",
   "execution_count": null,
   "metadata": {},
   "outputs": [],
   "source": [
    "params_simulator = {\n",
    "    'integration_tool': 'cvodes',\n",
    "    'abstol': 1e-10,\n",
    "    'reltol': 1e-10,\n",
    "    't_step': 0.005\n",
    "}\n",
    "\n",
    "simulator.set_param(**params_simulator)"
   ]
  },
  {
   "cell_type": "markdown",
   "metadata": {},
   "source": [
    "### Realizations of uncertain parameters\n",
    "\n",
    "For the simulatiom, it is necessary to define the numerical realizations of the uncertain parameters in `p_num` and the time-varying parameters in `tvp_num`.\n",
    "First, we get the structure of the uncertain and time-varying parameters:"
   ]
  },
  {
   "cell_type": "code",
   "execution_count": null,
   "metadata": {},
   "outputs": [],
   "source": [
    "p_num = simulator.get_p_template()\n",
    "tvp_num = simulator.get_tvp_template()"
   ]
  },
  {
   "cell_type": "markdown",
   "metadata": {},
   "source": [
    "We define two functions which are called in each simulation step, which return the current realizations of the parameters, with respect to defined inputs (in this case `t_now`):"
   ]
  },
  {
   "cell_type": "code",
   "execution_count": null,
   "metadata": {},
   "outputs": [],
   "source": [
    "# function for time-varying parameters\n",
    "def tvp_fun(t_now):\n",
    "    return tvp_num\n",
    "\n",
    "# uncertain parameters\n",
    "p_num['alpha'] = 1\n",
    "p_num['beta'] = 1\n",
    "def p_fun(t_now):\n",
    "    return p_num"
   ]
  },
  {
   "cell_type": "markdown",
   "metadata": {},
   "source": [
    "These two costum functions are used in the simulation via:"
   ]
  },
  {
   "cell_type": "code",
   "execution_count": null,
   "metadata": {},
   "outputs": [],
   "source": [
    "simulator.set_tvp_fun(tvp_fun)\n",
    "simulator.set_p_fun(p_fun)"
   ]
  },
  {
   "cell_type": "markdown",
   "metadata": {},
   "source": [
    "By defining `p_fun` as above, the function will always return the value 1.0 for both $\\alpha$ and $\\beta$.\n",
    "To finish the configuration of the simulator, call:"
   ]
  },
  {
   "cell_type": "code",
   "execution_count": null,
   "metadata": {},
   "outputs": [],
   "source": [
    "simulator.setup()"
   ]
  },
  {
   "cell_type": "markdown",
   "metadata": {},
   "source": [
    "## Closed-loop simulation\n",
    "\n",
    "For the simulation of the MPC configured for the CSTR, we inspect the file **main.py**.\n",
    "We define the initial state of the system and set it for all parts of the closed-loop configuration:"
   ]
  },
  {
   "cell_type": "code",
   "execution_count": null,
   "metadata": {},
   "outputs": [],
   "source": [
    "# Set the initial state of mpc, simulator and estimator:\n",
    "C_a_0 = 0.8 # This is the initial concentration inside the tank [mol/l]\n",
    "C_b_0 = 0.5 # This is the controlled variable [mol/l]\n",
    "T_R_0 = 134.14 #[C]\n",
    "T_K_0 = 130.0 #[C]\n",
    "x0 = np.array([C_a_0, C_b_0, T_R_0, T_K_0]).reshape(-1,1)\n",
    "\n",
    "mpc.x0 = x0\n",
    "simulator.x0 = x0\n",
    "estimator.x0 = x0\n",
    "\n",
    "mpc.set_initial_guess()"
   ]
  },
  {
   "cell_type": "markdown",
   "metadata": {},
   "source": [
    "Now, we simulate the closed-loop for 50 steps (and suppress the output of the cell with the magic command `%%capture`):"
   ]
  },
  {
   "cell_type": "code",
   "execution_count": null,
   "metadata": {},
   "outputs": [],
   "source": [
    "%%capture\n",
    "for k in range(50):\n",
    "    u0 = mpc.make_step(x0)\n",
    "    y_next = simulator.make_step(u0)\n",
    "    x0 = estimator.make_step(y_next)"
   ]
  },
  {
   "cell_type": "markdown",
   "metadata": {},
   "source": [
    "For the standard settings of this example, the results looks like this:"
   ]
  },
  {
   "cell_type": "markdown",
   "metadata": {},
   "source": [
    "![SegmentLocal](anim_CSTR.gif \"segment\")"
   ]
  }
 ],
 "metadata": {
  "kernelspec": {
   "display_name": "Python 3",
   "language": "python",
   "name": "python3"
  },
  "language_info": {
   "codemirror_mode": {
    "name": "ipython",
    "version": 3
   },
   "file_extension": ".py",
   "mimetype": "text/x-python",
   "name": "python",
   "nbconvert_exporter": "python",
   "pygments_lexer": "ipython3",
   "version": "3.6.8"
  },
  "toc": {
   "base_numbering": 1,
   "nav_menu": {},
   "number_sections": true,
   "sideBar": true,
   "skip_h1_title": false,
   "title_cell": "Table of Contents",
   "title_sidebar": "Contents",
   "toc_cell": false,
   "toc_position": {},
   "toc_section_display": true,
   "toc_window_display": false
  }
 },
 "nbformat": 4,
 "nbformat_minor": 2
}
