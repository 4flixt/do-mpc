{
 "cells": [
  {
   "cell_type": "markdown",
   "metadata": {
    "graffitiCellId": "id_bc3c8md"
   },
   "source": [
    "# Continuous stirred tank reactor (CSTR)\n",
    "\n",
    "In this Jupyter Notebook we illustrate the example **CSTR**.\n",
    "We start by importing basic modules and **do-mpc**."
   ]
  },
  {
   "cell_type": "code",
   "execution_count": null,
   "metadata": {
    "graffitiCellId": "id_8788z4b"
   },
   "outputs": [],
   "source": [
    "import numpy as np\n",
    "import sys\n",
    "from casadi import *\n",
    "\n",
    "# Add do_mpc to path. This is not necessary if it was installed via pip\n",
    "sys.path.append('../../../')\n",
    "\n",
    "# Import do_mpc package:\n",
    "import do_mpc\n",
    "\n",
    "import matplotlib.pyplot as plt\n",
    "import ipywidgets as widgets"
   ]
  },
  {
   "cell_type": "code",
   "execution_count": null,
   "metadata": {
    "graffitiCellId": "id_0crmard"
   },
   "outputs": [],
   "source": [
    "%matplotlib notebook"
   ]
  },
  {
   "cell_type": "markdown",
   "metadata": {
    "graffitiCellId": "id_exnedh2"
   },
   "source": [
    "## Model\n",
    "\n",
    "![Schematic_Model](./figures/Control_Loop_Model.svg)"
   ]
  },
  {
   "cell_type": "markdown",
   "metadata": {
    "graffitiCellId": "id_2kbj9d7"
   },
   "source": [
    "In the following we will present the configuration, setup and connection between these blocks, starting with the `model`.\n",
    "The considered model of the CSTR is continuous and has 4 states and 2 control inputs.\n",
    "The model is initiated by:"
   ]
  },
  {
   "cell_type": "code",
   "execution_count": null,
   "metadata": {
    "graffitiCellId": "id_bh4iii2"
   },
   "outputs": [],
   "source": [
    "model_type = 'continuous' # either 'discrete' or 'continuous'\n",
    "model = do_mpc.model.Model(model_type)"
   ]
  },
  {
   "cell_type": "markdown",
   "metadata": {
    "graffitiCellId": "id_fqgqtqf"
   },
   "source": [
    "### States and control inputs\n",
    "\n",
    "The four states are concentration of reactant A ($C_{\\text{A}}$), the concentration of reactant B ($C_{\\text{B}}$), the temperature inside the reactor ($T_{\\text{R}}$) and the temperature of the cooling jacket ($T_{\\text{K}}$):"
   ]
  },
  {
   "cell_type": "code",
   "execution_count": null,
   "metadata": {
    "graffitiCellId": "id_a4ji2fn"
   },
   "outputs": [],
   "source": [
    "# States struct (optimization variables):\n",
    "C_a = model.set_variable(var_type='_x', var_name='C_a', shape=(1,1))\n",
    "C_b = model.set_variable(var_type='_x', var_name='C_b', shape=(1,1))\n",
    "T_R = model.set_variable(var_type='_x', var_name='T_R', shape=(1,1))\n",
    "T_K = model.set_variable(var_type='_x', var_name='T_K', shape=(1,1))"
   ]
  },
  {
   "cell_type": "markdown",
   "metadata": {
    "graffitiCellId": "id_wml5rhd"
   },
   "source": [
    "The control inputs are the feed $F$ and the heat flow $\\dot{Q}$:"
   ]
  },
  {
   "cell_type": "code",
   "execution_count": null,
   "metadata": {
    "graffitiCellId": "id_g1gf4ji"
   },
   "outputs": [],
   "source": [
    "# Input struct (optimization variables):\n",
    "F = model.set_variable(var_type='_u', var_name='F')\n",
    "Q_dot = model.set_variable(var_type='_u', var_name='Q_dot')"
   ]
  },
  {
   "cell_type": "markdown",
   "metadata": {
    "graffitiCellId": "id_mr6098d"
   },
   "source": [
    "### ODE and parameters\n",
    "\n",
    "The system model is described by the ordinary differential equation:\n",
    "\n",
    "\\begin{align}\n",
    "\\dot{C}_{\\text{A}} &= F \\cdot (C_{\\text{A},0} - C_{\\text{A}}) - k_1 \\cdot C_{\\text{A}} - k_3 \\cdot C_{\\text{A}}^2, \\\\\n",
    "\\dot{C}_{\\text{B}} &= F \\cdot C_{\\text{B}} + k_1 \\cdot C_{\\text{A}} - k_2 \\cdot C_{\\text{B}}, \\\\\n",
    "\\dot{T}_{\\text{R}} &= \\frac{k_1 \\cdot C_{\\text{A}} \\cdot H_{\\text{R},ab} + k_2 \\cdot C_{\\text{B}} \\cdot  H_{\\text{R},bc} + k_3 \\cdot C_{\\text{A}}^2 \\cdot H_{\\text{R},ad}} {-\\rho \\cdot c_p}\\\\\n",
    "&+ F \\cdot (T_{\\text{in}} - T_{\\text{R}}) + \\frac{K_w \\cdot A_{\\text{R}} \\cdot(T_{\\text{K}}-T_{\\text{R}})}{\\rho \\cdot c_p \\cdot V_{\\text{R}}}, \\\\\n",
    "\\dot{T}_{\\text{K}} &= \\frac{\\dot{Q} + k_w \\cdot A_{\\text{R}} \\cdot T_{\\text{dif}}}{m_k \\cdot C_{p,k}},\n",
    "\\end{align}\n",
    "\n",
    "where\n",
    "\n",
    "\\begin{align}\n",
    "k_1 &= \\beta \\cdot k_{0,\\text{ab}} \\cdot \\exp\\left(\\frac{-E_{\\text{A},\\text{ab}}}{T_{\\text{R}}+273.15}\\right), \\\\\n",
    "k_1 &= k_{0,\\text{bc}} \\cdot \\exp \\left( \\frac{-E_{\\text{A},\\text{bc}}}{T_{\\text{R}}+273.15} \\right), \\\\\n",
    "k_3 &= k_{0,\\text{ad}} \\cdot \\exp \\left( \\frac{-\\alpha \\cdot E_{\\text{A},\\text{ad}}}{T_{\\text{R}}+273.15} \\right).\n",
    "\\end{align}\n",
    "\n",
    "The \n",
    "parameters $\\alpha$ and $\\beta$ are uncertain while the rest of the parameters is considered certain:"
   ]
  },
  {
   "cell_type": "code",
   "execution_count": null,
   "metadata": {
    "graffitiCellId": "id_zwxpege"
   },
   "outputs": [],
   "source": [
    "# Certain parameters\n",
    "K0_ab = 1.287e12 # K0 [h^-1]\n",
    "K0_bc = 1.287e12 # K0 [h^-1]\n",
    "K0_ad = 9.043e9 # K0 [l/mol.h]\n",
    "R_gas = 8.3144621e-3 # Universal gas constant\n",
    "E_A_ab = 9758.3*1.00 #* R_gas# [kj/mol]\n",
    "E_A_bc = 9758.3*1.00 #* R_gas# [kj/mol]\n",
    "E_A_ad = 8560.0*1.0 #* R_gas# [kj/mol]\n",
    "H_R_ab = 4.2 # [kj/mol A]\n",
    "H_R_bc = -11.0 # [kj/mol B] Exothermic\n",
    "H_R_ad = -41.85 # [kj/mol A] Exothermic\n",
    "Rou = 0.9342 # Density [kg/l]\n",
    "Cp = 3.01 # Specific Heat capacity [kj/Kg.K]\n",
    "Cp_k = 2.0 # Coolant heat capacity [kj/kg.k]\n",
    "A_R = 0.215 # Area of reactor wall [m^2]\n",
    "V_R = 10.01 #0.01 # Volume of reactor [l]\n",
    "m_k = 5.0 # Coolant mass[kg]\n",
    "T_in = 130.0 # Temp of inflow [Celsius]\n",
    "K_w = 4032.0 # [kj/h.m^2.K]\n",
    "C_A0 = (5.7+4.5)/2.0*1.0 # Concentration of A in input Upper bound 5.7 lower bound 4.5 [mol/l]\n",
    "\n",
    "# Uncertain parameters:\n",
    "alpha = model.set_variable(var_type='_p', var_name='alpha')\n",
    "beta = model.set_variable(var_type='_p', var_name='beta')\n",
    "\n",
    "# Time-varying parameters:\n",
    "T_in = model.set_variable(var_type='_tvp', var_name='T_in')"
   ]
  },
  {
   "cell_type": "markdown",
   "metadata": {
    "graffitiCellId": "id_hvsf4uh"
   },
   "source": [
    "In the next step, we formulate the $k_i$-s:"
   ]
  },
  {
   "cell_type": "code",
   "execution_count": null,
   "metadata": {
    "graffitiCellId": "id_idm5s2e"
   },
   "outputs": [],
   "source": [
    "# Auxiliary terms\n",
    "K_1 = beta * K0_ab * exp((-E_A_ab)/((T_R+273.15)))\n",
    "K_2 =  K0_bc * exp((-E_A_bc)/((T_R+273.15)))\n",
    "K_3 = K0_ad * exp((-alpha*E_A_ad)/((T_R+273.15)))"
   ]
  },
  {
   "cell_type": "markdown",
   "metadata": {
    "graffitiCellId": "id_j8o62on"
   },
   "source": [
    "Additionally, we define an artificial variable of interest, that is not a state of the system, but can be used later:"
   ]
  },
  {
   "cell_type": "code",
   "execution_count": null,
   "metadata": {
    "graffitiCellId": "id_w6w1uvi"
   },
   "outputs": [],
   "source": [
    "T_dif = model.set_expression(expr_name='T_dif', expr=T_R-T_K)"
   ]
  },
  {
   "cell_type": "markdown",
   "metadata": {
    "graffitiCellId": "id_zdpantu"
   },
   "source": [
    "WIth the help ot the $k_i$-s and $T_{\\text{dif}}$ we can define the ODEs:"
   ]
  },
  {
   "cell_type": "code",
   "execution_count": null,
   "metadata": {
    "graffitiCellId": "id_pp8c2sk"
   },
   "outputs": [],
   "source": [
    "model.set_rhs('C_a', F*(C_A0 - C_a) -K_1*C_a - K_3*(C_a**2))\n",
    "model.set_rhs('C_b', -F*C_b + K_1*C_a - K_2*C_b)\n",
    "model.set_rhs('T_R', ((K_1*C_a*H_R_ab + K_2*C_b*H_R_bc + K_3*(C_a**2)*H_R_ad)/(-Rou*Cp)) + F*(T_in-T_R) +(((K_w*A_R)*(-T_dif))/(Rou*Cp*V_R)))\n",
    "model.set_rhs('T_K', (Q_dot + K_w*A_R*(T_dif))/(m_k*Cp_k))"
   ]
  },
  {
   "cell_type": "markdown",
   "metadata": {
    "graffitiCellId": "id_z3q3mdd"
   },
   "source": [
    "We also define an additional time-varying parameter to be used in the controller. We aim to change the set-point for the concentration of $C_A$ and therefore introduce:"
   ]
  },
  {
   "cell_type": "code",
   "execution_count": null,
   "metadata": {
    "graffitiCellId": "id_3gh5fsj"
   },
   "outputs": [],
   "source": [
    "C_b_set = model.set_variable(var_type='_tvp', var_name='C_b_set')"
   ]
  },
  {
   "cell_type": "markdown",
   "metadata": {
    "graffitiCellId": "id_x6km9yt"
   },
   "source": [
    "Finally, the model setup is completed:"
   ]
  },
  {
   "cell_type": "code",
   "execution_count": null,
   "metadata": {
    "graffitiCellId": "id_ihgjysh"
   },
   "outputs": [],
   "source": [
    "# Build the model\n",
    "model.setup()"
   ]
  },
  {
   "cell_type": "markdown",
   "metadata": {
    "graffitiCellId": "id_xxneyg6"
   },
   "source": [
    "## Controller\n",
    "\n",
    "![Schematic_Model](./figures/Control_Loop_MPC.svg)"
   ]
  },
  {
   "cell_type": "markdown",
   "metadata": {
    "graffitiCellId": "id_3jggl7s"
   },
   "source": [
    "Next, the model predictive controller is configured.\n",
    "First, one member of the mpc class is generated with the prediction model defined above:"
   ]
  },
  {
   "cell_type": "code",
   "execution_count": null,
   "metadata": {
    "graffitiCellId": "id_25415rc"
   },
   "outputs": [],
   "source": [
    "mpc = do_mpc.controller.MPC(model)"
   ]
  },
  {
   "cell_type": "markdown",
   "metadata": {
    "graffitiCellId": "id_hnt00k8"
   },
   "source": [
    "We choose the prediction horizon `n_horizon`, set the robust horizon `n_robust` to 1. The time step `t_step` is set to one second and parameters of the applied discretization scheme orthogonal collocation are as seen below:"
   ]
  },
  {
   "cell_type": "code",
   "execution_count": null,
   "metadata": {
    "graffitiCellId": "id_nfuqszx"
   },
   "outputs": [],
   "source": [
    "setup_mpc = {\n",
    "    'n_horizon': 20,\n",
    "    'n_robust': 0,\n",
    "    'open_loop': 0,\n",
    "    't_step': 0.005,\n",
    "    'state_discretization': 'collocation',\n",
    "    'collocation_type': 'radau',\n",
    "    'collocation_deg': 2,\n",
    "    'collocation_ni': 2,\n",
    "    'store_full_solution': True,\n",
    "    # Use MA27 linear solver in ipopt for faster calculations:\n",
    "    'nlpsol_opts': {'ipopt.linear_solver': 'MA27'}\n",
    "}\n",
    "\n",
    "mpc.set_param(**setup_mpc)"
   ]
  },
  {
   "cell_type": "markdown",
   "metadata": {
    "graffitiCellId": "id_f8xfsh5"
   },
   "source": [
    "Because the magnitude of the states and inputs is very different, we introduce scaling factors:"
   ]
  },
  {
   "cell_type": "code",
   "execution_count": null,
   "metadata": {
    "graffitiCellId": "id_stunk2d"
   },
   "outputs": [],
   "source": [
    "mpc.scaling['_x', 'T_R'] = 100\n",
    "mpc.scaling['_x', 'T_K'] = 100\n",
    "mpc.scaling['_u', 'Q_dot'] = 2000\n",
    "mpc.scaling['_u', 'F'] = 100"
   ]
  },
  {
   "cell_type": "markdown",
   "metadata": {
    "graffitiCellId": "id_cg6kmb2"
   },
   "source": [
    "### Objective\n",
    "\n",
    "The goal of the CSTR is to obtain a mixture with a set concentration of $C_{\\text{B,set}}$. The concrete value will change over time, which is why we use the previously defined time-varying parameters as a placeholder here.\n",
    "Additionally, we add a penalty on input changes for both control inputs, to obtain a smooth control performance."
   ]
  },
  {
   "cell_type": "code",
   "execution_count": null,
   "metadata": {
    "graffitiCellId": "id_zmrfj8i"
   },
   "outputs": [],
   "source": [
    "mterm = (model.x['C_b'] - model.tvp['C_b_set'])**2 # terminal cost\n",
    "lterm = (model.x['C_b'] - model.tvp['C_b_set'])**2 # stage cost\n",
    "\n",
    "mpc.set_objective(mterm=mterm, lterm=lterm)\n",
    "\n",
    "mpc.set_rterm(F=0.1, Q_dot = 1e-3) # input penalty"
   ]
  },
  {
   "cell_type": "markdown",
   "metadata": {
    "graffitiCellId": "id_4v8o9zj"
   },
   "source": [
    "### Constraints\n",
    "\n",
    "In the next step, the constraints of the control problem are set.\n",
    "In this case, there are only upper and lower bounds for each state and the input:"
   ]
  },
  {
   "cell_type": "code",
   "execution_count": null,
   "metadata": {
    "graffitiCellId": "id_3ay3x1s"
   },
   "outputs": [],
   "source": [
    "# lower bounds of the states\n",
    "mpc.bounds['lower', '_x', 'C_a'] = 0.1\n",
    "mpc.bounds['lower', '_x', 'C_b'] = 0.1\n",
    "mpc.bounds['lower', '_x', 'T_R'] = 50\n",
    "mpc.bounds['lower', '_x', 'T_K'] = 50\n",
    "\n",
    "# upper bounds of the states\n",
    "mpc.bounds['upper', '_x', 'C_a'] = 2\n",
    "mpc.bounds['upper', '_x', 'C_b'] = 2\n",
    "mpc.bounds['upper', '_x', 'T_K'] = 140\n",
    "\n",
    "# lower bounds of the inputs\n",
    "mpc.bounds['lower', '_u', 'F'] = 5\n",
    "mpc.bounds['lower', '_u', 'Q_dot'] = -8500\n",
    "\n",
    "# upper bounds of the inputs\n",
    "mpc.bounds['upper', '_u', 'F'] = 100\n",
    "mpc.bounds['upper', '_u', 'Q_dot'] = 0.0"
   ]
  },
  {
   "cell_type": "markdown",
   "metadata": {
    "graffitiCellId": "id_broau8p"
   },
   "source": [
    "If a constraint is not critical, it is possible to implement it as a **soft** constraint.\n",
    "This means, that a small violation of the constraint does not render the optimization infeasible.\n",
    "Instead, a penalty term is added to the objective.\n",
    "**Soft** constraints can always be applied, if small violations can be accepted and it might even be necessary to apply MPC in a safe way (by avoiding avoiding numerical instabilities).\n",
    "In this case, we define the upper bounds of the reactor temperature as a **soft** constraint by using `mpc.set_nl_cons()`."
   ]
  },
  {
   "cell_type": "code",
   "execution_count": null,
   "metadata": {
    "graffitiCellId": "id_tccvrvi"
   },
   "outputs": [],
   "source": [
    "mpc.set_nl_cons('T_R', model.x['T_R'], ub=140, soft_constraint=True, penalty_term_cons=1e2)"
   ]
  },
  {
   "cell_type": "markdown",
   "metadata": {
    "graffitiCellId": "id_kexvpx4"
   },
   "source": [
    "### Time-varying parameters\n",
    "\n",
    "The control objective is to track a certain concentration for the product $C_b$ for which we have introduced in the model the time-varying parameter ``C_b_set``. During runtime, we must choose concrete values for this parameter. \n",
    "\n",
    "The same holds for the inlet temperature ``T_in``, for which we assume a known profile`\n",
    "\n",
    "Setting values to time-varying parameters is **a two-step process**: First, we obtain a structure that is based on our model definition and then we pass a function that is called at each controller iteration and which changes values in this structure."
   ]
  },
  {
   "cell_type": "code",
   "execution_count": null,
   "metadata": {
    "graffitiCellId": "id_ybjestc"
   },
   "outputs": [],
   "source": [
    "tvp_struct_mpc = mpc.get_tvp_template()"
   ]
  },
  {
   "cell_type": "markdown",
   "metadata": {
    "graffitiCellId": "id_j2t3x5o"
   },
   "source": [
    "To understand this structure better, it helps to query the ``labels``:"
   ]
  },
  {
   "cell_type": "code",
   "execution_count": null,
   "metadata": {
    "graffitiCellId": "id_zg669p5"
   },
   "outputs": [],
   "source": [
    "tvp_struct_mpc.labels()[:5]"
   ]
  },
  {
   "cell_type": "markdown",
   "metadata": {
    "graffitiCellId": "id_11aj3zf"
   },
   "source": [
    "By default all values in this structure are initialized with zero:"
   ]
  },
  {
   "cell_type": "code",
   "execution_count": null,
   "metadata": {
    "graffitiCellId": "id_qxspk64"
   },
   "outputs": [],
   "source": [
    "tvp_struct_mpc['_tvp',0,'T_in']"
   ]
  },
  {
   "cell_type": "markdown",
   "metadata": {
    "graffitiCellId": "id_8pcb7n5"
   },
   "source": [
    "Let's set some better default values:"
   ]
  },
  {
   "cell_type": "code",
   "execution_count": null,
   "metadata": {
    "graffitiCellId": "id_fw3k99w"
   },
   "outputs": [],
   "source": [
    "tvp_struct_mpc['_tvp',:,'T_in'] = 130"
   ]
  },
  {
   "cell_type": "markdown",
   "metadata": {
    "graffitiCellId": "id_2wnuqvo"
   },
   "source": [
    "We now want to set new values for all indices of the structure at each iteration. For this purpose we need to define a function that takes as input the current time and returns as output the structure:\n",
    "\n",
    "```python\n",
    "def tvp_fun_mpc(t_now):\n",
    "    # Set values of tvp_struct_mpc\n",
    "    \n",
    "    return tvp_struct_mpc\n",
    "```"
   ]
  },
  {
   "cell_type": "markdown",
   "metadata": {
    "graffitiCellId": "id_71hf715"
   },
   "source": [
    "This time we create a more complex ``tvp_fun``:"
   ]
  },
  {
   "cell_type": "code",
   "execution_count": null,
   "metadata": {
    "graffitiCellId": "id_eex5lfs"
   },
   "outputs": [],
   "source": [
    "# More complex tvp function:\n",
    "def tvp_fun_mpc(t_now):\n",
    "    ...\n",
    "    \n",
    "    return tvp_struct_mpc"
   ]
  },
  {
   "cell_type": "markdown",
   "metadata": {
    "graffitiCellId": "id_db5a8p3"
   },
   "source": [
    "<span class=\"graffiti-highlight graffiti-id_db5a8p3-id_r90jkhc\"><i></i><button>Show Solution</button></span>"
   ]
  },
  {
   "cell_type": "markdown",
   "metadata": {
    "graffitiCellId": "id_c66priw"
   },
   "source": [
    "Finally, we need to pass the newly created function to the MPC instance:"
   ]
  },
  {
   "cell_type": "code",
   "execution_count": null,
   "metadata": {
    "graffitiCellId": "id_twpz14t"
   },
   "outputs": [],
   "source": [
    "mpc.set_tvp_fun(tvp_fun_mpc)"
   ]
  },
  {
   "cell_type": "markdown",
   "metadata": {
    "graffitiCellId": "id_t2hleuw"
   },
   "source": [
    "### Uncertain values\n",
    "\n",
    "The explicit values of the two uncertain parameters $\\alpha$ and $\\beta$, which are considered in the scenario tree, are given by:"
   ]
  },
  {
   "cell_type": "code",
   "execution_count": null,
   "metadata": {
    "graffitiCellId": "id_c6z2nlq"
   },
   "outputs": [],
   "source": [
    "mpc.set_uncertainty_values(alpha = [1], beta = [1])"
   ]
  },
  {
   "cell_type": "markdown",
   "metadata": {
    "graffitiCellId": "id_eo8lsz9"
   },
   "source": [
    "This means with `n_robust=1`, that 9 different scenarios are considered.\n",
    "The setup of the MPC controller is concluded by:"
   ]
  },
  {
   "cell_type": "code",
   "execution_count": null,
   "metadata": {
    "graffitiCellId": "id_rmvp0ha"
   },
   "outputs": [],
   "source": [
    "mpc.setup()"
   ]
  },
  {
   "cell_type": "markdown",
   "metadata": {
    "graffitiCellId": "id_ob1aecd"
   },
   "source": [
    "## Estimator\n",
    "\n",
    "![Schematic_Model](./figures/Control_Loop_Estim.svg)\n",
    "\n",
    "We assume, that all states can be directly measured (state-feedback):"
   ]
  },
  {
   "cell_type": "code",
   "execution_count": null,
   "metadata": {
    "graffitiCellId": "id_vgcitic"
   },
   "outputs": [],
   "source": [
    "estimator = do_mpc.estimator.StateFeedback(model)"
   ]
  },
  {
   "cell_type": "markdown",
   "metadata": {
    "graffitiCellId": "id_43so21i"
   },
   "source": [
    "## Simulator\n",
    "\n",
    "![Schematic_Model](./figures/Control_Loop_Simulator.svg)\n",
    "\n",
    "To create a simulator in order to run the MPC in a closed-loop, we create an instance of the **do-mpc** simulator which is based on the same model:"
   ]
  },
  {
   "cell_type": "code",
   "execution_count": null,
   "metadata": {
    "graffitiCellId": "id_5z3wyv2"
   },
   "outputs": [],
   "source": [
    "simulator = do_mpc.simulator.Simulator(model)"
   ]
  },
  {
   "cell_type": "markdown",
   "metadata": {
    "graffitiCellId": "id_s3y1iso"
   },
   "source": [
    "For the simulation, we use the same time step `t_step` as for the optimizer:"
   ]
  },
  {
   "cell_type": "code",
   "execution_count": null,
   "metadata": {
    "graffitiCellId": "id_amfxt7q"
   },
   "outputs": [],
   "source": [
    "params_simulator = {\n",
    "    'integration_tool': 'cvodes',\n",
    "    'abstol': 1e-10,\n",
    "    'reltol': 1e-10,\n",
    "    't_step': 0.005\n",
    "}\n",
    "\n",
    "simulator.set_param(**params_simulator)"
   ]
  },
  {
   "cell_type": "markdown",
   "metadata": {
    "graffitiCellId": "id_5jsu7ad"
   },
   "source": [
    "### Realizations of uncertain parameters\n",
    "\n",
    "For the simulation, it is necessary to define the numerical realizations of the uncertain parameters in `p_struct_sim` and the time-varying parameters in `tvp_struct_sim`.\n",
    "This works similar but not identical as for the MPC controller. \n",
    "The main difference is that the simulator is always evaluated with exact values of the uncertain parameters and only needs a single time-varying parameter (instead of a trajectory covering the prediction horizon).\n",
    "\n",
    "First, we get the structure of the uncertain and time-varying parameters:"
   ]
  },
  {
   "cell_type": "code",
   "execution_count": null,
   "metadata": {
    "graffitiCellId": "id_wlxsgca"
   },
   "outputs": [],
   "source": [
    "p_struct_sim = simulator.get_p_template()\n",
    "tvp_struct_sim = simulator.get_tvp_template()"
   ]
  },
  {
   "cell_type": "markdown",
   "metadata": {
    "graffitiCellId": "id_igql0fn"
   },
   "source": [
    "We define two functions which are called in each simulation step, which return the current realizations of the parameters, with respect to defined inputs (in this case `t_now`).\n",
    "\n",
    "Note that the struct for the time-varying parameters contains the setpoint ``C_b_set``. This parameter has no influence on the simulator and thus we don't need to change the dafault value of zero."
   ]
  },
  {
   "cell_type": "code",
   "execution_count": null,
   "metadata": {
    "graffitiCellId": "id_f10ektd"
   },
   "outputs": [],
   "source": [
    "# function for time-varying parameters\n",
    "tvp_struct_sim['T_in'] = 130\n",
    "\n",
    "def tvp_fun(t_now):\n",
    "    return tvp_struct_sim\n",
    "\n",
    "# uncertain parameters\n",
    "p_struct_sim['alpha'] = 1\n",
    "p_struct_sim['beta'] = 1\n",
    "def p_fun(t_now):\n",
    "    return p_struct_sim"
   ]
  },
  {
   "cell_type": "markdown",
   "metadata": {
    "graffitiCellId": "id_oazjvqn"
   },
   "source": [
    "These two custum functions are used in the simulation via:"
   ]
  },
  {
   "cell_type": "code",
   "execution_count": null,
   "metadata": {
    "graffitiCellId": "id_fr6777k"
   },
   "outputs": [],
   "source": [
    "simulator.set_tvp_fun(tvp_fun)\n",
    "simulator.set_p_fun(p_fun)"
   ]
  },
  {
   "cell_type": "markdown",
   "metadata": {
    "graffitiCellId": "id_drdgi17"
   },
   "source": [
    "By defining `p_fun` as above, the function will always return the value 1.0 for both $\\alpha$ and $\\beta$.\n",
    "To finish the configuration of the simulator, call:"
   ]
  },
  {
   "cell_type": "code",
   "execution_count": null,
   "metadata": {
    "graffitiCellId": "id_6u960pk"
   },
   "outputs": [],
   "source": [
    "simulator.setup()"
   ]
  },
  {
   "cell_type": "markdown",
   "metadata": {
    "graffitiCellId": "id_igpzu22"
   },
   "source": [
    "## Closed-loop simulation\n",
    "\n",
    "![Schematic_Model](./figures/Control_Loop_Loop.svg)\n",
    "\n",
    "For the simulation of the MPC configured for the CSTR, we inspect the file **main.py**.\n",
    "We define the initial state of the system and set it for all parts of the closed-loop configuration:"
   ]
  },
  {
   "cell_type": "code",
   "execution_count": null,
   "metadata": {
    "graffitiCellId": "id_mt7r5rk"
   },
   "outputs": [],
   "source": [
    "mpc.x0['C_a'] = 0.8 # This is the initial concentration inside the tank [mol/l]\n",
    "mpc.x0['C_b'] = 0.5 # This is the controlled variable [mol/l]\n",
    "mpc.x0['T_R'] = 130 #[C]\n",
    "mpc.x0['T_K'] = 130 #[C]\n",
    "\n",
    "x0 = mpc.x0\n",
    "\n",
    "simulator.x0 = x0\n",
    "estimator.x0 = x0\n",
    "\n",
    "mpc.set_initial_guess()"
   ]
  },
  {
   "cell_type": "markdown",
   "metadata": {
    "graffitiCellId": "id_j40gqt1"
   },
   "source": [
    "Now, we simulate the closed-loop for 50 steps (and suppress the output of the cell with the magic command `%%capture`):"
   ]
  },
  {
   "cell_type": "code",
   "execution_count": null,
   "metadata": {
    "graffitiCellId": "id_2nk12ol"
   },
   "outputs": [],
   "source": [
    "np.random.seed(99)\n",
    "\n",
    "N_sim = 70\n",
    "for k in range(N_sim):\n",
    "    u0 = mpc.make_step(x0)\n",
    "    y_next = simulator.make_step(u0)\n",
    "    x0 = estimator.make_step(y_next)"
   ]
  },
  {
   "cell_type": "markdown",
   "metadata": {
    "graffitiCellId": "id_4twwsx4"
   },
   "source": [
    "## Animating the results"
   ]
  },
  {
   "cell_type": "markdown",
   "metadata": {
    "graffitiCellId": "id_cdkrkql"
   },
   "source": [
    "We quickly configure Matplotlib."
   ]
  },
  {
   "cell_type": "code",
   "execution_count": null,
   "metadata": {
    "graffitiCellId": "id_reybmur"
   },
   "outputs": [],
   "source": [
    "from matplotlib import rcParams\n",
    "rcParams['axes.grid'] = True\n",
    "rcParams['font.size'] = 12"
   ]
  },
  {
   "cell_type": "markdown",
   "metadata": {
    "graffitiCellId": "id_8q2flo2"
   },
   "source": [
    "We then create a figure, configure which lines to plot on which axis and add labels."
   ]
  },
  {
   "cell_type": "code",
   "execution_count": null,
   "metadata": {
    "graffitiCellId": "id_cezz9ep",
    "scrolled": false
   },
   "outputs": [],
   "source": [
    "mpc_graphics = do_mpc.graphics.Graphics(mpc.data)\n",
    "\n",
    "fig, ax = plt.subplots(5, sharex=True, figsize=(9,7))\n",
    "# Configure plot:\n",
    "mpc_graphics.add_line(var_type='_x', var_name='C_a', axis=ax[0], label='C_a')\n",
    "mpc_graphics.add_line(var_type='_x', var_name='C_b', axis=ax[0])\n",
    "mpc_graphics.add_line(var_type='_tvp', var_name='C_b_set', axis=ax[0], color='k')\n",
    "mpc_graphics.add_line(var_type='_x', var_name='T_R', axis=ax[1])\n",
    "mpc_graphics.add_line(var_type='_x', var_name='T_K', axis=ax[1])\n",
    "mpc_graphics.add_line(var_type='_aux', var_name='T_dif', axis=ax[2])\n",
    "mpc_graphics.add_line(var_type='_u', var_name='Q_dot', axis=ax[3])\n",
    "mpc_graphics.add_line(var_type='_u', var_name='F', axis=ax[4])\n",
    "ax[0].set_ylabel('c [mol/l]')\n",
    "ax[1].set_ylabel('T [K]')\n",
    "ax[2].set_ylabel('T_dif [K]')\n",
    "ax[3].set_ylabel('Q [kW]')\n",
    "ax[4].set_ylabel('Flow [l/h]')\n",
    "ax[4].set_xlabel('time [h]')\n",
    "\n",
    "# Plot constraint\n",
    "ax[1].axhline(132,linestyle='--',color='r')\n",
    "\n",
    "# Add labels\n",
    "ax[0].legend()\n",
    "label_lines = []\n",
    "label_lines += mpc_graphics.result_lines['_x', 'C_a']\n",
    "label_lines += mpc_graphics.result_lines['_x', 'C_b']\n",
    "label_lines += mpc_graphics.result_lines['_tvp', 'C_b_set']\n",
    "\n",
    "ax[0].legend(label_lines, ['C_a', 'C_b', 'C_b_set'])\n",
    "label_lines = mpc_graphics.result_lines['_x', 'T_R']+mpc_graphics.result_lines['_x', 'T_K']\n",
    "ax[1].legend(label_lines, ['T_R', 'T_K'])\n",
    "\n",
    "fig.align_ylabels()"
   ]
  },
  {
   "cell_type": "code",
   "execution_count": null,
   "metadata": {
    "graffitiCellId": "id_w35mmll"
   },
   "outputs": [],
   "source": [
    "def plot_anim(t_ind=0):\n",
    "    mpc_graphics.plot_results(t_ind=t_ind)\n",
    "    mpc_graphics.plot_predictions(t_ind=t_ind)\n",
    "    mpc_graphics.reset_axes()\n",
    "widgets.interact(plot_anim,\n",
    "        t_ind = widgets.IntSlider(value=0,min=0,max=N_sim-1)\n",
    "        )"
   ]
  },
  {
   "cell_type": "code",
   "execution_count": null,
   "metadata": {
    "graffitiCellId": "id_91052yw"
   },
   "outputs": [],
   "source": []
  }
 ],
 "metadata": {
  "graffiti": {
   "firstAuthorId": "dev",
   "id": "id_pi79b1i",
   "language": "EN"
  },
  "kernelspec": {
   "display_name": "Python 3",
   "language": "python",
   "name": "python3"
  },
  "language_info": {
   "codemirror_mode": {
    "name": "ipython",
    "version": 3
   },
   "file_extension": ".py",
   "mimetype": "text/x-python",
   "name": "python",
   "nbconvert_exporter": "python",
   "pygments_lexer": "ipython3",
   "version": "3.8.5"
  },
  "toc": {
   "base_numbering": 1,
   "nav_menu": {},
   "number_sections": true,
   "sideBar": true,
   "skip_h1_title": false,
   "title_cell": "Table of Contents",
   "title_sidebar": "Contents",
   "toc_cell": false,
   "toc_position": {},
   "toc_section_display": true,
   "toc_window_display": false
  }
 },
 "nbformat": 4,
 "nbformat_minor": 2
}
