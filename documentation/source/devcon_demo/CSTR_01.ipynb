{
 "cells": [
  {
   "cell_type": "markdown",
   "metadata": {
    "graffitiCellId": "id_m1yrhy7"
   },
   "source": [
    "# Continuous stirred tank reactor (CSTR)\n",
    "\n",
    "In this Jupyter Notebook we illustrate the example **CSTR**.\n",
    "We start by importing basic modules and **do-mpc**."
   ]
  },
  {
   "cell_type": "code",
   "execution_count": null,
   "metadata": {
    "graffitiCellId": "id_e9votbh"
   },
   "outputs": [],
   "source": [
    "import numpy as np\n",
    "import sys\n",
    "from casadi import *\n",
    "\n",
    "# Add do_mpc to path. This is not necessary if it was installed via pip\n",
    "sys.path.append('../../../')\n",
    "\n",
    "# Import do_mpc package:\n",
    "import do_mpc\n",
    "\n",
    "import matplotlib.pyplot as plt\n",
    "import ipywidgets as widgets"
   ]
  },
  {
   "cell_type": "code",
   "execution_count": null,
   "metadata": {
    "graffitiCellId": "id_pejvnbg"
   },
   "outputs": [],
   "source": [
    "%matplotlib notebook"
   ]
  },
  {
   "cell_type": "markdown",
   "metadata": {
    "graffitiCellId": "id_lulb242"
   },
   "source": [
    "## Model"
   ]
  },
  {
   "cell_type": "markdown",
   "metadata": {
    "graffitiCellId": "id_imy4b1e"
   },
   "source": [
    "![Schematic_Model](./figures/Control_Loop_Model.svg)"
   ]
  },
  {
   "cell_type": "markdown",
   "metadata": {
    "graffitiCellId": "id_1bdk6lj"
   },
   "source": [
    "In the following we will present the configuration, setup and connection between these blocks, starting with the `model`.\n",
    "The considered model of the CSTR is continuous and has 4 states and 2 control inputs.\n",
    "The model is initiated by:"
   ]
  },
  {
   "cell_type": "code",
   "execution_count": null,
   "metadata": {
    "graffitiCellId": "id_pescmii"
   },
   "outputs": [],
   "source": [
    "# Initiate model and declare type"
   ]
  },
  {
   "cell_type": "markdown",
   "metadata": {
    "graffitiCellId": "id_e1ywjss"
   },
   "source": [
    "<span class=\"graffiti-highlight graffiti-id_e1ywjss-id_uxeqftb\"><i></i><button>Show Solution</button></span>"
   ]
  },
  {
   "cell_type": "markdown",
   "metadata": {
    "graffitiCellId": "id_8y14cpd"
   },
   "source": [
    "### States and control inputs\n",
    "\n",
    "The four states are concentration of reactant A ($C_{\\text{A}}$), the concentration of reactant B ($C_{\\text{B}}$), the temperature inside the reactor ($T_{\\text{R}}$) and the temperature of the cooling jacket ($T_{\\text{K}}$):"
   ]
  },
  {
   "cell_type": "code",
   "execution_count": null,
   "metadata": {
    "graffitiCellId": "id_j26xdm8"
   },
   "outputs": [],
   "source": [
    "# Define states"
   ]
  },
  {
   "cell_type": "markdown",
   "metadata": {
    "graffitiCellId": "id_6bgfa0u"
   },
   "source": [
    "<span class=\"graffiti-highlight graffiti-id_6bgfa0u-id_8f79cnv\"><i></i><button>Show Solution</button></span>"
   ]
  },
  {
   "cell_type": "markdown",
   "metadata": {
    "graffitiCellId": "id_9f48t4j"
   },
   "source": [
    "The control inputs are the feed $F$ and the heat flow $\\dot{Q}$:"
   ]
  },
  {
   "cell_type": "code",
   "execution_count": null,
   "metadata": {
    "graffitiCellId": "id_8qs425d"
   },
   "outputs": [],
   "source": [
    "# Define inputs"
   ]
  },
  {
   "cell_type": "markdown",
   "metadata": {
    "graffitiCellId": "id_rjkvxf5"
   },
   "source": [
    "<span class=\"graffiti-highlight graffiti-id_rjkvxf5-id_68evc2q\"><i></i><button>Show Solution</button></span>"
   ]
  },
  {
   "cell_type": "markdown",
   "metadata": {
    "graffitiCellId": "id_mgl84ru"
   },
   "source": [
    "### ODE and parameters\n",
    "\n",
    "The system model is described by the ordinary differential equation:\n",
    "\n",
    "\\begin{align}\n",
    "\\dot{C}_{\\text{A}} &= F \\cdot (C_{\\text{A},0} - C_{\\text{A}}) - k_1 \\cdot C_{\\text{A}} - k_3 \\cdot C_{\\text{A}}^2, \\\\\n",
    "\\dot{C}_{\\text{B}} &= F \\cdot C_{\\text{B}} + k_1 \\cdot C_{\\text{A}} - k_2 \\cdot C_{\\text{B}}, \\\\\n",
    "\\dot{T}_{\\text{R}} &= \\frac{k_1 \\cdot C_{\\text{A}} \\cdot H_{\\text{R},ab} + k_2 \\cdot C_{\\text{B}} \\cdot  H_{\\text{R},bc} + k_3 \\cdot C_{\\text{A}}^2 \\cdot H_{\\text{R},ad}} {-\\rho \\cdot c_p}\\\\\n",
    "&+ F \\cdot (T_{\\text{in}} - T_{\\text{R}}) + \\frac{K_w \\cdot A_{\\text{R}} \\cdot(T_{\\text{K}}-T_{\\text{R}})}{\\rho \\cdot c_p \\cdot V_{\\text{R}}}, \\\\\n",
    "\\dot{T}_{\\text{K}} &= \\frac{\\dot{Q} + k_w \\cdot A_{\\text{R}} \\cdot T_{\\text{dif}}}{m_k \\cdot C_{p,k}},\n",
    "\\end{align}\n",
    "\n",
    "where\n",
    "\n",
    "\\begin{align}\n",
    "k_1 &= \\beta \\cdot k_{0,\\text{ab}} \\cdot \\exp\\left(\\frac{-E_{\\text{A},\\text{ab}}}{T_{\\text{R}}+273.15}\\right), \\\\\n",
    "k_1 &= k_{0,\\text{bc}} \\cdot \\exp \\left( \\frac{-E_{\\text{A},\\text{bc}}}{T_{\\text{R}}+273.15} \\right), \\\\\n",
    "k_3 &= k_{0,\\text{ad}} \\cdot \\exp \\left( \\frac{-\\alpha \\cdot E_{\\text{A},\\text{ad}}}{T_{\\text{R}}+273.15} \\right).\n",
    "\\end{align}\n",
    "\n",
    "The \n",
    "parameters $\\alpha$ and $\\beta$ are uncertain while the rest of the parameters is considered certain:"
   ]
  },
  {
   "cell_type": "code",
   "execution_count": null,
   "metadata": {
    "graffitiCellId": "id_wiin9i4"
   },
   "outputs": [],
   "source": [
    "# Certain parameters\n",
    "K0_ab = 1.287e12 # K0 [h^-1]\n",
    "K0_bc = 1.287e12 # K0 [h^-1]\n",
    "K0_ad = 9.043e9 # K0 [l/mol.h]\n",
    "R_gas = 8.3144621e-3 # Universal gas constant\n",
    "E_A_ab = 9758.3*1.00 #* R_gas# [kj/mol]\n",
    "E_A_bc = 9758.3*1.00 #* R_gas# [kj/mol]\n",
    "E_A_ad = 8560.0*1.0 #* R_gas# [kj/mol]\n",
    "H_R_ab = 4.2 # [kj/mol A]\n",
    "H_R_bc = -11.0 # [kj/mol B] Exothermic\n",
    "H_R_ad = -41.85 # [kj/mol A] Exothermic\n",
    "Rou = 0.9342 # Density [kg/l]\n",
    "Cp = 3.01 # Specific Heat capacity [kj/Kg.K]\n",
    "Cp_k = 2.0 # Coolant heat capacity [kj/kg.k]\n",
    "A_R = 0.215 # Area of reactor wall [m^2]\n",
    "V_R = 10.01 #0.01 # Volume of reactor [l]\n",
    "m_k = 5.0 # Coolant mass[kg]\n",
    "T_in = 130.0 # Temp of inflow [Celsius]\n",
    "K_w = 4032.0 # [kj/h.m^2.K]\n",
    "C_A0 = (5.7+4.5)/2.0*1.0 # Concentration of A in input Upper bound 5.7 lower bound 4.5 [mol/l]"
   ]
  },
  {
   "cell_type": "code",
   "execution_count": null,
   "metadata": {
    "graffitiCellId": "id_byyzzvt"
   },
   "outputs": [],
   "source": [
    "# Define uncertain parameters:"
   ]
  },
  {
   "cell_type": "markdown",
   "metadata": {
    "graffitiCellId": "id_6hjehiz"
   },
   "source": [
    "<span class=\"graffiti-highlight graffiti-id_6hjehiz-id_waxck4u\"><i></i><button>Show Solution</button></span>"
   ]
  },
  {
   "cell_type": "code",
   "execution_count": null,
   "metadata": {
    "graffitiCellId": "id_uxqzvwp"
   },
   "outputs": [],
   "source": [
    "# Define time-varying parameters:"
   ]
  },
  {
   "cell_type": "markdown",
   "metadata": {
    "graffitiCellId": "id_obqfvdl"
   },
   "source": [
    "<span class=\"graffiti-highlight graffiti-id_obqfvdl-id_uj247dh\"><i></i><button>Show Solution</button></span>"
   ]
  },
  {
   "cell_type": "markdown",
   "metadata": {
    "graffitiCellId": "id_b3k1bfo"
   },
   "source": [
    "Compute reaction rate from fixed and uncertain parameters:"
   ]
  },
  {
   "cell_type": "code",
   "execution_count": null,
   "metadata": {
    "graffitiCellId": "id_y6qwhy4"
   },
   "outputs": [],
   "source": [
    "# Auxiliary terms\n",
    "K_1 = beta * K0_ab * exp((-E_A_ab)/((T_R+273.15)))\n",
    "K_2 =  K0_bc * exp((-E_A_bc)/((T_R+273.15)))\n",
    "K_3 = K0_ad * exp((-alpha*E_A_ad)/((T_R+273.15)))"
   ]
  },
  {
   "cell_type": "markdown",
   "metadata": {
    "graffitiCellId": "id_fgaq586"
   },
   "source": [
    "Additionally, we define an artificial variable of interest, that is not a state of the system, but can be used later:"
   ]
  },
  {
   "cell_type": "code",
   "execution_count": null,
   "metadata": {
    "graffitiCellId": "id_skbabc5"
   },
   "outputs": [],
   "source": [
    "# Define T_dif as auxiliary expression"
   ]
  },
  {
   "cell_type": "markdown",
   "metadata": {
    "graffitiCellId": "id_3m8jb9y"
   },
   "source": [
    "<span class=\"graffiti-highlight graffiti-id_3m8jb9y-id_71komti\"><i></i><button>Show Solution</button></span>"
   ]
  },
  {
   "cell_type": "markdown",
   "metadata": {
    "graffitiCellId": "id_7j3sivg"
   },
   "source": [
    "Formulate the right-hand-side of the ordinary differential equations:"
   ]
  },
  {
   "cell_type": "code",
   "execution_count": null,
   "metadata": {
    "graffitiCellId": "id_1w0olwt"
   },
   "outputs": [],
   "source": [
    "# Set rhs"
   ]
  },
  {
   "cell_type": "markdown",
   "metadata": {
    "graffitiCellId": "id_rdlgtbx"
   },
   "source": [
    "<span class=\"graffiti-highlight graffiti-id_rdlgtbx-id_djsdcf4\"><i></i><button>Show Solution</button></span>"
   ]
  },
  {
   "cell_type": "markdown",
   "metadata": {
    "graffitiCellId": "id_3q35zrb"
   },
   "source": [
    "Finally, the model setup is completed:"
   ]
  },
  {
   "cell_type": "code",
   "execution_count": null,
   "metadata": {
    "graffitiCellId": "id_5ngy283"
   },
   "outputs": [],
   "source": [
    "# Build the model\n",
    "model.setup()"
   ]
  },
  {
   "cell_type": "markdown",
   "metadata": {
    "graffitiCellId": "id_2u2ckux"
   },
   "source": [
    "## Controller\n"
   ]
  },
  {
   "cell_type": "markdown",
   "metadata": {
    "graffitiCellId": "id_v7ydirt"
   },
   "source": [
    "![Schematic_Model](./figures/Control_Loop_MPC.svg)"
   ]
  },
  {
   "cell_type": "markdown",
   "metadata": {
    "graffitiCellId": "id_1p7itvt"
   },
   "source": [
    "Next, the model predictive controller is configured.\n",
    "First, one member of the mpc class is generated with the prediction model defined above:"
   ]
  },
  {
   "cell_type": "code",
   "execution_count": null,
   "metadata": {
    "graffitiCellId": "id_iebxe5x"
   },
   "outputs": [],
   "source": [
    "# Initiate MPC controller"
   ]
  },
  {
   "cell_type": "markdown",
   "metadata": {
    "graffitiCellId": "id_ez19tf6"
   },
   "source": [
    "<span class=\"graffiti-highlight graffiti-id_ez19tf6-id_lqesdur\"><i></i><button>Show Solution</button></span>"
   ]
  },
  {
   "cell_type": "markdown",
   "metadata": {
    "graffitiCellId": "id_qv439ug"
   },
   "source": [
    "We choose the prediction horizon `n_horizon`. The time step `t_step` is set to approx. 20 seconds (in hours) and parameters of the applied discretization scheme orthogonal collocation are as seen below:"
   ]
  },
  {
   "cell_type": "code",
   "execution_count": null,
   "metadata": {
    "graffitiCellId": "id_0lxuo0b"
   },
   "outputs": [],
   "source": [
    "# Configure MPC settings"
   ]
  },
  {
   "cell_type": "markdown",
   "metadata": {
    "graffitiCellId": "id_fw34qyt"
   },
   "source": [
    "<span class=\"graffiti-highlight graffiti-id_fw34qyt-id_lxc8c8b\"><i></i><button>Show Solution</button></span>"
   ]
  },
  {
   "cell_type": "markdown",
   "metadata": {
    "graffitiCellId": "id_vzb9yn6"
   },
   "source": [
    "Because the magnitude of the states and inputs is very different, we introduce scaling factors:"
   ]
  },
  {
   "cell_type": "code",
   "execution_count": null,
   "metadata": {
    "graffitiCellId": "id_rq71v7y"
   },
   "outputs": [],
   "source": [
    "# Scaling"
   ]
  },
  {
   "cell_type": "markdown",
   "metadata": {
    "graffitiCellId": "id_svtueh5"
   },
   "source": [
    "<span class=\"graffiti-highlight graffiti-id_svtueh5-id_orshyao\"><i></i><button>Show Solution</button></span>"
   ]
  },
  {
   "cell_type": "markdown",
   "metadata": {
    "graffitiCellId": "id_ly0pgir"
   },
   "source": [
    "### Objective\n",
    "\n",
    "The goal of the CSTR is to obtain a mixture with a set concentration of $C_{\\text{B,set}}$. The concrete value will change over time, which is why we use the previously defined time-varying parameters as a placeholder here.\n",
    "Additionally, we add a penalty on input changes for both control inputs, to obtain a smooth control performance."
   ]
  },
  {
   "cell_type": "code",
   "execution_count": null,
   "metadata": {
    "graffitiCellId": "id_uiuy044"
   },
   "outputs": [],
   "source": [
    "# Define control objective"
   ]
  },
  {
   "cell_type": "markdown",
   "metadata": {
    "graffitiCellId": "id_5a0cnzm"
   },
   "source": [
    "<span class=\"graffiti-highlight graffiti-id_5a0cnzm-id_33eph4v\"><i></i><button>Show Solution</button></span>"
   ]
  },
  {
   "cell_type": "markdown",
   "metadata": {
    "graffitiCellId": "id_cn12kox"
   },
   "source": [
    "### Constraints\n",
    "\n",
    "In the next step, the constraints of the control problem are set.\n",
    "In this case, there are only upper and lower bounds for each state and the input:"
   ]
  },
  {
   "cell_type": "code",
   "execution_count": null,
   "metadata": {
    "graffitiCellId": "id_ik6r1w0"
   },
   "outputs": [],
   "source": [
    "# Set bounds"
   ]
  },
  {
   "cell_type": "markdown",
   "metadata": {
    "graffitiCellId": "id_9te64tk"
   },
   "source": [
    "<span class=\"graffiti-highlight graffiti-id_9te64tk-id_9811jlp\"><i></i><button>Show Solution</button></span>"
   ]
  },
  {
   "cell_type": "markdown",
   "metadata": {
    "graffitiCellId": "id_n64s5qq"
   },
   "source": [
    "If a constraint is not critical, it is possible to implement it as a **soft** constraint.\n",
    "This means, that a small violation of the constraint does not render the optimization infeasible.\n",
    "Instead, a penalty term is added to the objective.\n",
    "**Soft** constraints can always be applied, if small violations can be accepted and it might even be necessary to apply MPC in a safe way (by avoiding avoiding numerical instabilities).\n",
    "In this case, we define the upper bounds of the reactor temperature as a **soft** constraint by using `mpc.set_nl_cons()`."
   ]
  },
  {
   "cell_type": "code",
   "execution_count": null,
   "metadata": {
    "graffitiCellId": "id_pkxd2p5"
   },
   "outputs": [],
   "source": [
    "# Set soft-constraint"
   ]
  },
  {
   "cell_type": "markdown",
   "metadata": {
    "graffitiCellId": "id_bsb16t1"
   },
   "source": [
    "<span class=\"graffiti-highlight graffiti-id_bsb16t1-id_5zlfzcv\"><i></i><button>Show Solution</button></span>"
   ]
  },
  {
   "cell_type": "markdown",
   "metadata": {
    "graffitiCellId": "id_fx367kv"
   },
   "source": [
    "### Time-varying parameters\n",
    "\n",
    "The control objective is to track a certain concentration for the product $C_b$ for which we have introduced in the model the time-varying parameter ``C_b_set``. During runtime, we must choose concrete values for this parameter. \n",
    "\n",
    "The same holds for the inlet temperature ``T_in``, for which we assume a known profile`\n",
    "\n",
    "Setting values to time-varying parameters is **a two-step process**: First, we obtain a structure that is based on our model definition and then we pass a function that is called at each controller iteration and which changes values in this structure."
   ]
  },
  {
   "cell_type": "code",
   "execution_count": null,
   "metadata": {
    "graffitiCellId": "id_hmlhk1t"
   },
   "outputs": [],
   "source": [
    "# Get tvp template:"
   ]
  },
  {
   "cell_type": "markdown",
   "metadata": {
    "graffitiCellId": "id_cjzl0zj"
   },
   "source": [
    "<span class=\"graffiti-highlight graffiti-id_cjzl0zj-id_bsl6d66\"><i></i><button>Show Solution</button></span>"
   ]
  },
  {
   "cell_type": "markdown",
   "metadata": {
    "graffitiCellId": "id_f0n6dme"
   },
   "source": [
    "To understand this structure better, it helps to query the ``labels``:"
   ]
  },
  {
   "cell_type": "code",
   "execution_count": null,
   "metadata": {
    "graffitiCellId": "id_db5q01e"
   },
   "outputs": [],
   "source": [
    "tvp_struct_mpc.labels()[:5]"
   ]
  },
  {
   "cell_type": "markdown",
   "metadata": {
    "graffitiCellId": "id_hsj6bts"
   },
   "source": [
    "By default all values in this structure are initialized with zero:"
   ]
  },
  {
   "cell_type": "code",
   "execution_count": null,
   "metadata": {
    "graffitiCellId": "id_4fr969v"
   },
   "outputs": [],
   "source": [
    "tvp_struct_mpc['_tvp',0,'T_in']"
   ]
  },
  {
   "cell_type": "markdown",
   "metadata": {
    "graffitiCellId": "id_cm810b6"
   },
   "source": [
    "Let's set some better default values:"
   ]
  },
  {
   "cell_type": "code",
   "execution_count": null,
   "metadata": {
    "graffitiCellId": "id_ly90d1v"
   },
   "outputs": [],
   "source": [
    "tvp_struct_mpc['_tvp',:,'T_in'] = 130"
   ]
  },
  {
   "cell_type": "markdown",
   "metadata": {
    "graffitiCellId": "id_m059tk8"
   },
   "source": [
    "We now want to set new values for all indices of the structure at each iteration. For this purpose we need to define a function that takes as input the current time and returns as output the structure:\n",
    "\n",
    "```python\n",
    "def tvp_fun_mpc(t_now):\n",
    "    # Set values of tvp_struct_mpc\n",
    "    \n",
    "    return tvp_struct_mpc\n",
    "```"
   ]
  },
  {
   "cell_type": "code",
   "execution_count": null,
   "metadata": {
    "graffitiCellId": "id_mj6sl2p"
   },
   "outputs": [],
   "source": [
    "# Define tvp function"
   ]
  },
  {
   "cell_type": "markdown",
   "metadata": {
    "graffitiCellId": "id_rifrtlt"
   },
   "source": [
    "<span class=\"graffiti-highlight graffiti-id_rifrtlt-id_r4pihee\"><i></i><button>Show Solution</button></span>"
   ]
  },
  {
   "cell_type": "markdown",
   "metadata": {
    "graffitiCellId": "id_h17bs26"
   },
   "source": [
    "Finally, we need to pass the newly created function to the MPC instance:"
   ]
  },
  {
   "cell_type": "code",
   "execution_count": null,
   "metadata": {
    "graffitiCellId": "id_stwgowr"
   },
   "outputs": [],
   "source": [
    "# Pass tvp function to mpc instance"
   ]
  },
  {
   "cell_type": "markdown",
   "metadata": {
    "graffitiCellId": "id_a7z37ja"
   },
   "source": [
    "<span class=\"graffiti-highlight graffiti-id_a7z37ja-id_1kb0gx2\"><i></i><button>Show Solution</button></span>"
   ]
  },
  {
   "cell_type": "markdown",
   "metadata": {
    "graffitiCellId": "id_2lqv9uv"
   },
   "source": [
    "### Uncertain values\n",
    "\n",
    "The explicit values of the two uncertain parameters $\\alpha$ and $\\beta$, which are considered in the scenario tree, are given by:"
   ]
  },
  {
   "cell_type": "code",
   "execution_count": null,
   "metadata": {
    "graffitiCellId": "id_uk4riae"
   },
   "outputs": [],
   "source": [
    "# Set uncertainty values"
   ]
  },
  {
   "cell_type": "markdown",
   "metadata": {
    "graffitiCellId": "id_s78cjyt"
   },
   "source": [
    "<span class=\"graffiti-highlight graffiti-id_s78cjyt-id_dhb3edz\"><i></i><button>Show Solution</button></span>"
   ]
  },
  {
   "cell_type": "markdown",
   "metadata": {
    "graffitiCellId": "id_deeb3jl"
   },
   "source": [
    "The setup of the MPC controller is concluded by:"
   ]
  },
  {
   "cell_type": "code",
   "execution_count": null,
   "metadata": {
    "graffitiCellId": "id_5mjkmw9"
   },
   "outputs": [],
   "source": [
    "mpc.setup()"
   ]
  },
  {
   "cell_type": "markdown",
   "metadata": {
    "graffitiCellId": "id_ry46omu"
   },
   "source": [
    "## Estimator\n",
    "\n",
    "![Schematic_Model](./figures/Control_Loop_Estim.svg)\n",
    "\n",
    "We assume, that all states can be directly measured (state-feedback):"
   ]
  },
  {
   "cell_type": "code",
   "execution_count": null,
   "metadata": {
    "graffitiCellId": "id_yyxqqhi"
   },
   "outputs": [],
   "source": [
    "estimator = do_mpc.estimator.StateFeedback(model)"
   ]
  },
  {
   "cell_type": "markdown",
   "metadata": {
    "graffitiCellId": "id_kusz2oc"
   },
   "source": [
    "## Simulator\n",
    "\n",
    "![Schematic_Model](./figures/Control_Loop_Simulator.svg)\n",
    "\n",
    "To create a simulator in order to run the MPC in a closed-loop, we create an instance of the **do-mpc** simulator which is based on the same model:"
   ]
  },
  {
   "cell_type": "code",
   "execution_count": null,
   "metadata": {
    "graffitiCellId": "id_aihy2zn"
   },
   "outputs": [],
   "source": [
    "simulator = do_mpc.simulator.Simulator(model)"
   ]
  },
  {
   "cell_type": "markdown",
   "metadata": {
    "graffitiCellId": "id_pox351h"
   },
   "source": [
    "For the simulation, we use the same time step `t_step` as for the optimizer:"
   ]
  },
  {
   "cell_type": "code",
   "execution_count": null,
   "metadata": {
    "graffitiCellId": "id_7s5c1ju"
   },
   "outputs": [],
   "source": [
    "params_simulator = {\n",
    "    'integration_tool': 'cvodes',\n",
    "    'abstol': 1e-10,\n",
    "    'reltol': 1e-10,\n",
    "    't_step': 0.005\n",
    "}\n",
    "\n",
    "simulator.set_param(**params_simulator)"
   ]
  },
  {
   "cell_type": "markdown",
   "metadata": {
    "graffitiCellId": "id_hnvcq5o"
   },
   "source": [
    "### Realizations of uncertain parameters\n",
    "\n",
    "For the simulation, it is necessary to define the numerical realizations of the uncertain parameters in `p_struct_sim` and the time-varying parameters in `tvp_struct_sim`.\n",
    "This works similar but not identical as for the MPC controller. \n",
    "The main difference is that the simulator is always evaluated with exact values of the uncertain parameters and only needs a single time-varying parameter (instead of a trajectory covering the prediction horizon).\n",
    "\n",
    "First, we get the structure of the uncertain and time-varying parameters:"
   ]
  },
  {
   "cell_type": "code",
   "execution_count": null,
   "metadata": {
    "graffitiCellId": "id_tn6lbmz"
   },
   "outputs": [],
   "source": [
    "# Get structures for parameters and time-varying parameters"
   ]
  },
  {
   "cell_type": "markdown",
   "metadata": {
    "graffitiCellId": "id_urd1eiu"
   },
   "source": [
    "<span class=\"graffiti-highlight graffiti-id_urd1eiu-id_ct98zw5\"><i></i><button>Show Solution</button></span>"
   ]
  },
  {
   "cell_type": "markdown",
   "metadata": {
    "graffitiCellId": "id_v46kqfs"
   },
   "source": [
    "We define two functions which are called in each simulation step, which return the current realizations of the parameters, with respect to defined inputs (in this case `t_now`).\n",
    "\n",
    "Note that the struct for the time-varying parameters contains the setpoint ``C_b_set``. This parameter has no influence on the simulator and thus we don't need to change the dafault value of zero."
   ]
  },
  {
   "cell_type": "code",
   "execution_count": null,
   "metadata": {
    "graffitiCellId": "id_r848ftu"
   },
   "outputs": [],
   "source": [
    "# Define tvp and p fun"
   ]
  },
  {
   "cell_type": "markdown",
   "metadata": {
    "graffitiCellId": "id_u0gooyc"
   },
   "source": [
    "<span class=\"graffiti-highlight graffiti-id_u0gooyc-id_qlt2034\"><i></i><button>Show Solution</button></span>"
   ]
  },
  {
   "cell_type": "markdown",
   "metadata": {
    "graffitiCellId": "id_y0habqv"
   },
   "source": [
    "These two custum functions are used in the simulation via:"
   ]
  },
  {
   "cell_type": "code",
   "execution_count": null,
   "metadata": {
    "graffitiCellId": "id_dokxkzs"
   },
   "outputs": [],
   "source": [
    "simulator.set_tvp_fun(tvp_fun)\n",
    "simulator.set_p_fun(p_fun)"
   ]
  },
  {
   "cell_type": "markdown",
   "metadata": {
    "graffitiCellId": "id_ynqwebc"
   },
   "source": [
    "By defining `p_fun` as above, the function will always return the value 1.0 for both $\\alpha$ and $\\beta$.\n",
    "To finish the configuration of the simulator, call:"
   ]
  },
  {
   "cell_type": "code",
   "execution_count": null,
   "metadata": {
    "graffitiCellId": "id_ifo4tq8"
   },
   "outputs": [],
   "source": [
    "simulator.setup()"
   ]
  },
  {
   "cell_type": "markdown",
   "metadata": {
    "graffitiCellId": "id_7hszwv1"
   },
   "source": [
    "## Closed-loop simulation\n",
    "\n",
    "![Schematic_Model](./figures/Control_Loop_Loop.svg)\n",
    "\n",
    "For the simulation of the MPC configured for the CSTR, we inspect the file **main.py**.\n",
    "We define the initial state of the system and set it for all parts of the closed-loop configuration:"
   ]
  },
  {
   "cell_type": "code",
   "execution_count": null,
   "metadata": {
    "graffitiCellId": "id_rqjl45o"
   },
   "outputs": [],
   "source": [
    "# Set initial state (for all modules) and initial guess for MPC"
   ]
  },
  {
   "cell_type": "markdown",
   "metadata": {
    "graffitiCellId": "id_98jpupz"
   },
   "source": [
    "<span class=\"graffiti-highlight graffiti-id_98jpupz-id_kthx0wh\"><i></i><button>Show Solution</button></span>"
   ]
  },
  {
   "cell_type": "markdown",
   "metadata": {
    "graffitiCellId": "id_j025q4h"
   },
   "source": [
    "Now, we simulate the closed-loop for 50 steps (and suppress the output of the cell with the magic command `%%capture`):"
   ]
  },
  {
   "cell_type": "code",
   "execution_count": null,
   "metadata": {
    "graffitiCellId": "id_bkx1rww"
   },
   "outputs": [],
   "source": [
    "# Run main-loop"
   ]
  },
  {
   "cell_type": "markdown",
   "metadata": {
    "graffitiCellId": "id_3vmfg0f"
   },
   "source": [
    "<span class=\"graffiti-highlight graffiti-id_3vmfg0f-id_d0ixs74\"><i></i><button>Show Solution</button></span>"
   ]
  },
  {
   "cell_type": "markdown",
   "metadata": {
    "graffitiCellId": "id_rojssfq"
   },
   "source": [
    "## Animating the results\n"
   ]
  },
  {
   "cell_type": "markdown",
   "metadata": {
    "graffitiCellId": "id_4h9nbnz"
   },
   "source": [
    "We quickly configure Matplotlib."
   ]
  },
  {
   "cell_type": "code",
   "execution_count": null,
   "metadata": {
    "graffitiCellId": "id_64mn04o"
   },
   "outputs": [],
   "source": [
    "from matplotlib import rcParams\n",
    "rcParams['axes.grid'] = True\n",
    "rcParams['font.size'] = 12"
   ]
  },
  {
   "cell_type": "markdown",
   "metadata": {
    "graffitiCellId": "id_1swdxj2"
   },
   "source": [
    "Create a simple plot to quickly check the results"
   ]
  },
  {
   "cell_type": "code",
   "execution_count": null,
   "metadata": {
    "graffitiCellId": "id_70gexlh"
   },
   "outputs": [],
   "source": [
    "# Default plot"
   ]
  },
  {
   "cell_type": "markdown",
   "metadata": {
    "graffitiCellId": "id_zoakkyw"
   },
   "source": [
    "<span class=\"graffiti-highlight graffiti-id_zoakkyw-id_5277fbx\"><i></i><button>Show Solution</button></span>"
   ]
  },
  {
   "cell_type": "markdown",
   "metadata": {
    "graffitiCellId": "id_2zrccnk"
   },
   "source": [
    "To configure a more complex and custom plot we can use the ``do_mpc.graphics.Graphics`` class."
   ]
  },
  {
   "cell_type": "code",
   "execution_count": null,
   "metadata": {
    "graffitiCellId": "id_y16pa5w"
   },
   "outputs": [],
   "source": [
    "mpc_graphics = do_mpc.graphics.Graphics(mpc.data)\n",
    "\n",
    "fig, ax = plt.subplots(5, sharex=True, figsize=(9,7))\n",
    "# Add lines ..."
   ]
  },
  {
   "cell_type": "markdown",
   "metadata": {
    "graffitiCellId": "id_8k8de90"
   },
   "source": [
    "<span class=\"graffiti-highlight graffiti-id_8k8de90-id_clvrorm\"><i></i><button>Show Solution</button></span>"
   ]
  },
  {
   "cell_type": "markdown",
   "metadata": {
    "graffitiCellId": "id_5cfysy1"
   },
   "source": [
    "Use Ipython widgets to animate the plot"
   ]
  },
  {
   "cell_type": "code",
   "execution_count": null,
   "metadata": {
    "graffitiCellId": "id_tutb0aj",
    "scrolled": false
   },
   "outputs": [],
   "source": [
    "def plot_anim(t_ind=0):\n",
    "    mpc_graphics.plot_results(t_ind=t_ind)\n",
    "    mpc_graphics.plot_predictions(t_ind=t_ind)\n",
    "    mpc_graphics.reset_axes() \n",
    "widgets.interact(plot_anim,\n",
    "        t_ind = widgets.IntSlider(value=0,min=0,max=N_sim-1)\n",
    "        )\n"
   ]
  }
 ],
 "metadata": {
  "graffiti": {
   "firstAuthorId": "dev",
   "id": "id_fr104wg",
   "language": "EN"
  },
  "kernelspec": {
   "display_name": "Python 3",
   "language": "python",
   "name": "python3"
  },
  "language_info": {
   "codemirror_mode": {
    "name": "ipython",
    "version": 3
   },
   "file_extension": ".py",
   "mimetype": "text/x-python",
   "name": "python",
   "nbconvert_exporter": "python",
   "pygments_lexer": "ipython3",
   "version": "3.8.5"
  },
  "toc": {
   "base_numbering": 1,
   "nav_menu": {},
   "number_sections": true,
   "sideBar": true,
   "skip_h1_title": false,
   "title_cell": "Table of Contents",
   "title_sidebar": "Contents",
   "toc_cell": false,
   "toc_position": {},
   "toc_section_display": true,
   "toc_window_display": false
  }
 },
 "nbformat": 4,
 "nbformat_minor": 2
}
