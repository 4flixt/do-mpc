{
 "cells": [
  {
   "cell_type": "markdown",
   "metadata": {
    "graffitiCellId": "id_m1yrhy7"
   },
   "source": [
    "# Continuous stirred tank reactor (CSTR)\n",
    "\n",
    "In this Jupyter Notebook we illustrate the example **CSTR**.\n",
    "We start by importing basic modules and **do-mpc**."
   ]
  },
  {
   "cell_type": "code",
   "execution_count": 1,
   "metadata": {
    "graffitiCellId": "id_e9votbh"
   },
   "outputs": [],
   "source": [
    "import numpy as np\n",
    "import sys\n",
    "from casadi import *\n",
    "\n",
    "# Add do_mpc to path. This is not necessary if it was installed via pip\n",
    "sys.path.append('../../../')\n",
    "\n",
    "# Import do_mpc package:\n",
    "import do_mpc\n",
    "\n",
    "import matplotlib.pyplot as plt\n",
    "import ipywidgets as widgets"
   ]
  },
  {
   "cell_type": "code",
   "execution_count": 2,
   "metadata": {
    "graffitiCellId": "id_pejvnbg"
   },
   "outputs": [],
   "source": [
    "%matplotlib notebook"
   ]
  },
  {
   "cell_type": "markdown",
   "metadata": {
    "graffitiCellId": "id_lulb242"
   },
   "source": [
    "## Model"
   ]
  },
  {
   "cell_type": "markdown",
   "metadata": {
    "graffitiCellId": "id_1bdk6lj"
   },
   "source": [
    "In the following we will present the configuration, setup and connection between these blocks, starting with the `model`.\n",
    "The considered model of the CSTR is continuous and has 4 states and 2 control inputs.\n",
    "The model is initiated by:"
   ]
  },
  {
   "cell_type": "code",
   "execution_count": 3,
   "metadata": {
    "graffitiCellId": "id_pescmii"
   },
   "outputs": [],
   "source": [
    "# Initiate model and declare type"
   ]
  },
  {
   "cell_type": "markdown",
   "metadata": {
    "graffitiCellId": "id_e1ywjss"
   },
   "source": [
    "<span class=\"graffiti-highlight graffiti-id_e1ywjss-id_uxeqftb\"><i></i><button>Show Solution</button></span>"
   ]
  },
  {
   "cell_type": "markdown",
   "metadata": {
    "graffitiCellId": "id_5vmednx"
   },
   "source": [
    "Schematic diagram of CSTR system:\n",
    "\n",
    "![CSTR_schematic](CSTR.pdf)"
   ]
  },
  {
   "cell_type": "markdown",
   "metadata": {
    "graffitiCellId": "id_8y14cpd"
   },
   "source": [
    "### States and control inputs\n",
    "\n",
    "The four states are concentration of reactant A ($C_{\\text{A}}$), the concentration of reactant B ($C_{\\text{B}}$), the temperature inside the reactor ($T_{\\text{R}}$) and the temperature of the cooling jacket ($T_{\\text{K}}$):"
   ]
  },
  {
   "cell_type": "code",
   "execution_count": null,
   "metadata": {
    "graffitiCellId": "id_j26xdm8"
   },
   "outputs": [],
   "source": [
    "# Define states"
   ]
  },
  {
   "cell_type": "markdown",
   "metadata": {
    "graffitiCellId": "id_6bgfa0u"
   },
   "source": [
    "<span class=\"graffiti-highlight graffiti-id_6bgfa0u-id_8f79cnv\"><i></i><button>Hide Solution</button></span>"
   ]
  },
  {
   "cell_type": "code",
   "execution_count": 5,
   "metadata": {
    "graffitiCellId": "id_8f79cnv"
   },
   "outputs": [],
   "source": [
    "# States struct (optimization variables):\n",
    "C_a = model.set_variable(var_type='_x', var_name='C_a', shape=(1,1))\n",
    "C_b = model.set_variable(var_type='_x', var_name='C_b', shape=(1,1))\n",
    "T_R = model.set_variable(var_type='_x', var_name='T_R', shape=(1,1))\n",
    "T_K = model.set_variable(var_type='_x', var_name='T_K', shape=(1,1))"
   ]
  },
  {
   "cell_type": "markdown",
   "metadata": {
    "graffitiCellId": "id_9f48t4j"
   },
   "source": [
    "The control inputs are the feed $F$ and the heat flow $\\dot{Q}$:"
   ]
  },
  {
   "cell_type": "code",
   "execution_count": 6,
   "metadata": {
    "graffitiCellId": "id_8qs425d"
   },
   "outputs": [],
   "source": [
    "# Define inputs"
   ]
  },
  {
   "cell_type": "markdown",
   "metadata": {
    "graffitiCellId": "id_rjkvxf5"
   },
   "source": [
    "<span class=\"graffiti-highlight graffiti-id_rjkvxf5-id_68evc2q\"><i></i><button>Hide Solution</button></span>"
   ]
  },
  {
   "cell_type": "code",
   "execution_count": 7,
   "metadata": {
    "graffitiCellId": "id_68evc2q"
   },
   "outputs": [],
   "source": [
    "# Input struct (optimization variables):\n",
    "F = model.set_variable(var_type='_u', var_name='F')\n",
    "Q_dot = model.set_variable(var_type='_u', var_name='Q_dot')"
   ]
  },
  {
   "cell_type": "markdown",
   "metadata": {
    "graffitiCellId": "id_mgl84ru"
   },
   "source": [
    "### ODE and parameters\n",
    "\n",
    "The system model is described by the ordinary differential equation:\n",
    "\n",
    "\\begin{align}\n",
    "\\dot{C}_{\\text{A}} &= F \\cdot (C_{\\text{A},0} - C_{\\text{A}}) - k_1 \\cdot C_{\\text{A}} - k_3 \\cdot C_{\\text{A}}^2, \\\\\n",
    "\\dot{C}_{\\text{B}} &= F \\cdot C_{\\text{B}} + k_1 \\cdot C_{\\text{A}} - k_2 \\cdot C_{\\text{B}}, \\\\\n",
    "\\dot{T}_{\\text{R}} &= \\frac{k_1 \\cdot C_{\\text{A}} \\cdot H_{\\text{R},ab} + k_2 \\cdot C_{\\text{B}} \\cdot  H_{\\text{R},bc} + k_3 \\cdot C_{\\text{A}}^2 \\cdot H_{\\text{R},ad}} {-\\rho \\cdot c_p}\\\\\n",
    "&+ F \\cdot (T_{\\text{in}} - T_{\\text{R}}) + \\frac{K_w \\cdot A_{\\text{R}} \\cdot(T_{\\text{K}}-T_{\\text{R}})}{\\rho \\cdot c_p \\cdot V_{\\text{R}}}, \\\\\n",
    "\\dot{T}_{\\text{K}} &= \\frac{\\dot{Q} + k_w \\cdot A_{\\text{R}} \\cdot T_{\\text{dif}}}{m_k \\cdot C_{p,k}},\n",
    "\\end{align}\n",
    "\n",
    "where\n",
    "\n",
    "\\begin{align}\n",
    "k_1 &= \\beta \\cdot k_{0,\\text{ab}} \\cdot \\exp\\left(\\frac{-E_{\\text{A},\\text{ab}}}{T_{\\text{R}}+273.15}\\right), \\\\\n",
    "k_1 &= k_{0,\\text{bc}} \\cdot \\exp \\left( \\frac{-E_{\\text{A},\\text{bc}}}{T_{\\text{R}}+273.15} \\right), \\\\\n",
    "k_3 &= k_{0,\\text{ad}} \\cdot \\exp \\left( \\frac{-\\alpha \\cdot E_{\\text{A},\\text{ad}}}{T_{\\text{R}}+273.15} \\right).\n",
    "\\end{align}\n",
    "\n",
    "The \n",
    "parameters $\\alpha$ and $\\beta$ are uncertain while the rest of the parameters is considered certain:"
   ]
  },
  {
   "cell_type": "code",
   "execution_count": 8,
   "metadata": {
    "graffitiCellId": "id_wiin9i4"
   },
   "outputs": [],
   "source": [
    "# Certain parameters\n",
    "K0_ab = 1.287e12 # K0 [h^-1]\n",
    "K0_bc = 1.287e12 # K0 [h^-1]\n",
    "K0_ad = 9.043e9 # K0 [l/mol.h]\n",
    "R_gas = 8.3144621e-3 # Universal gas constant\n",
    "E_A_ab = 9758.3*1.00 #* R_gas# [kj/mol]\n",
    "E_A_bc = 9758.3*1.00 #* R_gas# [kj/mol]\n",
    "E_A_ad = 8560.0*1.0 #* R_gas# [kj/mol]\n",
    "H_R_ab = 4.2 # [kj/mol A]\n",
    "H_R_bc = -11.0 # [kj/mol B] Exothermic\n",
    "H_R_ad = -41.85 # [kj/mol A] Exothermic\n",
    "Rou = 0.9342 # Density [kg/l]\n",
    "Cp = 3.01 # Specific Heat capacity [kj/Kg.K]\n",
    "Cp_k = 2.0 # Coolant heat capacity [kj/kg.k]\n",
    "A_R = 0.215 # Area of reactor wall [m^2]\n",
    "V_R = 10.01 #0.01 # Volume of reactor [l]\n",
    "m_k = 5.0 # Coolant mass[kg]\n",
    "T_in = 130.0 # Temp of inflow [Celsius]\n",
    "K_w = 4032.0 # [kj/h.m^2.K]\n",
    "C_A0 = (5.7+4.5)/2.0*1.0 # Concentration of A in input Upper bound 5.7 lower bound 4.5 [mol/l]"
   ]
  },
  {
   "cell_type": "code",
   "execution_count": null,
   "metadata": {
    "graffitiCellId": "id_byyzzvt"
   },
   "outputs": [],
   "source": [
    "# Define uncertain parameters:"
   ]
  },
  {
   "cell_type": "markdown",
   "metadata": {
    "graffitiCellId": "id_6hjehiz"
   },
   "source": [
    "<span class=\"graffiti-highlight graffiti-id_6hjehiz-id_waxck4u\"><i></i><button>Hide Solution</button></span>"
   ]
  },
  {
   "cell_type": "code",
   "execution_count": 9,
   "metadata": {
    "graffitiCellId": "id_waxck4u"
   },
   "outputs": [],
   "source": [
    "# Uncertain parameters:\n",
    "alpha = model.set_variable(var_type='_p', var_name='alpha')\n",
    "beta = model.set_variable(var_type='_p', var_name='beta')"
   ]
  },
  {
   "cell_type": "code",
   "execution_count": null,
   "metadata": {
    "graffitiCellId": "id_uxqzvwp"
   },
   "outputs": [],
   "source": [
    "# Define time-varying parameters:"
   ]
  },
  {
   "cell_type": "markdown",
   "metadata": {
    "graffitiCellId": "id_obqfvdl"
   },
   "source": [
    "<span class=\"graffiti-highlight graffiti-id_obqfvdl-id_uj247dh\"><i></i><button>Hide Solution</button></span>"
   ]
  },
  {
   "cell_type": "code",
   "execution_count": 10,
   "metadata": {
    "graffitiCellId": "id_uj247dh"
   },
   "outputs": [],
   "source": [
    "# Time-varying parameters:\n",
    "T_in = model.set_variable(var_type='_tvp', var_name='T_in')\n",
    "C_b_set = model.set_variable(var_type='_tvp', var_name='C_b_set')"
   ]
  },
  {
   "cell_type": "markdown",
   "metadata": {
    "graffitiCellId": "id_b3k1bfo"
   },
   "source": [
    "Compute reaction rate from fixed and uncertain parameters:"
   ]
  },
  {
   "cell_type": "code",
   "execution_count": 11,
   "metadata": {
    "graffitiCellId": "id_y6qwhy4"
   },
   "outputs": [],
   "source": [
    "# Auxiliary terms\n",
    "K_1 = beta * K0_ab * exp((-E_A_ab)/((T_R+273.15)))\n",
    "K_2 =  K0_bc * exp((-E_A_bc)/((T_R+273.15)))\n",
    "K_3 = K0_ad * exp((-alpha*E_A_ad)/((T_R+273.15)))"
   ]
  },
  {
   "cell_type": "markdown",
   "metadata": {
    "graffitiCellId": "id_fgaq586"
   },
   "source": [
    "Additionally, we define an artificial variable of interest, that is not a state of the system, but can be used later:"
   ]
  },
  {
   "cell_type": "code",
   "execution_count": null,
   "metadata": {
    "graffitiCellId": "id_skbabc5"
   },
   "outputs": [],
   "source": [
    "# Define T_dif as auxiliary expression"
   ]
  },
  {
   "cell_type": "markdown",
   "metadata": {
    "graffitiCellId": "id_3m8jb9y"
   },
   "source": [
    "<span class=\"graffiti-highlight graffiti-id_3m8jb9y-id_71komti\"><i></i><button>Hide Solution</button></span>"
   ]
  },
  {
   "cell_type": "code",
   "execution_count": 12,
   "metadata": {
    "graffitiCellId": "id_71komti"
   },
   "outputs": [],
   "source": [
    "T_dif = model.set_expression(expr_name='T_dif', expr=T_R-T_K)"
   ]
  },
  {
   "cell_type": "markdown",
   "metadata": {
    "graffitiCellId": "id_7j3sivg"
   },
   "source": [
    "Formulate the right-hand-side of the ordinary differential equations:"
   ]
  },
  {
   "cell_type": "code",
   "execution_count": null,
   "metadata": {
    "graffitiCellId": "id_1w0olwt"
   },
   "outputs": [],
   "source": [
    "# Set rhs"
   ]
  },
  {
   "cell_type": "markdown",
   "metadata": {
    "graffitiCellId": "id_rdlgtbx"
   },
   "source": [
    "<span class=\"graffiti-highlight graffiti-id_rdlgtbx-id_djsdcf4\"><i></i><button>Hide Solution</button></span>"
   ]
  },
  {
   "cell_type": "code",
   "execution_count": 13,
   "metadata": {
    "graffitiCellId": "id_djsdcf4"
   },
   "outputs": [],
   "source": [
    "model.set_rhs('C_a', F*(C_A0 - C_a) -K_1*C_a - K_3*(C_a**2))\n",
    "model.set_rhs('C_b', -F*C_b + K_1*C_a - K_2*C_b)\n",
    "model.set_rhs('T_R', ((K_1*C_a*H_R_ab + K_2*C_b*H_R_bc + K_3*(C_a**2)*H_R_ad)/(-Rou*Cp)) + F*(T_in-T_R) +(((K_w*A_R)*(-T_dif))/(Rou*Cp*V_R)))\n",
    "model.set_rhs('T_K', (Q_dot + K_w*A_R*(T_dif))/(m_k*Cp_k))"
   ]
  },
  {
   "cell_type": "markdown",
   "metadata": {
    "graffitiCellId": "id_3q35zrb"
   },
   "source": [
    "Finally, the model setup is completed:"
   ]
  },
  {
   "cell_type": "code",
   "execution_count": 14,
   "metadata": {
    "graffitiCellId": "id_5ngy283"
   },
   "outputs": [],
   "source": [
    "# Build the model\n",
    "model.setup()"
   ]
  },
  {
   "cell_type": "markdown",
   "metadata": {
    "graffitiCellId": "id_2u2ckux"
   },
   "source": [
    "## Controller\n"
   ]
  },
  {
   "cell_type": "markdown",
   "metadata": {
    "graffitiCellId": "id_1p7itvt"
   },
   "source": [
    "Next, the model predictive controller is configured.\n",
    "First, one member of the mpc class is generated with the prediction model defined above:"
   ]
  },
  {
   "cell_type": "code",
   "execution_count": null,
   "metadata": {
    "graffitiCellId": "id_iebxe5x"
   },
   "outputs": [],
   "source": [
    "# Initiate MPC controller"
   ]
  },
  {
   "cell_type": "markdown",
   "metadata": {
    "graffitiCellId": "id_ez19tf6"
   },
   "source": [
    "<span class=\"graffiti-highlight graffiti-id_ez19tf6-id_lqesdur\"><i></i><button>Show Solution</button></span>"
   ]
  },
  {
   "cell_type": "markdown",
   "metadata": {
    "graffitiCellId": "id_qv439ug"
   },
   "source": [
    "We choose the prediction horizon `n_horizon`. The time step `t_step` is set to approx. 20 seconds (in hours) and parameters of the applied discretization scheme orthogonal collocation are as seen below:"
   ]
  },
  {
   "cell_type": "code",
   "execution_count": null,
   "metadata": {
    "graffitiCellId": "id_0lxuo0b"
   },
   "outputs": [],
   "source": [
    "# Configure MPC settings"
   ]
  },
  {
   "cell_type": "markdown",
   "metadata": {
    "graffitiCellId": "id_fw34qyt"
   },
   "source": [
    "<span class=\"graffiti-highlight graffiti-id_fw34qyt-id_lxc8c8b\"><i></i><button>Show Solution</button></span>"
   ]
  },
  {
   "cell_type": "markdown",
   "metadata": {
    "graffitiCellId": "id_vzb9yn6"
   },
   "source": [
    "Because the magnitude of the states and inputs is very different, we introduce scaling factors:"
   ]
  },
  {
   "cell_type": "code",
   "execution_count": null,
   "metadata": {
    "graffitiCellId": "id_rq71v7y"
   },
   "outputs": [],
   "source": [
    "# Scaling"
   ]
  },
  {
   "cell_type": "markdown",
   "metadata": {
    "graffitiCellId": "id_svtueh5"
   },
   "source": [
    "<span class=\"graffiti-highlight graffiti-id_svtueh5-id_orshyao\"><i></i><button>Show Solution</button></span>"
   ]
  },
  {
   "cell_type": "markdown",
   "metadata": {
    "graffitiCellId": "id_ly0pgir"
   },
   "source": [
    "### Objective\n",
    "\n",
    "The goal of the CSTR is to obtain a mixture with a set concentration of $C_{\\text{B,set}}$. The concrete value will change over time, which is why we use the previously defined time-varying parameters as a placeholder here.\n",
    "Additionally, we add a penalty on input changes for both control inputs, to obtain a smooth control performance."
   ]
  },
  {
   "cell_type": "code",
   "execution_count": null,
   "metadata": {
    "graffitiCellId": "id_uiuy044"
   },
   "outputs": [],
   "source": [
    "# Define control objective"
   ]
  },
  {
   "cell_type": "markdown",
   "metadata": {
    "graffitiCellId": "id_5a0cnzm"
   },
   "source": [
    "<span class=\"graffiti-highlight graffiti-id_5a0cnzm-id_33eph4v\"><i></i><button>Show Solution</button></span>"
   ]
  },
  {
   "cell_type": "markdown",
   "metadata": {
    "graffitiCellId": "id_cn12kox"
   },
   "source": [
    "### Constraints\n",
    "\n",
    "In the next step, the constraints of the control problem are set.\n",
    "In this case, there are only upper and lower bounds for each state and the input:"
   ]
  },
  {
   "cell_type": "code",
   "execution_count": null,
   "metadata": {
    "graffitiCellId": "id_ik6r1w0"
   },
   "outputs": [],
   "source": [
    "# Set bounds"
   ]
  },
  {
   "cell_type": "markdown",
   "metadata": {
    "graffitiCellId": "id_9te64tk"
   },
   "source": [
    "<span class=\"graffiti-highlight graffiti-id_9te64tk-id_9811jlp\"><i></i><button>Show Solution</button></span>"
   ]
  },
  {
   "cell_type": "markdown",
   "metadata": {
    "graffitiCellId": "id_n64s5qq"
   },
   "source": [
    "If a constraint is not critical, it is possible to implement it as a **soft** constraint.\n",
    "This means, that a small violation of the constraint does not render the optimization infeasible.\n",
    "Instead, a penalty term is added to the objective.\n",
    "**Soft** constraints can always be applied, if small violations can be accepted and it might even be necessary to apply MPC in a safe way (by avoiding avoiding numerical instabilities).\n",
    "In this case, we define the upper bounds of the reactor temperature as a **soft** constraint by using `mpc.set_nl_cons()`."
   ]
  },
  {
   "cell_type": "code",
   "execution_count": null,
   "metadata": {
    "graffitiCellId": "id_pkxd2p5"
   },
   "outputs": [],
   "source": [
    "# Set soft-constraint"
   ]
  },
  {
   "cell_type": "markdown",
   "metadata": {
    "graffitiCellId": "id_bsb16t1"
   },
   "source": [
    "<span class=\"graffiti-highlight graffiti-id_bsb16t1-id_5zlfzcv\"><i></i><button>Show Solution</button></span>"
   ]
  },
  {
   "cell_type": "markdown",
   "metadata": {
    "graffitiCellId": "id_fx367kv"
   },
   "source": [
    "### Time-varying parameters\n",
    "\n",
    "The control objective is to track a certain concentration for the product $C_b$ for which we have introduced in the model the time-varying parameter ``C_b_set``. During runtime, we must choose concrete values for this parameter. \n",
    "\n",
    "The same holds for the inlet temperature ``T_in``, for which we assume a known profile`\n",
    "\n",
    "Setting values to time-varying parameters is **a two-step process**: First, we obtain a structure that is based on our model definition and then we pass a function that is called at each controller iteration and which changes values in this structure."
   ]
  },
  {
   "cell_type": "code",
   "execution_count": null,
   "metadata": {
    "graffitiCellId": "id_hmlhk1t"
   },
   "outputs": [],
   "source": [
    "# Get tvp template:"
   ]
  },
  {
   "cell_type": "markdown",
   "metadata": {
    "graffitiCellId": "id_cjzl0zj"
   },
   "source": [
    "<span class=\"graffiti-highlight graffiti-id_cjzl0zj-id_bsl6d66\"><i></i><button>Show Solution</button></span>"
   ]
  },
  {
   "cell_type": "markdown",
   "metadata": {
    "graffitiCellId": "id_f0n6dme"
   },
   "source": [
    "To understand this structure better, it helps to query the ``labels``:"
   ]
  },
  {
   "cell_type": "code",
   "execution_count": 22,
   "metadata": {
    "graffitiCellId": "id_db5q01e"
   },
   "outputs": [
    {
     "data": {
      "text/plain": [
       "['[_tvp,0,T_in,0]',\n",
       " '[_tvp,0,C_b_set,0]',\n",
       " '[_tvp,1,T_in,0]',\n",
       " '[_tvp,1,C_b_set,0]',\n",
       " '[_tvp,2,T_in,0]']"
      ]
     },
     "execution_count": 22,
     "metadata": {},
     "output_type": "execute_result"
    }
   ],
   "source": [
    "tvp_struct_mpc.labels()[:5]"
   ]
  },
  {
   "cell_type": "markdown",
   "metadata": {
    "graffitiCellId": "id_hsj6bts"
   },
   "source": [
    "By default all values in this structure are initialized with zero:"
   ]
  },
  {
   "cell_type": "code",
   "execution_count": 23,
   "metadata": {
    "graffitiCellId": "id_4fr969v"
   },
   "outputs": [
    {
     "data": {
      "text/plain": [
       "DM(0)"
      ]
     },
     "execution_count": 23,
     "metadata": {},
     "output_type": "execute_result"
    }
   ],
   "source": [
    "tvp_struct_mpc['_tvp',0,'T_in']"
   ]
  },
  {
   "cell_type": "markdown",
   "metadata": {
    "graffitiCellId": "id_cm810b6"
   },
   "source": [
    "Let's set some better default values:"
   ]
  },
  {
   "cell_type": "code",
   "execution_count": 24,
   "metadata": {
    "graffitiCellId": "id_ly90d1v"
   },
   "outputs": [],
   "source": [
    "tvp_struct_mpc['_tvp',:,'T_in'] = 130"
   ]
  },
  {
   "cell_type": "markdown",
   "metadata": {
    "graffitiCellId": "id_m059tk8"
   },
   "source": [
    "We now want to set new values for all indices of the structure at each iteration. For this purpose we need to define a function that takes as input the current time and returns as output the structure:\n",
    "\n",
    "```python\n",
    "def tvp_fun_mpc(t_now):\n",
    "    # Set values of tvp_struct_mpc\n",
    "    \n",
    "    return tvp_struct_mpc\n",
    "```"
   ]
  },
  {
   "cell_type": "code",
   "execution_count": null,
   "metadata": {
    "graffitiCellId": "id_mj6sl2p"
   },
   "outputs": [],
   "source": [
    "# Define tvp function"
   ]
  },
  {
   "cell_type": "markdown",
   "metadata": {
    "graffitiCellId": "id_rifrtlt"
   },
   "source": [
    "<span class=\"graffiti-highlight graffiti-id_rifrtlt-id_r4pihee\"><i></i><button>Show Solution</button></span>"
   ]
  },
  {
   "cell_type": "markdown",
   "metadata": {
    "graffitiCellId": "id_h17bs26"
   },
   "source": [
    "Finally, we need to pass the newly created function to the MPC instance:"
   ]
  },
  {
   "cell_type": "code",
   "execution_count": null,
   "metadata": {
    "graffitiCellId": "id_stwgowr"
   },
   "outputs": [],
   "source": [
    "# Pass tvp function to mpc instance"
   ]
  },
  {
   "cell_type": "markdown",
   "metadata": {
    "graffitiCellId": "id_a7z37ja"
   },
   "source": [
    "<span class=\"graffiti-highlight graffiti-id_a7z37ja-id_1kb0gx2\"><i></i><button>Show Solution</button></span>"
   ]
  },
  {
   "cell_type": "markdown",
   "metadata": {
    "graffitiCellId": "id_2lqv9uv"
   },
   "source": [
    "### Uncertain values\n",
    "\n",
    "The explicit values of the two uncertain parameters $\\alpha$ and $\\beta$, which are considered in the scenario tree, are given by:"
   ]
  },
  {
   "cell_type": "code",
   "execution_count": null,
   "metadata": {
    "graffitiCellId": "id_uk4riae"
   },
   "outputs": [],
   "source": [
    "# Set uncertainty values"
   ]
  },
  {
   "cell_type": "markdown",
   "metadata": {
    "graffitiCellId": "id_s78cjyt"
   },
   "source": [
    "<span class=\"graffiti-highlight graffiti-id_s78cjyt-id_dhb3edz\"><i></i><button>Show Solution</button></span>"
   ]
  },
  {
   "cell_type": "markdown",
   "metadata": {
    "graffitiCellId": "id_deeb3jl"
   },
   "source": [
    "The setup of the MPC controller is concluded by:"
   ]
  },
  {
   "cell_type": "code",
   "execution_count": 29,
   "metadata": {
    "graffitiCellId": "id_5mjkmw9"
   },
   "outputs": [],
   "source": [
    "mpc.setup()"
   ]
  },
  {
   "cell_type": "markdown",
   "metadata": {
    "graffitiCellId": "id_ry46omu"
   },
   "source": [
    "## Estimator\n",
    "\n",
    "We assume, that all states can be directly measured (state-feedback):"
   ]
  },
  {
   "cell_type": "code",
   "execution_count": 37,
   "metadata": {
    "graffitiCellId": "id_yyxqqhi"
   },
   "outputs": [],
   "source": [
    "estimator = do_mpc.estimator.StateFeedback(model)"
   ]
  },
  {
   "cell_type": "markdown",
   "metadata": {
    "graffitiCellId": "id_kusz2oc"
   },
   "source": [
    "## Simulator\n",
    "\n",
    "To create a simulator in order to run the MPC in a closed-loop, we create an instance of the **do-mpc** simulator which is based on the same model:"
   ]
  },
  {
   "cell_type": "code",
   "execution_count": 30,
   "metadata": {
    "graffitiCellId": "id_aihy2zn"
   },
   "outputs": [],
   "source": [
    "simulator = do_mpc.simulator.Simulator(model)"
   ]
  },
  {
   "cell_type": "markdown",
   "metadata": {
    "graffitiCellId": "id_pox351h"
   },
   "source": [
    "For the simulation, we use the same time step `t_step` as for the optimizer:"
   ]
  },
  {
   "cell_type": "code",
   "execution_count": 31,
   "metadata": {
    "graffitiCellId": "id_7s5c1ju"
   },
   "outputs": [],
   "source": [
    "params_simulator = {\n",
    "    'integration_tool': 'cvodes',\n",
    "    'abstol': 1e-10,\n",
    "    'reltol': 1e-10,\n",
    "    't_step': 0.005\n",
    "}\n",
    "\n",
    "simulator.set_param(**params_simulator)"
   ]
  },
  {
   "cell_type": "markdown",
   "metadata": {
    "graffitiCellId": "id_hnvcq5o"
   },
   "source": [
    "### Realizations of uncertain parameters\n",
    "\n",
    "For the simulation, it is necessary to define the numerical realizations of the uncertain parameters in `p_struct_sim` and the time-varying parameters in `tvp_struct_sim`.\n",
    "This works similar but not identical as for the MPC controller. \n",
    "The main difference is that the simulator is always evaluated with exact values of the uncertain parameters and only needs a single time-varying parameter (instead of a trajectory covering the prediction horizon).\n",
    "\n",
    "First, we get the structure of the uncertain and time-varying parameters:"
   ]
  },
  {
   "cell_type": "code",
   "execution_count": null,
   "metadata": {
    "graffitiCellId": "id_tn6lbmz"
   },
   "outputs": [],
   "source": [
    "# Get structures for parameters and time-varying parameters"
   ]
  },
  {
   "cell_type": "markdown",
   "metadata": {
    "graffitiCellId": "id_urd1eiu"
   },
   "source": [
    "<span class=\"graffiti-highlight graffiti-id_urd1eiu-id_ct98zw5\"><i></i><button>Show Solution</button></span>"
   ]
  },
  {
   "cell_type": "markdown",
   "metadata": {
    "graffitiCellId": "id_v46kqfs"
   },
   "source": [
    "We define two functions which are called in each simulation step, which return the current realizations of the parameters, with respect to defined inputs (in this case `t_now`).\n",
    "\n",
    "Note that the struct for the time-varying parameters contains the setpoint ``C_b_set``. This parameter has no influence on the simulator and thus we don't need to change the dafault value of zero."
   ]
  },
  {
   "cell_type": "code",
   "execution_count": null,
   "metadata": {
    "graffitiCellId": "id_r848ftu"
   },
   "outputs": [],
   "source": [
    "# Define tvp and p fun"
   ]
  },
  {
   "cell_type": "markdown",
   "metadata": {
    "graffitiCellId": "id_u0gooyc"
   },
   "source": [
    "<span class=\"graffiti-highlight graffiti-id_u0gooyc-id_qlt2034\"><i></i><button>Show Solution</button></span>"
   ]
  },
  {
   "cell_type": "markdown",
   "metadata": {
    "graffitiCellId": "id_y0habqv"
   },
   "source": [
    "These two custum functions are used in the simulation via:"
   ]
  },
  {
   "cell_type": "code",
   "execution_count": 34,
   "metadata": {
    "graffitiCellId": "id_dokxkzs"
   },
   "outputs": [],
   "source": [
    "simulator.set_tvp_fun(tvp_fun)\n",
    "simulator.set_p_fun(p_fun)"
   ]
  },
  {
   "cell_type": "markdown",
   "metadata": {
    "graffitiCellId": "id_ynqwebc"
   },
   "source": [
    "By defining `p_fun` as above, the function will always return the value 1.0 for both $\\alpha$ and $\\beta$.\n",
    "To finish the configuration of the simulator, call:"
   ]
  },
  {
   "cell_type": "code",
   "execution_count": 35,
   "metadata": {
    "graffitiCellId": "id_ifo4tq8"
   },
   "outputs": [],
   "source": [
    "simulator.setup()"
   ]
  },
  {
   "cell_type": "markdown",
   "metadata": {
    "graffitiCellId": "id_7hszwv1"
   },
   "source": [
    "## Closed-loop simulation\n",
    "\n",
    "For the simulation of the MPC configured for the CSTR, we inspect the file **main.py**.\n",
    "We define the initial state of the system and set it for all parts of the closed-loop configuration:"
   ]
  },
  {
   "cell_type": "code",
   "execution_count": null,
   "metadata": {
    "graffitiCellId": "id_rqjl45o"
   },
   "outputs": [],
   "source": [
    "# Set initial state (for all modules) and initial guess for MPC"
   ]
  },
  {
   "cell_type": "markdown",
   "metadata": {
    "graffitiCellId": "id_98jpupz"
   },
   "source": [
    "<span class=\"graffiti-highlight graffiti-id_98jpupz-id_kthx0wh\"><i></i><button>Show Solution</button></span>"
   ]
  },
  {
   "cell_type": "markdown",
   "metadata": {
    "graffitiCellId": "id_j025q4h"
   },
   "source": [
    "Now, we simulate the closed-loop for 50 steps (and suppress the output of the cell with the magic command `%%capture`):"
   ]
  },
  {
   "cell_type": "code",
   "execution_count": null,
   "metadata": {
    "graffitiCellId": "id_bkx1rww"
   },
   "outputs": [],
   "source": [
    "# Run main-loop"
   ]
  },
  {
   "cell_type": "markdown",
   "metadata": {
    "graffitiCellId": "id_3vmfg0f"
   },
   "source": [
    "<span class=\"graffiti-highlight graffiti-id_3vmfg0f-id_d0ixs74\"><i></i><button>Show Solution</button></span>"
   ]
  },
  {
   "cell_type": "markdown",
   "metadata": {
    "graffitiCellId": "id_rojssfq"
   },
   "source": [
    "## Animating the results\n",
    "\n",
    "To animate the results, we first configure the **do-mpc** graphics object, which is initiated with the respective data object:"
   ]
  },
  {
   "cell_type": "code",
   "execution_count": 40,
   "metadata": {
    "graffitiCellId": "id_c9evtx7"
   },
   "outputs": [],
   "source": [
    "mpc_graphics = do_mpc.graphics.Graphics(mpc.data)"
   ]
  },
  {
   "cell_type": "markdown",
   "metadata": {
    "graffitiCellId": "id_4h9nbnz"
   },
   "source": [
    "We quickly configure Matplotlib."
   ]
  },
  {
   "cell_type": "code",
   "execution_count": 89,
   "metadata": {
    "graffitiCellId": "id_64mn04o"
   },
   "outputs": [],
   "source": [
    "from matplotlib import rcParams\n",
    "rcParams['axes.grid'] = True\n",
    "rcParams['font.size'] = 12"
   ]
  },
  {
   "cell_type": "markdown",
   "metadata": {
    "graffitiCellId": "id_1swdxj2"
   },
   "source": [
    "Create a simple plot to quickly check the results"
   ]
  },
  {
   "cell_type": "code",
   "execution_count": null,
   "metadata": {
    "graffitiCellId": "id_70gexlh"
   },
   "outputs": [],
   "source": [
    "# Default plot"
   ]
  },
  {
   "cell_type": "markdown",
   "metadata": {
    "graffitiCellId": "id_zoakkyw"
   },
   "source": [
    "<span class=\"graffiti-highlight graffiti-id_zoakkyw-id_5277fbx\"><i></i><button>Show Solution</button></span>"
   ]
  },
  {
   "cell_type": "markdown",
   "metadata": {
    "graffitiCellId": "id_2zrccnk"
   },
   "source": [
    "Or configure a more complex and custom plot:"
   ]
  },
  {
   "cell_type": "code",
   "execution_count": null,
   "metadata": {
    "graffitiCellId": "id_y16pa5w"
   },
   "outputs": [],
   "source": [
    "fig, ax = plt.subplots(5, sharex=True, figsize=(9,7))\n",
    "# Add lines ..."
   ]
  },
  {
   "cell_type": "markdown",
   "metadata": {
    "graffitiCellId": "id_pl5pssi"
   },
   "source": [
    "<span class=\"graffiti-highlight graffiti-id_pl5pssi-id_lnb5aie\"><i></i><button>Show Solution</button></span>"
   ]
  },
  {
   "cell_type": "markdown",
   "metadata": {
    "graffitiCellId": "id_5cfysy1"
   },
   "source": [
    "Use Ipython widgets to animate the plot"
   ]
  },
  {
   "cell_type": "code",
   "execution_count": 46,
   "metadata": {
    "graffitiCellId": "id_tutb0aj"
   },
   "outputs": [
    {
     "data": {
      "application/vnd.jupyter.widget-view+json": {
       "model_id": "fb5ab60e14d442a38746a63b9d2b4e24",
       "version_major": 2,
       "version_minor": 0
      },
      "text/plain": [
       "interactive(children=(IntSlider(value=0, description='t_ind', max=49), Output()), _dom_classes=('widget-intera…"
      ]
     },
     "metadata": {},
     "output_type": "display_data"
    },
    {
     "data": {
      "application/javascript": [
       "/* Put everything inside the global mpl namespace */\n",
       "/* global mpl */\n",
       "window.mpl = {};\n",
       "\n",
       "mpl.get_websocket_type = function () {\n",
       "    if (typeof WebSocket !== 'undefined') {\n",
       "        return WebSocket;\n",
       "    } else if (typeof MozWebSocket !== 'undefined') {\n",
       "        return MozWebSocket;\n",
       "    } else {\n",
       "        alert(\n",
       "            'Your browser does not have WebSocket support. ' +\n",
       "                'Please try Chrome, Safari or Firefox ≥ 6. ' +\n",
       "                'Firefox 4 and 5 are also supported but you ' +\n",
       "                'have to enable WebSockets in about:config.'\n",
       "        );\n",
       "    }\n",
       "};\n",
       "\n",
       "mpl.figure = function (figure_id, websocket, ondownload, parent_element) {\n",
       "    this.id = figure_id;\n",
       "\n",
       "    this.ws = websocket;\n",
       "\n",
       "    this.supports_binary = this.ws.binaryType !== undefined;\n",
       "\n",
       "    if (!this.supports_binary) {\n",
       "        var warnings = document.getElementById('mpl-warnings');\n",
       "        if (warnings) {\n",
       "            warnings.style.display = 'block';\n",
       "            warnings.textContent =\n",
       "                'This browser does not support binary websocket messages. ' +\n",
       "                'Performance may be slow.';\n",
       "        }\n",
       "    }\n",
       "\n",
       "    this.imageObj = new Image();\n",
       "\n",
       "    this.context = undefined;\n",
       "    this.message = undefined;\n",
       "    this.canvas = undefined;\n",
       "    this.rubberband_canvas = undefined;\n",
       "    this.rubberband_context = undefined;\n",
       "    this.format_dropdown = undefined;\n",
       "\n",
       "    this.image_mode = 'full';\n",
       "\n",
       "    this.root = document.createElement('div');\n",
       "    this.root.setAttribute('style', 'display: inline-block');\n",
       "    this._root_extra_style(this.root);\n",
       "\n",
       "    parent_element.appendChild(this.root);\n",
       "\n",
       "    this._init_header(this);\n",
       "    this._init_canvas(this);\n",
       "    this._init_toolbar(this);\n",
       "\n",
       "    var fig = this;\n",
       "\n",
       "    this.waiting = false;\n",
       "\n",
       "    this.ws.onopen = function () {\n",
       "        fig.send_message('supports_binary', { value: fig.supports_binary });\n",
       "        fig.send_message('send_image_mode', {});\n",
       "        if (fig.ratio !== 1) {\n",
       "            fig.send_message('set_dpi_ratio', { dpi_ratio: fig.ratio });\n",
       "        }\n",
       "        fig.send_message('refresh', {});\n",
       "    };\n",
       "\n",
       "    this.imageObj.onload = function () {\n",
       "        if (fig.image_mode === 'full') {\n",
       "            // Full images could contain transparency (where diff images\n",
       "            // almost always do), so we need to clear the canvas so that\n",
       "            // there is no ghosting.\n",
       "            fig.context.clearRect(0, 0, fig.canvas.width, fig.canvas.height);\n",
       "        }\n",
       "        fig.context.drawImage(fig.imageObj, 0, 0);\n",
       "    };\n",
       "\n",
       "    this.imageObj.onunload = function () {\n",
       "        fig.ws.close();\n",
       "    };\n",
       "\n",
       "    this.ws.onmessage = this._make_on_message_function(this);\n",
       "\n",
       "    this.ondownload = ondownload;\n",
       "};\n",
       "\n",
       "mpl.figure.prototype._init_header = function () {\n",
       "    var titlebar = document.createElement('div');\n",
       "    titlebar.classList =\n",
       "        'ui-dialog-titlebar ui-widget-header ui-corner-all ui-helper-clearfix';\n",
       "    var titletext = document.createElement('div');\n",
       "    titletext.classList = 'ui-dialog-title';\n",
       "    titletext.setAttribute(\n",
       "        'style',\n",
       "        'width: 100%; text-align: center; padding: 3px;'\n",
       "    );\n",
       "    titlebar.appendChild(titletext);\n",
       "    this.root.appendChild(titlebar);\n",
       "    this.header = titletext;\n",
       "};\n",
       "\n",
       "mpl.figure.prototype._canvas_extra_style = function (_canvas_div) {};\n",
       "\n",
       "mpl.figure.prototype._root_extra_style = function (_canvas_div) {};\n",
       "\n",
       "mpl.figure.prototype._init_canvas = function () {\n",
       "    var fig = this;\n",
       "\n",
       "    var canvas_div = (this.canvas_div = document.createElement('div'));\n",
       "    canvas_div.setAttribute(\n",
       "        'style',\n",
       "        'border: 1px solid #ddd;' +\n",
       "            'box-sizing: content-box;' +\n",
       "            'clear: both;' +\n",
       "            'min-height: 1px;' +\n",
       "            'min-width: 1px;' +\n",
       "            'outline: 0;' +\n",
       "            'overflow: hidden;' +\n",
       "            'position: relative;' +\n",
       "            'resize: both;'\n",
       "    );\n",
       "\n",
       "    function on_keyboard_event_closure(name) {\n",
       "        return function (event) {\n",
       "            return fig.key_event(event, name);\n",
       "        };\n",
       "    }\n",
       "\n",
       "    canvas_div.addEventListener(\n",
       "        'keydown',\n",
       "        on_keyboard_event_closure('key_press')\n",
       "    );\n",
       "    canvas_div.addEventListener(\n",
       "        'keyup',\n",
       "        on_keyboard_event_closure('key_release')\n",
       "    );\n",
       "\n",
       "    this._canvas_extra_style(canvas_div);\n",
       "    this.root.appendChild(canvas_div);\n",
       "\n",
       "    var canvas = (this.canvas = document.createElement('canvas'));\n",
       "    canvas.classList.add('mpl-canvas');\n",
       "    canvas.setAttribute('style', 'box-sizing: content-box;');\n",
       "\n",
       "    this.context = canvas.getContext('2d');\n",
       "\n",
       "    var backingStore =\n",
       "        this.context.backingStorePixelRatio ||\n",
       "        this.context.webkitBackingStorePixelRatio ||\n",
       "        this.context.mozBackingStorePixelRatio ||\n",
       "        this.context.msBackingStorePixelRatio ||\n",
       "        this.context.oBackingStorePixelRatio ||\n",
       "        this.context.backingStorePixelRatio ||\n",
       "        1;\n",
       "\n",
       "    this.ratio = (window.devicePixelRatio || 1) / backingStore;\n",
       "\n",
       "    var rubberband_canvas = (this.rubberband_canvas = document.createElement(\n",
       "        'canvas'\n",
       "    ));\n",
       "    rubberband_canvas.setAttribute(\n",
       "        'style',\n",
       "        'box-sizing: content-box; position: absolute; left: 0; top: 0; z-index: 1;'\n",
       "    );\n",
       "\n",
       "    // Apply a ponyfill if ResizeObserver is not implemented by browser.\n",
       "    if (this.ResizeObserver === undefined) {\n",
       "        if (window.ResizeObserver !== undefined) {\n",
       "            this.ResizeObserver = window.ResizeObserver;\n",
       "        } else {\n",
       "            var obs = _JSXTOOLS_RESIZE_OBSERVER({});\n",
       "            this.ResizeObserver = obs.ResizeObserver;\n",
       "        }\n",
       "    }\n",
       "\n",
       "    this.resizeObserverInstance = new this.ResizeObserver(function (entries) {\n",
       "        var nentries = entries.length;\n",
       "        for (var i = 0; i < nentries; i++) {\n",
       "            var entry = entries[i];\n",
       "            var width, height;\n",
       "            if (entry.contentBoxSize) {\n",
       "                if (entry.contentBoxSize instanceof Array) {\n",
       "                    // Chrome 84 implements new version of spec.\n",
       "                    width = entry.contentBoxSize[0].inlineSize;\n",
       "                    height = entry.contentBoxSize[0].blockSize;\n",
       "                } else {\n",
       "                    // Firefox implements old version of spec.\n",
       "                    width = entry.contentBoxSize.inlineSize;\n",
       "                    height = entry.contentBoxSize.blockSize;\n",
       "                }\n",
       "            } else {\n",
       "                // Chrome <84 implements even older version of spec.\n",
       "                width = entry.contentRect.width;\n",
       "                height = entry.contentRect.height;\n",
       "            }\n",
       "\n",
       "            // Keep the size of the canvas and rubber band canvas in sync with\n",
       "            // the canvas container.\n",
       "            if (entry.devicePixelContentBoxSize) {\n",
       "                // Chrome 84 implements new version of spec.\n",
       "                canvas.setAttribute(\n",
       "                    'width',\n",
       "                    entry.devicePixelContentBoxSize[0].inlineSize\n",
       "                );\n",
       "                canvas.setAttribute(\n",
       "                    'height',\n",
       "                    entry.devicePixelContentBoxSize[0].blockSize\n",
       "                );\n",
       "            } else {\n",
       "                canvas.setAttribute('width', width * fig.ratio);\n",
       "                canvas.setAttribute('height', height * fig.ratio);\n",
       "            }\n",
       "            canvas.setAttribute(\n",
       "                'style',\n",
       "                'width: ' + width + 'px; height: ' + height + 'px;'\n",
       "            );\n",
       "\n",
       "            rubberband_canvas.setAttribute('width', width);\n",
       "            rubberband_canvas.setAttribute('height', height);\n",
       "\n",
       "            // And update the size in Python. We ignore the initial 0/0 size\n",
       "            // that occurs as the element is placed into the DOM, which should\n",
       "            // otherwise not happen due to the minimum size styling.\n",
       "            if (fig.ws.readyState == 1 && width != 0 && height != 0) {\n",
       "                fig.request_resize(width, height);\n",
       "            }\n",
       "        }\n",
       "    });\n",
       "    this.resizeObserverInstance.observe(canvas_div);\n",
       "\n",
       "    function on_mouse_event_closure(name) {\n",
       "        return function (event) {\n",
       "            return fig.mouse_event(event, name);\n",
       "        };\n",
       "    }\n",
       "\n",
       "    rubberband_canvas.addEventListener(\n",
       "        'mousedown',\n",
       "        on_mouse_event_closure('button_press')\n",
       "    );\n",
       "    rubberband_canvas.addEventListener(\n",
       "        'mouseup',\n",
       "        on_mouse_event_closure('button_release')\n",
       "    );\n",
       "    // Throttle sequential mouse events to 1 every 20ms.\n",
       "    rubberband_canvas.addEventListener(\n",
       "        'mousemove',\n",
       "        on_mouse_event_closure('motion_notify')\n",
       "    );\n",
       "\n",
       "    rubberband_canvas.addEventListener(\n",
       "        'mouseenter',\n",
       "        on_mouse_event_closure('figure_enter')\n",
       "    );\n",
       "    rubberband_canvas.addEventListener(\n",
       "        'mouseleave',\n",
       "        on_mouse_event_closure('figure_leave')\n",
       "    );\n",
       "\n",
       "    canvas_div.addEventListener('wheel', function (event) {\n",
       "        if (event.deltaY < 0) {\n",
       "            event.step = 1;\n",
       "        } else {\n",
       "            event.step = -1;\n",
       "        }\n",
       "        on_mouse_event_closure('scroll')(event);\n",
       "    });\n",
       "\n",
       "    canvas_div.appendChild(canvas);\n",
       "    canvas_div.appendChild(rubberband_canvas);\n",
       "\n",
       "    this.rubberband_context = rubberband_canvas.getContext('2d');\n",
       "    this.rubberband_context.strokeStyle = '#000000';\n",
       "\n",
       "    this._resize_canvas = function (width, height, forward) {\n",
       "        if (forward) {\n",
       "            canvas_div.style.width = width + 'px';\n",
       "            canvas_div.style.height = height + 'px';\n",
       "        }\n",
       "    };\n",
       "\n",
       "    // Disable right mouse context menu.\n",
       "    this.rubberband_canvas.addEventListener('contextmenu', function (_e) {\n",
       "        event.preventDefault();\n",
       "        return false;\n",
       "    });\n",
       "\n",
       "    function set_focus() {\n",
       "        canvas.focus();\n",
       "        canvas_div.focus();\n",
       "    }\n",
       "\n",
       "    window.setTimeout(set_focus, 100);\n",
       "};\n",
       "\n",
       "mpl.figure.prototype._init_toolbar = function () {\n",
       "    var fig = this;\n",
       "\n",
       "    var toolbar = document.createElement('div');\n",
       "    toolbar.classList = 'mpl-toolbar';\n",
       "    this.root.appendChild(toolbar);\n",
       "\n",
       "    function on_click_closure(name) {\n",
       "        return function (_event) {\n",
       "            return fig.toolbar_button_onclick(name);\n",
       "        };\n",
       "    }\n",
       "\n",
       "    function on_mouseover_closure(tooltip) {\n",
       "        return function (event) {\n",
       "            if (!event.currentTarget.disabled) {\n",
       "                return fig.toolbar_button_onmouseover(tooltip);\n",
       "            }\n",
       "        };\n",
       "    }\n",
       "\n",
       "    fig.buttons = {};\n",
       "    var buttonGroup = document.createElement('div');\n",
       "    buttonGroup.classList = 'mpl-button-group';\n",
       "    for (var toolbar_ind in mpl.toolbar_items) {\n",
       "        var name = mpl.toolbar_items[toolbar_ind][0];\n",
       "        var tooltip = mpl.toolbar_items[toolbar_ind][1];\n",
       "        var image = mpl.toolbar_items[toolbar_ind][2];\n",
       "        var method_name = mpl.toolbar_items[toolbar_ind][3];\n",
       "\n",
       "        if (!name) {\n",
       "            /* Instead of a spacer, we start a new button group. */\n",
       "            if (buttonGroup.hasChildNodes()) {\n",
       "                toolbar.appendChild(buttonGroup);\n",
       "            }\n",
       "            buttonGroup = document.createElement('div');\n",
       "            buttonGroup.classList = 'mpl-button-group';\n",
       "            continue;\n",
       "        }\n",
       "\n",
       "        var button = (fig.buttons[name] = document.createElement('button'));\n",
       "        button.classList = 'mpl-widget';\n",
       "        button.setAttribute('role', 'button');\n",
       "        button.setAttribute('aria-disabled', 'false');\n",
       "        button.addEventListener('click', on_click_closure(method_name));\n",
       "        button.addEventListener('mouseover', on_mouseover_closure(tooltip));\n",
       "\n",
       "        var icon_img = document.createElement('img');\n",
       "        icon_img.src = '_images/' + image + '.png';\n",
       "        icon_img.srcset = '_images/' + image + '_large.png 2x';\n",
       "        icon_img.alt = tooltip;\n",
       "        button.appendChild(icon_img);\n",
       "\n",
       "        buttonGroup.appendChild(button);\n",
       "    }\n",
       "\n",
       "    if (buttonGroup.hasChildNodes()) {\n",
       "        toolbar.appendChild(buttonGroup);\n",
       "    }\n",
       "\n",
       "    var fmt_picker = document.createElement('select');\n",
       "    fmt_picker.classList = 'mpl-widget';\n",
       "    toolbar.appendChild(fmt_picker);\n",
       "    this.format_dropdown = fmt_picker;\n",
       "\n",
       "    for (var ind in mpl.extensions) {\n",
       "        var fmt = mpl.extensions[ind];\n",
       "        var option = document.createElement('option');\n",
       "        option.selected = fmt === mpl.default_extension;\n",
       "        option.innerHTML = fmt;\n",
       "        fmt_picker.appendChild(option);\n",
       "    }\n",
       "\n",
       "    var status_bar = document.createElement('span');\n",
       "    status_bar.classList = 'mpl-message';\n",
       "    toolbar.appendChild(status_bar);\n",
       "    this.message = status_bar;\n",
       "};\n",
       "\n",
       "mpl.figure.prototype.request_resize = function (x_pixels, y_pixels) {\n",
       "    // Request matplotlib to resize the figure. Matplotlib will then trigger a resize in the client,\n",
       "    // which will in turn request a refresh of the image.\n",
       "    this.send_message('resize', { width: x_pixels, height: y_pixels });\n",
       "};\n",
       "\n",
       "mpl.figure.prototype.send_message = function (type, properties) {\n",
       "    properties['type'] = type;\n",
       "    properties['figure_id'] = this.id;\n",
       "    this.ws.send(JSON.stringify(properties));\n",
       "};\n",
       "\n",
       "mpl.figure.prototype.send_draw_message = function () {\n",
       "    if (!this.waiting) {\n",
       "        this.waiting = true;\n",
       "        this.ws.send(JSON.stringify({ type: 'draw', figure_id: this.id }));\n",
       "    }\n",
       "};\n",
       "\n",
       "mpl.figure.prototype.handle_save = function (fig, _msg) {\n",
       "    var format_dropdown = fig.format_dropdown;\n",
       "    var format = format_dropdown.options[format_dropdown.selectedIndex].value;\n",
       "    fig.ondownload(fig, format);\n",
       "};\n",
       "\n",
       "mpl.figure.prototype.handle_resize = function (fig, msg) {\n",
       "    var size = msg['size'];\n",
       "    if (size[0] !== fig.canvas.width || size[1] !== fig.canvas.height) {\n",
       "        fig._resize_canvas(size[0], size[1], msg['forward']);\n",
       "        fig.send_message('refresh', {});\n",
       "    }\n",
       "};\n",
       "\n",
       "mpl.figure.prototype.handle_rubberband = function (fig, msg) {\n",
       "    var x0 = msg['x0'] / fig.ratio;\n",
       "    var y0 = (fig.canvas.height - msg['y0']) / fig.ratio;\n",
       "    var x1 = msg['x1'] / fig.ratio;\n",
       "    var y1 = (fig.canvas.height - msg['y1']) / fig.ratio;\n",
       "    x0 = Math.floor(x0) + 0.5;\n",
       "    y0 = Math.floor(y0) + 0.5;\n",
       "    x1 = Math.floor(x1) + 0.5;\n",
       "    y1 = Math.floor(y1) + 0.5;\n",
       "    var min_x = Math.min(x0, x1);\n",
       "    var min_y = Math.min(y0, y1);\n",
       "    var width = Math.abs(x1 - x0);\n",
       "    var height = Math.abs(y1 - y0);\n",
       "\n",
       "    fig.rubberband_context.clearRect(\n",
       "        0,\n",
       "        0,\n",
       "        fig.canvas.width / fig.ratio,\n",
       "        fig.canvas.height / fig.ratio\n",
       "    );\n",
       "\n",
       "    fig.rubberband_context.strokeRect(min_x, min_y, width, height);\n",
       "};\n",
       "\n",
       "mpl.figure.prototype.handle_figure_label = function (fig, msg) {\n",
       "    // Updates the figure title.\n",
       "    fig.header.textContent = msg['label'];\n",
       "};\n",
       "\n",
       "mpl.figure.prototype.handle_cursor = function (fig, msg) {\n",
       "    var cursor = msg['cursor'];\n",
       "    switch (cursor) {\n",
       "        case 0:\n",
       "            cursor = 'pointer';\n",
       "            break;\n",
       "        case 1:\n",
       "            cursor = 'default';\n",
       "            break;\n",
       "        case 2:\n",
       "            cursor = 'crosshair';\n",
       "            break;\n",
       "        case 3:\n",
       "            cursor = 'move';\n",
       "            break;\n",
       "    }\n",
       "    fig.rubberband_canvas.style.cursor = cursor;\n",
       "};\n",
       "\n",
       "mpl.figure.prototype.handle_message = function (fig, msg) {\n",
       "    fig.message.textContent = msg['message'];\n",
       "};\n",
       "\n",
       "mpl.figure.prototype.handle_draw = function (fig, _msg) {\n",
       "    // Request the server to send over a new figure.\n",
       "    fig.send_draw_message();\n",
       "};\n",
       "\n",
       "mpl.figure.prototype.handle_image_mode = function (fig, msg) {\n",
       "    fig.image_mode = msg['mode'];\n",
       "};\n",
       "\n",
       "mpl.figure.prototype.handle_history_buttons = function (fig, msg) {\n",
       "    for (var key in msg) {\n",
       "        if (!(key in fig.buttons)) {\n",
       "            continue;\n",
       "        }\n",
       "        fig.buttons[key].disabled = !msg[key];\n",
       "        fig.buttons[key].setAttribute('aria-disabled', !msg[key]);\n",
       "    }\n",
       "};\n",
       "\n",
       "mpl.figure.prototype.handle_navigate_mode = function (fig, msg) {\n",
       "    if (msg['mode'] === 'PAN') {\n",
       "        fig.buttons['Pan'].classList.add('active');\n",
       "        fig.buttons['Zoom'].classList.remove('active');\n",
       "    } else if (msg['mode'] === 'ZOOM') {\n",
       "        fig.buttons['Pan'].classList.remove('active');\n",
       "        fig.buttons['Zoom'].classList.add('active');\n",
       "    } else {\n",
       "        fig.buttons['Pan'].classList.remove('active');\n",
       "        fig.buttons['Zoom'].classList.remove('active');\n",
       "    }\n",
       "};\n",
       "\n",
       "mpl.figure.prototype.updated_canvas_event = function () {\n",
       "    // Called whenever the canvas gets updated.\n",
       "    this.send_message('ack', {});\n",
       "};\n",
       "\n",
       "// A function to construct a web socket function for onmessage handling.\n",
       "// Called in the figure constructor.\n",
       "mpl.figure.prototype._make_on_message_function = function (fig) {\n",
       "    return function socket_on_message(evt) {\n",
       "        if (evt.data instanceof Blob) {\n",
       "            /* FIXME: We get \"Resource interpreted as Image but\n",
       "             * transferred with MIME type text/plain:\" errors on\n",
       "             * Chrome.  But how to set the MIME type?  It doesn't seem\n",
       "             * to be part of the websocket stream */\n",
       "            evt.data.type = 'image/png';\n",
       "\n",
       "            /* Free the memory for the previous frames */\n",
       "            if (fig.imageObj.src) {\n",
       "                (window.URL || window.webkitURL).revokeObjectURL(\n",
       "                    fig.imageObj.src\n",
       "                );\n",
       "            }\n",
       "\n",
       "            fig.imageObj.src = (window.URL || window.webkitURL).createObjectURL(\n",
       "                evt.data\n",
       "            );\n",
       "            fig.updated_canvas_event();\n",
       "            fig.waiting = false;\n",
       "            return;\n",
       "        } else if (\n",
       "            typeof evt.data === 'string' &&\n",
       "            evt.data.slice(0, 21) === 'data:image/png;base64'\n",
       "        ) {\n",
       "            fig.imageObj.src = evt.data;\n",
       "            fig.updated_canvas_event();\n",
       "            fig.waiting = false;\n",
       "            return;\n",
       "        }\n",
       "\n",
       "        var msg = JSON.parse(evt.data);\n",
       "        var msg_type = msg['type'];\n",
       "\n",
       "        // Call the  \"handle_{type}\" callback, which takes\n",
       "        // the figure and JSON message as its only arguments.\n",
       "        try {\n",
       "            var callback = fig['handle_' + msg_type];\n",
       "        } catch (e) {\n",
       "            console.log(\n",
       "                \"No handler for the '\" + msg_type + \"' message type: \",\n",
       "                msg\n",
       "            );\n",
       "            return;\n",
       "        }\n",
       "\n",
       "        if (callback) {\n",
       "            try {\n",
       "                // console.log(\"Handling '\" + msg_type + \"' message: \", msg);\n",
       "                callback(fig, msg);\n",
       "            } catch (e) {\n",
       "                console.log(\n",
       "                    \"Exception inside the 'handler_\" + msg_type + \"' callback:\",\n",
       "                    e,\n",
       "                    e.stack,\n",
       "                    msg\n",
       "                );\n",
       "            }\n",
       "        }\n",
       "    };\n",
       "};\n",
       "\n",
       "// from http://stackoverflow.com/questions/1114465/getting-mouse-location-in-canvas\n",
       "mpl.findpos = function (e) {\n",
       "    //this section is from http://www.quirksmode.org/js/events_properties.html\n",
       "    var targ;\n",
       "    if (!e) {\n",
       "        e = window.event;\n",
       "    }\n",
       "    if (e.target) {\n",
       "        targ = e.target;\n",
       "    } else if (e.srcElement) {\n",
       "        targ = e.srcElement;\n",
       "    }\n",
       "    if (targ.nodeType === 3) {\n",
       "        // defeat Safari bug\n",
       "        targ = targ.parentNode;\n",
       "    }\n",
       "\n",
       "    // pageX,Y are the mouse positions relative to the document\n",
       "    var boundingRect = targ.getBoundingClientRect();\n",
       "    var x = e.pageX - (boundingRect.left + document.body.scrollLeft);\n",
       "    var y = e.pageY - (boundingRect.top + document.body.scrollTop);\n",
       "\n",
       "    return { x: x, y: y };\n",
       "};\n",
       "\n",
       "/*\n",
       " * return a copy of an object with only non-object keys\n",
       " * we need this to avoid circular references\n",
       " * http://stackoverflow.com/a/24161582/3208463\n",
       " */\n",
       "function simpleKeys(original) {\n",
       "    return Object.keys(original).reduce(function (obj, key) {\n",
       "        if (typeof original[key] !== 'object') {\n",
       "            obj[key] = original[key];\n",
       "        }\n",
       "        return obj;\n",
       "    }, {});\n",
       "}\n",
       "\n",
       "mpl.figure.prototype.mouse_event = function (event, name) {\n",
       "    var canvas_pos = mpl.findpos(event);\n",
       "\n",
       "    if (name === 'button_press') {\n",
       "        this.canvas.focus();\n",
       "        this.canvas_div.focus();\n",
       "    }\n",
       "\n",
       "    var x = canvas_pos.x * this.ratio;\n",
       "    var y = canvas_pos.y * this.ratio;\n",
       "\n",
       "    this.send_message(name, {\n",
       "        x: x,\n",
       "        y: y,\n",
       "        button: event.button,\n",
       "        step: event.step,\n",
       "        guiEvent: simpleKeys(event),\n",
       "    });\n",
       "\n",
       "    /* This prevents the web browser from automatically changing to\n",
       "     * the text insertion cursor when the button is pressed.  We want\n",
       "     * to control all of the cursor setting manually through the\n",
       "     * 'cursor' event from matplotlib */\n",
       "    event.preventDefault();\n",
       "    return false;\n",
       "};\n",
       "\n",
       "mpl.figure.prototype._key_event_extra = function (_event, _name) {\n",
       "    // Handle any extra behaviour associated with a key event\n",
       "};\n",
       "\n",
       "mpl.figure.prototype.key_event = function (event, name) {\n",
       "    // Prevent repeat events\n",
       "    if (name === 'key_press') {\n",
       "        if (event.which === this._key) {\n",
       "            return;\n",
       "        } else {\n",
       "            this._key = event.which;\n",
       "        }\n",
       "    }\n",
       "    if (name === 'key_release') {\n",
       "        this._key = null;\n",
       "    }\n",
       "\n",
       "    var value = '';\n",
       "    if (event.ctrlKey && event.which !== 17) {\n",
       "        value += 'ctrl+';\n",
       "    }\n",
       "    if (event.altKey && event.which !== 18) {\n",
       "        value += 'alt+';\n",
       "    }\n",
       "    if (event.shiftKey && event.which !== 16) {\n",
       "        value += 'shift+';\n",
       "    }\n",
       "\n",
       "    value += 'k';\n",
       "    value += event.which.toString();\n",
       "\n",
       "    this._key_event_extra(event, name);\n",
       "\n",
       "    this.send_message(name, { key: value, guiEvent: simpleKeys(event) });\n",
       "    return false;\n",
       "};\n",
       "\n",
       "mpl.figure.prototype.toolbar_button_onclick = function (name) {\n",
       "    if (name === 'download') {\n",
       "        this.handle_save(this, null);\n",
       "    } else {\n",
       "        this.send_message('toolbar_button', { name: name });\n",
       "    }\n",
       "};\n",
       "\n",
       "mpl.figure.prototype.toolbar_button_onmouseover = function (tooltip) {\n",
       "    this.message.textContent = tooltip;\n",
       "};\n",
       "\n",
       "///////////////// REMAINING CONTENT GENERATED BY embed_js.py /////////////////\n",
       "// prettier-ignore\n",
       "var _JSXTOOLS_RESIZE_OBSERVER=function(A){var t,i=new WeakMap,n=new WeakMap,a=new WeakMap,r=new WeakMap,o=new Set;function s(e){if(!(this instanceof s))throw new TypeError(\"Constructor requires 'new' operator\");i.set(this,e)}function h(){throw new TypeError(\"Function is not a constructor\")}function c(e,t,i,n){e=0 in arguments?Number(arguments[0]):0,t=1 in arguments?Number(arguments[1]):0,i=2 in arguments?Number(arguments[2]):0,n=3 in arguments?Number(arguments[3]):0,this.right=(this.x=this.left=e)+(this.width=i),this.bottom=(this.y=this.top=t)+(this.height=n),Object.freeze(this)}function d(){t=requestAnimationFrame(d);var s=new WeakMap,p=new Set;o.forEach((function(t){r.get(t).forEach((function(i){var r=t instanceof window.SVGElement,o=a.get(t),d=r?0:parseFloat(o.paddingTop),f=r?0:parseFloat(o.paddingRight),l=r?0:parseFloat(o.paddingBottom),u=r?0:parseFloat(o.paddingLeft),g=r?0:parseFloat(o.borderTopWidth),m=r?0:parseFloat(o.borderRightWidth),w=r?0:parseFloat(o.borderBottomWidth),b=u+f,F=d+l,v=(r?0:parseFloat(o.borderLeftWidth))+m,W=g+w,y=r?0:t.offsetHeight-W-t.clientHeight,E=r?0:t.offsetWidth-v-t.clientWidth,R=b+v,z=F+W,M=r?t.width:parseFloat(o.width)-R-E,O=r?t.height:parseFloat(o.height)-z-y;if(n.has(t)){var k=n.get(t);if(k[0]===M&&k[1]===O)return}n.set(t,[M,O]);var S=Object.create(h.prototype);S.target=t,S.contentRect=new c(u,d,M,O),s.has(i)||(s.set(i,[]),p.add(i)),s.get(i).push(S)}))})),p.forEach((function(e){i.get(e).call(e,s.get(e),e)}))}return s.prototype.observe=function(i){if(i instanceof window.Element){r.has(i)||(r.set(i,new Set),o.add(i),a.set(i,window.getComputedStyle(i)));var n=r.get(i);n.has(this)||n.add(this),cancelAnimationFrame(t),t=requestAnimationFrame(d)}},s.prototype.unobserve=function(i){if(i instanceof window.Element&&r.has(i)){var n=r.get(i);n.has(this)&&(n.delete(this),n.size||(r.delete(i),o.delete(i))),n.size||r.delete(i),o.size||cancelAnimationFrame(t)}},A.DOMRectReadOnly=c,A.ResizeObserver=s,A.ResizeObserverEntry=h,A}; // eslint-disable-line\n",
       "mpl.toolbar_items = [[\"Home\", \"Reset original view\", \"fa fa-home icon-home\", \"home\"], [\"Back\", \"Back to previous view\", \"fa fa-arrow-left icon-arrow-left\", \"back\"], [\"Forward\", \"Forward to next view\", \"fa fa-arrow-right icon-arrow-right\", \"forward\"], [\"\", \"\", \"\", \"\"], [\"Pan\", \"Left button pans, Right button zooms\\nx/y fixes axis, CTRL fixes aspect\", \"fa fa-arrows icon-move\", \"pan\"], [\"Zoom\", \"Zoom to rectangle\\nx/y fixes axis, CTRL fixes aspect\", \"fa fa-square-o icon-check-empty\", \"zoom\"], [\"\", \"\", \"\", \"\"], [\"Download\", \"Download plot\", \"fa fa-floppy-o icon-save\", \"download\"]];\n",
       "\n",
       "mpl.extensions = [\"eps\", \"jpeg\", \"pdf\", \"png\", \"ps\", \"raw\", \"svg\", \"tif\"];\n",
       "\n",
       "mpl.default_extension = \"png\";/* global mpl */\n",
       "\n",
       "var comm_websocket_adapter = function (comm) {\n",
       "    // Create a \"websocket\"-like object which calls the given IPython comm\n",
       "    // object with the appropriate methods. Currently this is a non binary\n",
       "    // socket, so there is still some room for performance tuning.\n",
       "    var ws = {};\n",
       "\n",
       "    ws.close = function () {\n",
       "        comm.close();\n",
       "    };\n",
       "    ws.send = function (m) {\n",
       "        //console.log('sending', m);\n",
       "        comm.send(m);\n",
       "    };\n",
       "    // Register the callback with on_msg.\n",
       "    comm.on_msg(function (msg) {\n",
       "        //console.log('receiving', msg['content']['data'], msg);\n",
       "        // Pass the mpl event to the overridden (by mpl) onmessage function.\n",
       "        ws.onmessage(msg['content']['data']);\n",
       "    });\n",
       "    return ws;\n",
       "};\n",
       "\n",
       "mpl.mpl_figure_comm = function (comm, msg) {\n",
       "    // This is the function which gets called when the mpl process\n",
       "    // starts-up an IPython Comm through the \"matplotlib\" channel.\n",
       "\n",
       "    var id = msg.content.data.id;\n",
       "    // Get hold of the div created by the display call when the Comm\n",
       "    // socket was opened in Python.\n",
       "    var element = document.getElementById(id);\n",
       "    var ws_proxy = comm_websocket_adapter(comm);\n",
       "\n",
       "    function ondownload(figure, _format) {\n",
       "        window.open(figure.canvas.toDataURL());\n",
       "    }\n",
       "\n",
       "    var fig = new mpl.figure(id, ws_proxy, ondownload, element);\n",
       "\n",
       "    // Call onopen now - mpl needs it, as it is assuming we've passed it a real\n",
       "    // web socket which is closed, not our websocket->open comm proxy.\n",
       "    ws_proxy.onopen();\n",
       "\n",
       "    fig.parent_element = element;\n",
       "    fig.cell_info = mpl.find_output_cell(\"<div id='\" + id + \"'></div>\");\n",
       "    if (!fig.cell_info) {\n",
       "        console.error('Failed to find cell for figure', id, fig);\n",
       "        return;\n",
       "    }\n",
       "    fig.cell_info[0].output_area.element.on(\n",
       "        'cleared',\n",
       "        { fig: fig },\n",
       "        fig._remove_fig_handler\n",
       "    );\n",
       "};\n",
       "\n",
       "mpl.figure.prototype.handle_close = function (fig, msg) {\n",
       "    var width = fig.canvas.width / fig.ratio;\n",
       "    fig.cell_info[0].output_area.element.off(\n",
       "        'cleared',\n",
       "        fig._remove_fig_handler\n",
       "    );\n",
       "    fig.resizeObserverInstance.unobserve(fig.canvas_div);\n",
       "\n",
       "    // Update the output cell to use the data from the current canvas.\n",
       "    fig.push_to_output();\n",
       "    var dataURL = fig.canvas.toDataURL();\n",
       "    // Re-enable the keyboard manager in IPython - without this line, in FF,\n",
       "    // the notebook keyboard shortcuts fail.\n",
       "    IPython.keyboard_manager.enable();\n",
       "    fig.parent_element.innerHTML =\n",
       "        '<img src=\"' + dataURL + '\" width=\"' + width + '\">';\n",
       "    fig.close_ws(fig, msg);\n",
       "};\n",
       "\n",
       "mpl.figure.prototype.close_ws = function (fig, msg) {\n",
       "    fig.send_message('closing', msg);\n",
       "    // fig.ws.close()\n",
       "};\n",
       "\n",
       "mpl.figure.prototype.push_to_output = function (_remove_interactive) {\n",
       "    // Turn the data on the canvas into data in the output cell.\n",
       "    var width = this.canvas.width / this.ratio;\n",
       "    var dataURL = this.canvas.toDataURL();\n",
       "    this.cell_info[1]['text/html'] =\n",
       "        '<img src=\"' + dataURL + '\" width=\"' + width + '\">';\n",
       "};\n",
       "\n",
       "mpl.figure.prototype.updated_canvas_event = function () {\n",
       "    // Tell IPython that the notebook contents must change.\n",
       "    IPython.notebook.set_dirty(true);\n",
       "    this.send_message('ack', {});\n",
       "    var fig = this;\n",
       "    // Wait a second, then push the new image to the DOM so\n",
       "    // that it is saved nicely (might be nice to debounce this).\n",
       "    setTimeout(function () {\n",
       "        fig.push_to_output();\n",
       "    }, 1000);\n",
       "};\n",
       "\n",
       "mpl.figure.prototype._init_toolbar = function () {\n",
       "    var fig = this;\n",
       "\n",
       "    var toolbar = document.createElement('div');\n",
       "    toolbar.classList = 'btn-toolbar';\n",
       "    this.root.appendChild(toolbar);\n",
       "\n",
       "    function on_click_closure(name) {\n",
       "        return function (_event) {\n",
       "            return fig.toolbar_button_onclick(name);\n",
       "        };\n",
       "    }\n",
       "\n",
       "    function on_mouseover_closure(tooltip) {\n",
       "        return function (event) {\n",
       "            if (!event.currentTarget.disabled) {\n",
       "                return fig.toolbar_button_onmouseover(tooltip);\n",
       "            }\n",
       "        };\n",
       "    }\n",
       "\n",
       "    fig.buttons = {};\n",
       "    var buttonGroup = document.createElement('div');\n",
       "    buttonGroup.classList = 'btn-group';\n",
       "    var button;\n",
       "    for (var toolbar_ind in mpl.toolbar_items) {\n",
       "        var name = mpl.toolbar_items[toolbar_ind][0];\n",
       "        var tooltip = mpl.toolbar_items[toolbar_ind][1];\n",
       "        var image = mpl.toolbar_items[toolbar_ind][2];\n",
       "        var method_name = mpl.toolbar_items[toolbar_ind][3];\n",
       "\n",
       "        if (!name) {\n",
       "            /* Instead of a spacer, we start a new button group. */\n",
       "            if (buttonGroup.hasChildNodes()) {\n",
       "                toolbar.appendChild(buttonGroup);\n",
       "            }\n",
       "            buttonGroup = document.createElement('div');\n",
       "            buttonGroup.classList = 'btn-group';\n",
       "            continue;\n",
       "        }\n",
       "\n",
       "        button = fig.buttons[name] = document.createElement('button');\n",
       "        button.classList = 'btn btn-default';\n",
       "        button.href = '#';\n",
       "        button.title = name;\n",
       "        button.innerHTML = '<i class=\"fa ' + image + ' fa-lg\"></i>';\n",
       "        button.addEventListener('click', on_click_closure(method_name));\n",
       "        button.addEventListener('mouseover', on_mouseover_closure(tooltip));\n",
       "        buttonGroup.appendChild(button);\n",
       "    }\n",
       "\n",
       "    if (buttonGroup.hasChildNodes()) {\n",
       "        toolbar.appendChild(buttonGroup);\n",
       "    }\n",
       "\n",
       "    // Add the status bar.\n",
       "    var status_bar = document.createElement('span');\n",
       "    status_bar.classList = 'mpl-message pull-right';\n",
       "    toolbar.appendChild(status_bar);\n",
       "    this.message = status_bar;\n",
       "\n",
       "    // Add the close button to the window.\n",
       "    var buttongrp = document.createElement('div');\n",
       "    buttongrp.classList = 'btn-group inline pull-right';\n",
       "    button = document.createElement('button');\n",
       "    button.classList = 'btn btn-mini btn-primary';\n",
       "    button.href = '#';\n",
       "    button.title = 'Stop Interaction';\n",
       "    button.innerHTML = '<i class=\"fa fa-power-off icon-remove icon-large\"></i>';\n",
       "    button.addEventListener('click', function (_evt) {\n",
       "        fig.handle_close(fig, {});\n",
       "    });\n",
       "    button.addEventListener(\n",
       "        'mouseover',\n",
       "        on_mouseover_closure('Stop Interaction')\n",
       "    );\n",
       "    buttongrp.appendChild(button);\n",
       "    var titlebar = this.root.querySelector('.ui-dialog-titlebar');\n",
       "    titlebar.insertBefore(buttongrp, titlebar.firstChild);\n",
       "};\n",
       "\n",
       "mpl.figure.prototype._remove_fig_handler = function (event) {\n",
       "    var fig = event.data.fig;\n",
       "    if (event.target !== this) {\n",
       "        // Ignore bubbled events from children.\n",
       "        return;\n",
       "    }\n",
       "    fig.close_ws(fig, {});\n",
       "};\n",
       "\n",
       "mpl.figure.prototype._root_extra_style = function (el) {\n",
       "    el.style.boxSizing = 'content-box'; // override notebook setting of border-box.\n",
       "};\n",
       "\n",
       "mpl.figure.prototype._canvas_extra_style = function (el) {\n",
       "    // this is important to make the div 'focusable\n",
       "    el.setAttribute('tabindex', 0);\n",
       "    // reach out to IPython and tell the keyboard manager to turn it's self\n",
       "    // off when our div gets focus\n",
       "\n",
       "    // location in version 3\n",
       "    if (IPython.notebook.keyboard_manager) {\n",
       "        IPython.notebook.keyboard_manager.register_events(el);\n",
       "    } else {\n",
       "        // location in version 2\n",
       "        IPython.keyboard_manager.register_events(el);\n",
       "    }\n",
       "};\n",
       "\n",
       "mpl.figure.prototype._key_event_extra = function (event, _name) {\n",
       "    var manager = IPython.notebook.keyboard_manager;\n",
       "    if (!manager) {\n",
       "        manager = IPython.keyboard_manager;\n",
       "    }\n",
       "\n",
       "    // Check for shift+enter\n",
       "    if (event.shiftKey && event.which === 13) {\n",
       "        this.canvas_div.blur();\n",
       "        // select the cell after this one\n",
       "        var index = IPython.notebook.find_cell_index(this.cell_info[0]);\n",
       "        IPython.notebook.select(index + 1);\n",
       "    }\n",
       "};\n",
       "\n",
       "mpl.figure.prototype.handle_save = function (fig, _msg) {\n",
       "    fig.ondownload(fig, null);\n",
       "};\n",
       "\n",
       "mpl.find_output_cell = function (html_output) {\n",
       "    // Return the cell and output element which can be found *uniquely* in the notebook.\n",
       "    // Note - this is a bit hacky, but it is done because the \"notebook_saving.Notebook\"\n",
       "    // IPython event is triggered only after the cells have been serialised, which for\n",
       "    // our purposes (turning an active figure into a static one), is too late.\n",
       "    var cells = IPython.notebook.get_cells();\n",
       "    var ncells = cells.length;\n",
       "    for (var i = 0; i < ncells; i++) {\n",
       "        var cell = cells[i];\n",
       "        if (cell.cell_type === 'code') {\n",
       "            for (var j = 0; j < cell.output_area.outputs.length; j++) {\n",
       "                var data = cell.output_area.outputs[j];\n",
       "                if (data.data) {\n",
       "                    // IPython >= 3 moved mimebundle to data attribute of output\n",
       "                    data = data.data;\n",
       "                }\n",
       "                if (data['text/html'] === html_output) {\n",
       "                    return [cell, data, j];\n",
       "                }\n",
       "            }\n",
       "        }\n",
       "    }\n",
       "};\n",
       "\n",
       "// Register the function which deals with the matplotlib target/channel.\n",
       "// The kernel may be null if the page has been refreshed.\n",
       "if (IPython.notebook.kernel !== null) {\n",
       "    IPython.notebook.kernel.comm_manager.register_target(\n",
       "        'matplotlib',\n",
       "        mpl.mpl_figure_comm\n",
       "    );\n",
       "}\n"
      ],
      "text/plain": [
       "<IPython.core.display.Javascript object>"
      ]
     },
     "metadata": {},
     "output_type": "display_data"
    },
    {
     "data": {
      "text/html": [
       "<img src=\"data:image/png;base64,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\" width=\"900\">"
      ],
      "text/plain": [
       "<IPython.core.display.HTML object>"
      ]
     },
     "metadata": {},
     "output_type": "display_data"
    }
   ],
   "source": [
    "def plot_anim(t_ind=0):\n",
    "    mpc_graphics.plot_results(t_ind=t_ind)\n",
    "    mpc_graphics.plot_predictions(t_ind=t_ind)\n",
    "    mpc_graphics.reset_axes()\n",
    "\n",
    "    \n",
    "widgets.interact(plot_anim,\n",
    "        t_ind = widgets.IntSlider(value=0,min=0,max=N_sim-1)\n",
    "        )\n",
    "\n",
    "fig"
   ]
  }
 ],
 "metadata": {
  "graffiti": {
   "firstAuthorId": "dev",
   "id": "id_fr104wg",
   "language": "EN"
  },
  "kernelspec": {
   "display_name": "Python 3",
   "language": "python",
   "name": "python3"
  },
  "language_info": {
   "codemirror_mode": {
    "name": "ipython",
    "version": 3
   },
   "file_extension": ".py",
   "mimetype": "text/x-python",
   "name": "python",
   "nbconvert_exporter": "python",
   "pygments_lexer": "ipython3",
   "version": "3.8.5"
  },
  "toc": {
   "base_numbering": 1,
   "nav_menu": {},
   "number_sections": true,
   "sideBar": true,
   "skip_h1_title": false,
   "title_cell": "Table of Contents",
   "title_sidebar": "Contents",
   "toc_cell": false,
   "toc_position": {},
   "toc_section_display": true,
   "toc_window_display": false
  }
 },
 "nbformat": 4,
 "nbformat_minor": 2
}
