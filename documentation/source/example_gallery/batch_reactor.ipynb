{
 "cells": [
  {
   "cell_type": "markdown",
   "metadata": {},
   "source": [
    "# Batch Bioreactor\n",
    "\n",
    "In this Jupyter Notebook we illustrate the example **batch_reactor**.\n",
    "\n",
    "The example consists of the three modules **template_model.py**, which describes the system model, **template_mpc.py**, which defines the settings for the control and **template_simulator.py**, which sets the parameters for the simulator.\n",
    "The modules are used in **main.py** for the closed-loop execution of the controller.\n",
    "\n",
    "In the following the different parts are presented. But first, we start by importing basic modules and **do-mpc**."
   ]
  },
  {
   "cell_type": "code",
   "execution_count": 2,
   "metadata": {},
   "outputs": [],
   "source": [
    "import numpy as np\n",
    "import sys\n",
    "from casadi import *\n",
    "\n",
    "# Add do_mpc to path. This is not necessary if it was installed via pip\n",
    "sys.path.append('../../../')\n",
    "\n",
    "# Import do_mpc package:\n",
    "import do_mpc"
   ]
  },
  {
   "cell_type": "markdown",
   "metadata": {},
   "source": [
    "## Model"
   ]
  },
  {
   "cell_type": "markdown",
   "metadata": {},
   "source": [
    "In the following we will present the configuration, setup and connection between these blocks, starting with the `model`. "
   ]
  },
  {
   "cell_type": "markdown",
   "metadata": {},
   "source": [
    "The considered model of the batch bioreactor is continuous and has 4 states and 1 control input, which are depicted below:\n",
    "![schematic_batch_reactor](batch_reactor.png)\n",
    "\n",
    "The model is initiated by:"
   ]
  },
  {
   "cell_type": "code",
   "execution_count": 3,
   "metadata": {},
   "outputs": [],
   "source": [
    "model_type = 'continuous' # either 'discrete' or 'continuous'\n",
    "model = do_mpc.model.Model(model_type)"
   ]
  },
  {
   "cell_type": "markdown",
   "metadata": {},
   "source": [
    "### States and control inputs\n",
    "\n",
    "The four states are concentration of the biomass $X_{\\text{s}}$, the concentration of the substrate $S_{\\text{s}}$, the concentration of the product $P_{\\text{s}}$ and the volume $V_{\\text{s}}$:"
   ]
  },
  {
   "cell_type": "code",
   "execution_count": 4,
   "metadata": {},
   "outputs": [],
   "source": [
    "# States struct (optimization variables):\n",
    "X_s = model.set_variable('_x',  'X_s')\n",
    "S_s = model.set_variable('_x',  'S_s')\n",
    "P_s = model.set_variable('_x',  'P_s')\n",
    "V_s = model.set_variable('_x',  'V_s')"
   ]
  },
  {
   "cell_type": "markdown",
   "metadata": {},
   "source": [
    "The control input is the feed flow rate $u_{\\text{inp}}$ of $S_{\\text{s}}$:"
   ]
  },
  {
   "cell_type": "code",
   "execution_count": 5,
   "metadata": {},
   "outputs": [],
   "source": [
    "# Input struct (optimization variables):\n",
    "inp = model.set_variable('_u',  'inp')"
   ]
  },
  {
   "cell_type": "markdown",
   "metadata": {},
   "source": [
    "### ODE and parameters\n",
    "\n",
    "The system model is described by the ordinary differential equation:\n",
    "\n",
    "\\begin{align}\n",
    "\\dot{X}_{\\text{s}} &=\\mu(S_{\\text{s}})X_{\\text{s}}-\\frac{u_{\\text{inp}}}{V_{\\text{s}}}X_{\\text{s}},\\\\\n",
    "\\dot{S}_{\\text{s}} &=-\\frac{\\mu(S_{\\text{s}})X_{\\text{s}}}{Y_{\\text{x}}}-\\frac{vX_{\\text{s}}}{Y_{\\text{p}}}+\\frac{u_{\\text{inp}}}{V_{\\text{s}}}(S_{\\text{in}}-S_{\\text{s}}),\\\\\n",
    "\\dot{P}_{\\text{s}} &=vX_{\\text{s}}-\\frac{u_{\\text{inp}}}{V_{\\text{s}}}P_{\\text{s}},\\\\\n",
    "\\dot{V}_{\\text{s}} &=u_{\\text{inp}},\\\\\n",
    "\\end{align}\n",
    "\n",
    "where:\n",
    "\n",
    "\\begin{align}\n",
    "\\mu(S_{\\text{s}})&=\\frac{\\mu_{\\text{m}} S_{\\text{s}}}{K_{\\text{m}}+S_{\\text{s}}+(S_{\\text{s}}^2/K_{\\text{i}})},\n",
    "\\end{align}\n",
    "\n",
    "$S_{\\text{in}}$ is the inlet substrate concentration, $\\mu_{\\text{m}}$, $K_{\\text{m}}$, $K_{\\text{i}}$ and $v$ are kinetic parameters $Y_{\\text{x}}$ and $Y_{\\text{p}}$ are yield coefficients.\n",
    "The inlet substrate concentration $S_{\\text{in}}$ and the $Y_{\\text{x}}$ are uncertain while the rest of the parameters is considered certain:"
   ]
  },
  {
   "cell_type": "code",
   "execution_count": 6,
   "metadata": {},
   "outputs": [],
   "source": [
    "# Certain parameters\n",
    "mu_m  = 0.02\n",
    "K_m\t  = 0.05\n",
    "K_i\t  = 5.0\n",
    "v_par = 0.004\n",
    "Y_p\t  = 1.2\n",
    "\n",
    "# Uncertain parameters:\n",
    "Y_x  = model.set_variable('_p',  'Y_x')\n",
    "S_in = model.set_variable('_p', 'S_in')"
   ]
  },
  {
   "cell_type": "markdown",
   "metadata": {},
   "source": [
    "In the next step, the ODE for each state is set:"
   ]
  },
  {
   "cell_type": "code",
   "execution_count": 7,
   "metadata": {},
   "outputs": [],
   "source": [
    "# Auxiliary term\n",
    "mu_S = mu_m*S_s/(K_m+S_s+(S_s**2/K_i))\n",
    "\n",
    "# Differential equations\n",
    "model.set_rhs('X_s', mu_S*X_s - inp/V_s*X_s)\n",
    "model.set_rhs('S_s', -mu_S*X_s/Y_x - v_par*X_s/Y_p + inp/V_s*(S_in-S_s))\n",
    "model.set_rhs('P_s', v_par*X_s - inp/V_s*P_s)\n",
    "model.set_rhs('V_s', inp)"
   ]
  },
  {
   "cell_type": "markdown",
   "metadata": {},
   "source": [
    "Finally, the model setup is completed:"
   ]
  },
  {
   "cell_type": "code",
   "execution_count": 8,
   "metadata": {},
   "outputs": [],
   "source": [
    "# Build the model\n",
    "model.setup()"
   ]
  },
  {
   "cell_type": "markdown",
   "metadata": {},
   "source": [
    "## Controller\n"
   ]
  },
  {
   "cell_type": "markdown",
   "metadata": {},
   "source": [
    "Next, the controller is configured.\n",
    "First, one member of the mpc class is generated with the prediction model defined above:"
   ]
  },
  {
   "cell_type": "code",
   "execution_count": 9,
   "metadata": {},
   "outputs": [],
   "source": [
    "mpc = do_mpc.controller.MPC(model)"
   ]
  },
  {
   "cell_type": "markdown",
   "metadata": {},
   "source": [
    "We choose the prediction horizon `n_horizon`, set the robust horizon `n_robust` to 3. The time step `t_step` is set to one second and parameters of the applied discretization scheme orthogonal collocation are as seen below:"
   ]
  },
  {
   "cell_type": "code",
   "execution_count": 10,
   "metadata": {},
   "outputs": [],
   "source": [
    "setup_mpc = {\n",
    "    'n_horizon': 20,\n",
    "    'n_robust': 1,\n",
    "    'open_loop': 0,\n",
    "    't_step': 1.0,\n",
    "    'state_discretization': 'collocation',\n",
    "    'collocation_type': 'radau',\n",
    "    'collocation_deg': 2,\n",
    "    'collocation_ni': 2,\n",
    "    'store_full_solution': True,\n",
    "    # Use MA27 linear solver in ipopt for faster calculations:\n",
    "    #'nlpsol_opts': {'ipopt.linear_solver': 'MA27'}\n",
    "}\n",
    "\n",
    "mpc.set_param(**setup_mpc)"
   ]
  },
  {
   "cell_type": "markdown",
   "metadata": {},
   "source": [
    "### Objective\n",
    "\n",
    "The batch bioreactor is used to produce penicillin.\n",
    "Hence, the objective of the controller is to maximize the concentration of the product $P_{\\text{s}}$.\n",
    "Additionally, we add a penalty on input changes, to obtain a smooth control performance."
   ]
  },
  {
   "cell_type": "code",
   "execution_count": 11,
   "metadata": {},
   "outputs": [],
   "source": [
    "mterm = -model.x['P_s'] # stage cost\n",
    "lterm = -model.x['P_s'] # terminal cost\n",
    "\n",
    "mpc.set_objective(mterm=mterm, lterm=lterm)\n",
    "mpc.set_rterm(inp=1.0) # penalty on input changes"
   ]
  },
  {
   "cell_type": "markdown",
   "metadata": {},
   "source": [
    "### Constraints\n",
    "\n",
    "In the next step, the constraints of the control problem are set.\n",
    "In this case, there are only upper and lower bounds for each state and the input:"
   ]
  },
  {
   "cell_type": "code",
   "execution_count": 12,
   "metadata": {},
   "outputs": [],
   "source": [
    "# lower bounds of the states\n",
    "mpc.bounds['lower', '_x', 'X_s'] = 0.0\n",
    "mpc.bounds['lower', '_x', 'S_s'] = -0.01\n",
    "mpc.bounds['lower', '_x', 'P_s'] = 0.0\n",
    "mpc.bounds['lower', '_x', 'V_s'] = 0.0\n",
    "\n",
    "# upper bounds of the states\n",
    "mpc.bounds['upper', '_x','X_s'] = 3.7\n",
    "mpc.bounds['upper', '_x','P_s'] = 3.0\n",
    "\n",
    "# upper and lower bounds of the control input\n",
    "mpc.bounds['lower','_u','inp'] = 0.0\n",
    "mpc.bounds['upper','_u','inp'] = 0.2"
   ]
  },
  {
   "cell_type": "markdown",
   "metadata": {},
   "source": [
    "### Uncertain values\n",
    "\n",
    "The explicit values of the two uncertain parameters $Y_{\\text{x}}$ and $S_{\\text{in}}$, which are considered in the scenario tree, are given by:"
   ]
  },
  {
   "cell_type": "code",
   "execution_count": 13,
   "metadata": {},
   "outputs": [],
   "source": [
    "Y_x_values = np.array([0.5, 0.4, 0.3])\n",
    "S_in_values = np.array([200.0, 220.0, 180.0])\n",
    "\n",
    "mpc.set_uncertainty_values([Y_x_values, S_in_values])"
   ]
  },
  {
   "cell_type": "markdown",
   "metadata": {},
   "source": [
    "This means with `n_robust=1`, that 9 different scenarios are considered.\n",
    "The setup of the MPC controller is concluded by:"
   ]
  },
  {
   "cell_type": "code",
   "execution_count": 14,
   "metadata": {},
   "outputs": [],
   "source": [
    "mpc.setup()"
   ]
  },
  {
   "cell_type": "markdown",
   "metadata": {},
   "source": [
    "## Estimator\n",
    "\n",
    "We assume, that all states can be directly measured (state-feedback):"
   ]
  },
  {
   "cell_type": "code",
   "execution_count": 16,
   "metadata": {},
   "outputs": [],
   "source": [
    "estimator = do_mpc.estimator.StateFeedback(model)"
   ]
  },
  {
   "cell_type": "markdown",
   "metadata": {},
   "source": [
    "## Simulator\n",
    "\n",
    "To create a simulator in order to run the MPC in a closed-loop, we create an instance of the **do-mpc** simulator which is based on the same model:"
   ]
  },
  {
   "cell_type": "code",
   "execution_count": 17,
   "metadata": {},
   "outputs": [],
   "source": [
    "simulator = do_mpc.simulator.Simulator(model)"
   ]
  },
  {
   "cell_type": "markdown",
   "metadata": {},
   "source": [
    "For the simulation, we use the time step `t_step` as for the optimizer:"
   ]
  },
  {
   "cell_type": "code",
   "execution_count": 18,
   "metadata": {},
   "outputs": [],
   "source": [
    "params_simulator = {\n",
    "    'integration_tool': 'cvodes',\n",
    "    'abstol': 1e-10,\n",
    "    'reltol': 1e-10,\n",
    "    't_step': 1.0\n",
    "}\n",
    "\n",
    "simulator.set_param(**params_simulator)"
   ]
  },
  {
   "cell_type": "markdown",
   "metadata": {},
   "source": [
    "### Realizations of uncertain parameters\n",
    "\n",
    "For the simulatiom, it is necessary to define the numerical realizations of the uncertain parameters in `p_num`.\n",
    "First, we get the structure of the uncertain parameters:"
   ]
  },
  {
   "cell_type": "code",
   "execution_count": 19,
   "metadata": {},
   "outputs": [],
   "source": [
    "p_num = simulator.get_p_template()"
   ]
  },
  {
   "cell_type": "markdown",
   "metadata": {},
   "source": [
    "We define a function which is called in each simulation step, which gives the current realization of the uncertain parameters, with respect to defined inputs (in this case `t_now`):"
   ]
  },
  {
   "cell_type": "code",
   "execution_count": 20,
   "metadata": {},
   "outputs": [],
   "source": [
    "p_num['Y_x'] = 0.4\n",
    "p_num['S_in'] = 200.0\n",
    "\n",
    "# function definition\n",
    "def p_fun(t_now):\n",
    "    return p_num\n",
    "\n",
    "# Set the user-defined function above as the function for the realization of the uncertain parameters\n",
    "simulator.set_p_fun(p_fun)"
   ]
  },
  {
   "cell_type": "markdown",
   "metadata": {},
   "source": [
    "By defining `p_fun` as above, the function will always return the same values.\n",
    "To finish the configuration of the simulator, call:"
   ]
  },
  {
   "cell_type": "code",
   "execution_count": 21,
   "metadata": {},
   "outputs": [],
   "source": [
    "simulator.setup()"
   ]
  },
  {
   "cell_type": "markdown",
   "metadata": {},
   "source": [
    "## Closed-loop simulation\n",
    "\n",
    "For the simulation of the MPC configured for the batch bioreactor, we inspect the file **main.py**.\n",
    "We define the initial state of the system and set for all parts of the closed-loop configuration:"
   ]
  },
  {
   "cell_type": "code",
   "execution_count": 22,
   "metadata": {},
   "outputs": [],
   "source": [
    "# Initial state\n",
    "X_s_0 = 1.0 # Concentration biomass [mol/l]\n",
    "S_s_0 = 0.5 # Concentration substrate [mol/l]\n",
    "P_s_0 = 0.0 # Concentration product [mol/l]\n",
    "V_s_0 = 120.0 # Volume inside tank [m^3]\n",
    "x0 = np.array([X_s_0, S_s_0, P_s_0, V_s_0])\n",
    "\n",
    "# Set for controller, simulator and estimator\n",
    "mpc.x0 = x0\n",
    "simulator.x0 = x0\n",
    "estimator.x0 = x0\n",
    "mpc.set_initial_guess()"
   ]
  },
  {
   "cell_type": "markdown",
   "metadata": {},
   "source": [
    "### Prepare visualization\n",
    "\n",
    "For the visualization of the control performance, we first import matplotlib and change some basic settings:"
   ]
  },
  {
   "cell_type": "code",
   "execution_count": 23,
   "metadata": {},
   "outputs": [],
   "source": [
    "import matplotlib.pyplot as plt\n",
    "plt.ion()\n",
    "from matplotlib import rcParams\n",
    "rcParams['text.usetex'] = True\n",
    "rcParams['text.latex.preamble'] = [r'\\usepackage{amsmath}',r'\\usepackage{siunitx}']\n",
    "rcParams['axes.grid'] = True\n",
    "rcParams['lines.linewidth'] = 2.0\n",
    "rcParams['axes.labelsize'] = 'xx-large'\n",
    "rcParams['xtick.labelsize'] = 'xx-large'\n",
    "rcParams['ytick.labelsize'] = 'xx-large'"
   ]
  },
  {
   "cell_type": "markdown",
   "metadata": {},
   "source": [
    "We use the plotting capabilities, which are included in **do-mpc**.\n",
    "The `mpc_graphics` contain information like the current estimated state and the predicted trajectory of the states and inputs based on the solution of the control problem.\n",
    "The `sim_graphics` contain the information about the simulated evaluation of the system."
   ]
  },
  {
   "cell_type": "code",
   "execution_count": 24,
   "metadata": {},
   "outputs": [],
   "source": [
    "mpc_graphics = do_mpc.graphics.Graphics(mpc.data)\n",
    "sim_graphics = do_mpc.graphics.Graphics(simulator.data)"
   ]
  },
  {
   "cell_type": "markdown",
   "metadata": {},
   "source": [
    "A figure containing the 4 states and the control input are created:"
   ]
  },
  {
   "cell_type": "code",
   "execution_count": 50,
   "metadata": {},
   "outputs": [],
   "source": [
    "%%capture\n",
    "fig, ax = plt.subplots(5, sharex=True, figsize=(16,9))\n",
    "fig.align_ylabels()\n",
    "\n",
    "for g in [sim_graphics,mpc_graphics]:\n",
    "    # Plot the state on axis 1 to 4:\n",
    "    g.add_line(var_type='_x', var_name='X_s', axis=ax[0], color='#1f77b4')\n",
    "    g.add_line(var_type='_x', var_name='S_s', axis=ax[1], color='#1f77b4')\n",
    "    g.add_line(var_type='_x', var_name='P_s', axis=ax[2], color='#1f77b4')\n",
    "    g.add_line(var_type='_x', var_name='V_s', axis=ax[3], color='#1f77b4')\n",
    "\n",
    "    # Plot the control input on axis 5:\n",
    "    g.add_line(var_type='_u', var_name='inp', axis=ax[4], color='#1f77b4')\n",
    "\n",
    "    \n",
    "ax[0].set_ylabel(r'$X_s~[\\si[per-mode=fraction]{\\mole\\per\\litre}]$')\n",
    "ax[1].set_ylabel(r'$S_s~[\\si[per-mode=fraction]{\\mole\\per\\litre}]$')\n",
    "ax[2].set_ylabel(r'$P_s~[\\si[per-mode=fraction]{\\mole\\per\\litre}]$')\n",
    "ax[3].set_ylabel(r'$V_s~[\\si[per-mode=fraction]{\\mole\\per\\litre}]$')\n",
    "ax[4].set_ylabel(r'$u_{\\text{inp}}~[\\si[per-mode=fraction]{\\cubic\\metre\\per\\minute}]$')\n",
    "ax[4].set_xlabel(r'$t~[\\si[per-mode=fraction]{\\minute}]$')"
   ]
  },
  {
   "cell_type": "markdown",
   "metadata": {},
   "source": [
    "### Run closed-loop\n",
    "\n",
    "The closed-loop system is now simulated for 50 steps (and the ouput of the optimizer is suppressed):"
   ]
  },
  {
   "cell_type": "code",
   "execution_count": 46,
   "metadata": {},
   "outputs": [],
   "source": [
    "%%capture\n",
    "n_steps = 50\n",
    "for k in range(n_steps):\n",
    "    u0 = mpc.make_step(x0)\n",
    "    y_next = simulator.make_step(u0)\n",
    "    x0 = estimator.make_step(y_next)"
   ]
  },
  {
   "cell_type": "markdown",
   "metadata": {},
   "source": [
    "### Results"
   ]
  },
  {
   "cell_type": "markdown",
   "metadata": {},
   "source": [
    "The resulting controlled trajectory can be displayed as shown below:"
   ]
  },
  {
   "cell_type": "code",
   "execution_count": 51,
   "metadata": {
    "scrolled": false
   },
   "outputs": [
    {
     "data": {
      "image/png": "[encoded data removed]",
      "text/plain": [
       "<Figure size 1152x648 with 5 Axes>"
      ]
     },
     "execution_count": 51,
     "metadata": {},
     "output_type": "execute_result"
    }
   ],
   "source": [
    "sim_graphics.plot_results()\n",
    "sim_graphics.reset_axes()\n",
    "fig"
   ]
  },
  {
   "cell_type": "markdown",
   "metadata": {},
   "source": [
    "The next cell converts the results of the closed-loop MPC simulation into a gif (might take a few minutes):"
   ]
  },
  {
   "cell_type": "code",
   "execution_count": 25,
   "metadata": {},
   "outputs": [],
   "source": [
    "from matplotlib.animation import FuncAnimation, FFMpegWriter, ImageMagickWriter\n",
    "\n",
    "# The function describing the gif:\n",
    "def update(t_ind):\n",
    "    sim_graphics.plot_results(t_ind)\n",
    "    mpc_graphics.plot_predictions(t_ind)\n",
    "    mpc_graphics.reset_axes()\n",
    "    \n",
    "\n",
    "anim = FuncAnimation(fig, update, frames=n_steps, repeat=False)\n",
    "gif_writer = ImageMagickWriter(fps=3)\n",
    "anim.save('anim_batch_reactor_final.gif', writer=gif_writer)"
   ]
  },
  {
   "cell_type": "markdown",
   "metadata": {},
   "source": [
    "The result is shown below, where blue are the real trajectories and orange are the predictions of the scenarios:"
   ]
  },
  {
   "cell_type": "markdown",
   "metadata": {},
   "source": [
    "![SegmentLocal](anim_batch_reactor_final.gif \"segment\")"
   ]
  }
 ],
 "metadata": {
  "kernelspec": {
   "display_name": "py36",
   "language": "python",
   "name": "py36"
  },
  "language_info": {
   "codemirror_mode": {
    "name": "ipython",
    "version": 3
   },
   "file_extension": ".py",
   "mimetype": "text/x-python",
   "name": "python",
   "nbconvert_exporter": "python",
   "pygments_lexer": "ipython3",
   "version": "3.6.10"
  },
  "toc": {
   "base_numbering": 1,
   "nav_menu": {},
   "number_sections": true,
   "sideBar": true,
   "skip_h1_title": false,
   "title_cell": "Table of Contents",
   "title_sidebar": "Contents",
   "toc_cell": false,
   "toc_position": {},
   "toc_section_display": true,
   "toc_window_display": false
  }
 },
 "nbformat": 4,
 "nbformat_minor": 2
}
