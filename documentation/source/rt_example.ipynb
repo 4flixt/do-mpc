{
 "cells": [
  {
   "cell_type": "markdown",
   "metadata": {},
   "source": [
    "# Getting started: real-time MPC\n",
    "\n",
    "\n",
    "Now that you are familiar with the basic MPC setups in **do-mpc**, let's have a look at what you might do next to take your \n",
    "design one step closer to a real application."
   ]
  },
  {
   "cell_type": "markdown",
   "metadata": {},
   "source": [
    "## Intro\n",
    "In this Jupyter Notebook we will have a look at setting up and running an example of a **do-mpc** configuration in a real-time environment, which mimics closely the reality encountered in the real world, be it in a lab setup or an industriyl application. The simulator will act as a stand-alone plant which, once started, runs continuously in the background. The MPC controller must have a means of communicating to the plant and sending it optimal inputs at certain time intervals. Additionally, the state of a real plant can rarely, if at all, be fully measured. Therefore a state estimator is typically used and this, too, will require to access plant measurements and provide the estimated state vector to the controller with a certain frequency.\n",
    "\n",
    "The previous paragraph briefly describes the real-time scenario that we will be implementing. One way of realizing it is to use a distributed, asynchronous and parallel software implementation. The communication between the MPC modules can be implemented using the classical client-server paradigm of software solutions. To be as close as possible to real, industrial applications, we have opted in **do-mpc** for an OPC UA solution which fulfills all requirements and has the benefit of being very relatable for practitioners from the process systems industry and not only. You can read more about FreeOPCUA at their [webpage](https://python-opcua.readthedocs.io/en/latest/index.html). \n",
    "\n",
    "The good news is that all of this is very easy to do in Python. All you need to do is to go to this repository and read the instructions for installing this free Python OPCUA library. While you're there, go ahead and also get their sample GUI Client, which will be very useful later on for inspecting the workings of your real-time solution. That's it! \n",
    "\n",
    "Spoiler: installing the requirements is best done through *pip*\n"
   ]
  },
  {
   "cell_type": "code",
   "execution_count": null,
   "metadata": {},
   "outputs": [],
   "source": [
    "pip install freeopcua, opcua-client"
   ]
  },
  {
   "cell_type": "markdown",
   "metadata": {},
   "source": [
    "## The real-time modules"
   ]
  },
  {
   "cell_type": "markdown",
   "metadata": {},
   "source": [
    "The following diagram illustrates what you've just read above. It shows the main MPC modules and the way data is exchanged between them via the OPCUA server, in the middle. It is important to mention that each module has its own OPCUA client, embedded away in its core. The data exchange is managed behind the curtains by **do-mpc**, such that each module reads onyl teh relevant data from the server and, conversly, only writes the meaningful stuff back on. For example the simulator only needs to read the latest available inputs. It also only writes the current measured outputs and, for debugging purposes, certain model parameters. \n",
    "\n",
    "![rtenvironmentchematic](rt_environment.png)"
   ]
  },
  {
   "cell_type": "markdown",
   "metadata": {},
   "source": [
    "### The do-mpc Server\n",
    "The first thing you want to do is to set up your Server and, maybe, a primary client which will allow you to access basic MPC data and other usefull things like flags and module switches. Don't worry, we'll go into more detail about them later."
   ]
  },
  {
   "cell_type": "code",
   "execution_count": null,
   "metadata": {},
   "outputs": [],
   "source": [
    "# Defining the settings for the OPCUA server\n",
    "server_opts = {\"_model\":model,                   # must be the model used to define the controller\n",
    "               \"_name\":\"Poly Reactor OPCUA\",     # give the server whatever name you prefer\n",
    "               \"_address\":\"opc.tcp://localhost:4840/freeopcua/server/\",  # does not need changing\n",
    "               \"_port\": 4840,                    # does not need changing\n",
    "               \"_server_type\": \"with_estimator\", # to use with either SFB or EKF estimators or select \"basic\" for no estimates\n",
    "               \"_store_params\": True,            # should always be set to True to spare yourself the headaches\n",
    "               \"_store_predictions\": False,      # set to True only if you plan to do fancy things with the predictions\n",
    "               \"_with_db\": True}                 # set to True if you plan to use the SQL database during/after the runtime \n",
    "\n",
    "# Create your OPUA server\n",
    "opc_server = Server(server_opts)"
   ]
  },
  {
   "cell_type": "markdown",
   "metadata": {},
   "source": [
    "The `server_opts` include all the options that are implemented so far. Please note that all except the last three are required in order to create a server. Now that the server is created, we need to start it. On attempting to start the server, the procedure will fail if 1) the instantiation of the server had previously failed or 2) the service is already running. This is by default implmented in the FreeOPCUA routines and we must take care of it here too. "
   ]
  },
  {
   "cell_type": "code",
   "execution_count": null,
   "metadata": {},
   "outputs": [],
   "source": [
    "# The server can only be started if it hasn't been already created\n",
    "if opc_server.created == True and opc_server.running == False: opc_server.start()"
   ]
  },
  {
   "cell_type": "markdown",
   "metadata": {},
   "source": [
    "### Understanding the data structure and the namespace \n",
    "\n",
    "By default, **do-mpc** sets up a working data configuration of the server, depending on the settings you provide. The configuration, called a namespace, contains two parts: the functional name of a variable (used to address that variable) and the visible name that appears upon inspecting the server. In the following we describe the default structure. We will see later how the names and structure can be changed."
   ]
  },
  {
   "cell_type": "code",
   "execution_count": null,
   "metadata": {},
   "outputs": [],
   "source": [
    "\"\"\"\n",
    "\"Server Name\" ======= The name you define in `server_opts`\n",
    " |--> \"Plant Data\"\n",
    " |     |-> \"States.X\"          = [0..n_x..0]  ======= Differential states are automatically stored.\n",
    " |     |-> \"States.Z\"          = [0..n_z..0]  ======= Algebraic states, if present, are stored.\n",
    " |     |-> \"Inputs\"            = [0..n_u..0]  ======= Actual plant inputs.Not necessaryle identical to the controller outputs.\n",
    " |     |-> \"Measurements\"      = [0..n_y..0]  ======= Measured outputs of the plant\n",
    " |    {|-> \"Parameters\"        = [0..n_p..0]} ======= The (uncertain) parameter set contains all parameters that can be stored.\n",
    " |\n",
    " |--> \"Controller Data\"\n",
    " |     |-> \"InitialState\"      = [0....n_x.....0] \n",
    " |     |-> \"OptimalOutputs\"    = [0....n_u.....0] \n",
    " |    {|-> \"StatePredictions\"  = [0..n_x_pred..0]} == The future state trajectory, as computed at the `current` time step.\n",
    " |    {|-> \"OutputPredictions\" = [0..n_u_pred..0]} == The future optimal control inputs, as computed at the `current` time step.\n",
    " |\n",
    "{|--> \"Estimator Data\" \n",
    " |     |-> \"Estimates.X\"       = [0..n_x..0]  ======= The diffenertial states. Are by default estimated.\n",
    " |     |-> \"Estimates.Z\"       = [0..n_z..0]  ======= The algebraic states. Not yet implemented.\n",
    " |    {|-> \"Estimates.P\"       = [0..n_p..0]} ======= Parameter estimates. Optional.\n",
    " |}\n",
    " |\n",
    " |--> \"SupervisionData\" \n",
    "       |-> Flags               = [0,0,0,0,0]  ======= Signal abnormal operation in one or all of the modules        \n",
    "       |-> Switches            = [0,0,0,0,0]  ======= Can be used to `manually` switch ON/OFF individual modules\n",
    "\"\"\""
   ]
  },
  {
   "cell_type": "code",
   "execution_count": null,
   "metadata": {},
   "outputs": [],
   "source": [
    "\"\"\"\n",
    "The structure of the flags vector:\n",
    "\n",
    "flag = 0 - everything okay\n",
    "     = 1 - error (see printout error message at the console)\n",
    "|-------------------------------------------------------------------------------\n",
    "|   Optimizer   |   Simulator   |   Estimator   |   Monitoring   |   UserDef    |\n",
    "|-------------------------------------------------------------------------------\n",
    "|      1/0      |      1/0      |      1/0      |      1/0       |     1/0      |  \n",
    "--------------------------------------------------------------------------------\n",
    "\n",
    "The structure of the switches vector:\n",
    "\n",
    "switch = 0 - the module should not be running/writing to the server (global =0 - force all modules to stop)\n",
    "       = 1 - the module is running/writing data to the server (global = 1 - force all to work)\n",
    "|-------------------------------------------------------------------------------\n",
    "|   Optimizer   |   Simulator   |   Estimator   |   Monitoring   |    Global    |\n",
    "|-------------------------------------------------------------------------------\n",
    "|      1/0      |      1/0      |      1/0      |      1/0       |      1/0     |  \n",
    "--------------------------------------------------------------------------------\n",
    "\"\"\""
   ]
  },
  {
   "cell_type": "code",
   "execution_count": null,
   "metadata": {},
   "outputs": [],
   "source": [
    "\"\"\" \n",
    "The user defined server namespace to be implemented on the OPCUA server. \n",
    "Contains pairs of the form (elementary MPC variable - readable user name) \n",
    "\"\"\"\n",
    "self.namespace = {\n",
    "  'PlantData'      :{'x':\"States.X\",'z':\"States.Z\",'u':\"Inputs\",'y':\"Measurements\",'p':\"Parameters\"},\n",
    "  'ControllerData' :{'x_init':\"InitialState\",'u_opt':\"OptimalOutputs\",'x_pred': \"PredictedStates\", 'u_pred': \"PredictedOutputs\"},\n",
    "  'EstimatorData'  :{'xhat':\"Estimates.X\",'zhat':\"Estimates.Z\",'phat':\"Estimates.P\"},\n",
    "  'SupervisionData':{'flags':\"Flags\",'switches':\"Switches\"}\n",
    "  }\n",
    "\n",
    "# This is how you can change entries in the namespace, if you want to rename the state vector...\n",
    "opc_server.namespace['PlantData']['x'] = \"Plant states\"\n",
    "# ... or the optimal input vector, etc. \n",
    "opc_server.namespace['ControllerData']['u_opt'] = \"Latest inputs\"\n",
    "#...\n",
    "# Alternatively, you could define an entirely new namespace, making sure it contains all elements!!\n",
    "opc_server.namespace = your_new_namespace"
   ]
  },
  {
   "cell_type": "markdown",
   "metadata": {},
   "source": [
    "By manually changing the entries in the namespace you change only the visible tags that appear when inspecting the data structure with a visual OPCUA client, like the one offered by FreeOPCUA. The visible names do not affect the functionality of **do-mpc**.\n",
    "\n",
    "Also important: one can only make changes before starting the server. Afterwars, the namespace strcture remains fixed."
   ]
  },
  {
   "cell_type": "markdown",
   "metadata": {},
   "source": [
    "### The Client"
   ]
  },
  {
   "cell_type": "code",
   "execution_count": null,
   "metadata": {},
   "outputs": [],
   "source": [
    "# Defining the settings for the OPCUA clients, which MUST match the server\n",
    "client_opts = {\"_address\":\"opc.tcp://localhost:4840/freeopcua/server/\", # the basic implementation, can remain as is\n",
    "               \"_port\": 4840,                              # should remain as is\n",
    "               \"_client_type\": \"controller\",               # simulator, estimator, user\n",
    "               \"_namespace\": opc_server.namespace}         # must match the server, therefore simply copy the namespace "
   ]
  },
  {
   "cell_type": "code",
   "execution_count": null,
   "metadata": {},
   "outputs": [],
   "source": [
    "# The user is an object that lets the main thread access the OPCUA server for status and flag checks\n",
    "client_opts['_client_type'] = 'ManualUser'\n",
    "user = Client(client_opts)\n",
    "#Connect to the server\n",
    "user.connect()\n",
    "\n",
    "# Example 1: read all the operation flags\n",
    "my_flags   = user.checkFlags()\n",
    "# or read just one of the 5 flags, at position 0\n",
    "one_flag   = user.checkFlags(pos = 0)\n",
    "# Example 2: switch on/off the MPC modules\n",
    "update_res = user.updateSwitches(switchVal=[1,1,1])"
   ]
  },
  {
   "cell_type": "markdown",
   "metadata": {},
   "source": [
    "In order to prevent Python errors and further headaches, you'd best be careful with starting and stopping the OPCUA modules. The server, for example, should only be started once. And when you're done with it, you should stop it. For the clients, you should disconnect them before stopping them. If you want to be extra safe, go ahead and also delete the underlying Python objects.   "
   ]
  },
  {
   "cell_type": "code",
   "execution_count": null,
   "metadata": {},
   "outputs": [],
   "source": [
    "# Clients should be disconnected first\n",
    "user.disconnect()\n",
    "user.stop()\n",
    "del(user)\n",
    "\n",
    "# Stopps the server and remove the 'garbage' object\n",
    "opc_server.stop()\n",
    "del(opc_server)\n"
   ]
  },
  {
   "cell_type": "markdown",
   "metadata": {},
   "source": [
    "## Example: the polymerization semi-batch reactor"
   ]
  },
  {
   "cell_type": "markdown",
   "metadata": {},
   "source": [
    "We will return to the server and clients later on. Now let's move onto the actual example. We will implement a real-time version of the Industrial Polymerization Reactor, which you can find in under `examples\\industrial_poly_realtime`. Here is the sketch of the process, to start our discussion. \n",
    "\n",
    "![reactorsketch](reactor_sketch.png)"
   ]
  },
  {
   "cell_type": "markdown",
   "metadata": {},
   "source": [
    "The reactor consists of a steel reactor, the main part where the polymerization takes place. Since this reaction is highly exothermic, the process needs to be cooled. This is achieved via two cooling systems: a cooling jacket (J) and an external heat exchanger (EHE). Both of these systems are equipped with additional temperature controllers that ensure that the respective temperature in each of the circuits tracks a desired reference temperature. \n",
    "\n",
    "The process is controlled via three manipulated variables: the two reference cooling temperatures meantioned above and the monomer feed rate A. A dynamic model of the system and NMPC control have been published in this paper: [Lucia et al. (2014)](https://cdn.syscop.de/publications/Lucia2014.pdf)"
   ]
  },
  {
   "cell_type": "markdown",
   "metadata": {},
   "source": [
    "Here is a summary of the model implemented in `examples\\industrial_poly_realtime\\template_model.py`. The parameters can be found in the paper or in the Python code.\n",
    "\n",
    "\\begin{align}\n",
    "\\dot{m}_{\\text{acc}} & = \\dot{m}_{\\text{F}} \\\\\n",
    "\\dot{m}_{\\text{W}} &= \\dot{m}_{\\text{F}} \\omega_{\\text{W,F}} \\\\\n",
    "\\dot{m}_{\\text{A}} &= \\dot{m}_{\\text{F}} \\omega_{\\text{A,F}}-k_{\\text{R1}}\\, m_{\\text{A,R}}-k_{\\text{R2}}\\,\n",
    "m_{\\text{AWT}}\\, m_{\\text{A}}/m_{\\text{ges}} , \\\\\n",
    "\\dot{m}_{\\text{P}} &=  k_{\\text{R1}}  m_{\\text{A,R}}+p_{1} k_{\\text{R2}} m_{\\text{AWT}} m_{\\text{A}}/ m_{\\text{ges}}, \\\\\n",
    "\\dot{T}_{S} & =  1/(c_{\\text{p,S}} m_{\\text{S}}) k_{\\text{K}} A (T_{\\text{R}}-T_{\\text{S}})-k_{\\text{K}} A (T_{\\text{S}}-T_{\\text{M}}), \\\\\n",
    "\\dot{T}_{\\text{R}} &= 1/(c_{\\text{p,R}} m_{\\text{ges}})[\\dot{m}_{\\text{F}}\n",
    "c_{\\text{p,F}} ( T_{\\text{F}}-T_{\\text{R}}) +\\Delta H_{\\text{R}} k_{\\text{R1}} m_{\\text{A,R}}-k_{\\text{K}} A (T_{\\text{R}}-T_{\\text{S}})-\\dot{m}_{\\text{AWT}} c_{\\text{p,R}}(T_{\\text{R}}-T_{\\text{EK}})],\\\\\n",
    "\\dot{T}_{\\text{M}} &=  1/(c_{\\text{p,W}}m_{\\text{M,KW}})[\\dot{m}_{\\text{M,KW}},c_{\\text{p,W}}\\left(T_{\\text{M}}^{\\text{IN}}-T_{\\text{M}}\\right)+k_{\\text{K}} A \\left(T_{\\text{S}}-T_{\\text{M}}\\right)],\\\\\n",
    "\\dot{T}_{\\text{EK}} &=  1/(c_{\\text{p,R}} m_{\\text{AWT}})[\\dot{m}_{\\text{AWT}}\n",
    "c_{\\text{p,W}}\\left(T_{\\text{R}}-T_{\\text{EK}}\\right)\\alpha\\left(T_{\\text{EK}}-T_{\\text{AWT}}\\right)  +\n",
    "k_{\\text{R2}}\\, m_{\\text{A}}\\, m_{\\text{AWT}}\\Delta\n",
    "H_{\\text{R}}/m_{\\text{ges}}], \\\\\n",
    "\\dot{T}_{\\text{AWT}} &=  [\\dot{m}_{\\text{AWT,KW}}\n",
    "c_{\\text{p,W}} (T_{\\text{AWT}}^{\\text{IN}}-T_{\\text{AWT}})-\\alpha\\left(T_{\\text{AWT}}-T_{\\text{EK}}\\right)]/(c_{\\text\n",
    "{p,W}} m_{\\text{AWT,KW}}),\\\\\n",
    "\\text{Where:} & \\\\\n",
    "U & =  m_{\\text{P}}/(m_{\\text{A}}+m_{\\text{P}}), \\\\\n",
    "m_{\\text{ges}} & =  \\  m_{\\text{W}}+m_{\\text{A}}+m_{\\text{P}}, \\\\\n",
    "k_{\\text{R1}}  & =  \\  k_{0} e^{\\frac{-E_{a}}{R\n",
    "(T_{\\text{R}}+273.15)}}\\left(k_{\\text{U1}}\\left(1-U\\right)+k_{\\text{U2}}\n",
    "U\\right), \\\\\n",
    "k_{\\text{R2}}  & =  \\  k_{0} e^{\\frac{-E_{a}}{R\n",
    "(T_{\\text{EK}}+273.15)}}\\left(k_{\\text{U1}}\\left(1-U\\right)+k_{\\text{U2}\n",
    "} U\\right), \\\\\n",
    "k_{\\text{K}}  & =  (m_{\\text{W}}\\,k_{\\text{WS}}+m_{\\text{A}}\\,\n",
    "k_{\\text{AS}}+m_{\\text{P}}\\,k_{\\text{PS}})/m_{\\text{ges}},\\\\\n",
    "m_{\\text{A,R}} & =  m_\\text{A}-m_\\text{A}\n",
    "m_{\\text{AWT}}/m_{\\text{ges}}\\\\\n",
    "\\text{Additionally:}& \\\\\n",
    "\\dot{T}_{adiab} &=  \\frac{\\Delta H_R}{m_{ges} c_{p,R}} \\dot{m}_A - (\\dot{m}_W+\\dot{m}_A+\\dot{m}_P)\\frac{m_A \\Delta H_R}{m^2_{ges} c_{p,R}} +\\dot{T}_{\\text{R}}\n",
    "\\end{align}"
   ]
  },
  {
   "cell_type": "markdown",
   "metadata": {},
   "source": [
    "The last equation is added in order to account for the safety criterium that states that the adiabatic temperature in teh reactor must remain below a certain boundary, more precisely: $T_{adiab} \\le 109 °C$"
   ]
  },
  {
   "cell_type": "markdown",
   "metadata": {},
   "source": [
    "## Model template\n",
    "\n",
    "The following code sets the *do-mpc* model to the above equations: "
   ]
  },
  {
   "cell_type": "code",
   "execution_count": null,
   "metadata": {},
   "outputs": [],
   "source": [
    "# algebraic equations\n",
    "U_m    = m_P / (m_A + m_P)\n",
    "m_ges  = m_W + m_A + m_P\n",
    "k_R1   = k_0 * exp(- E_a/(R*T_R)) * ((k_U1 * (1 - U_m)) + (k_U2 * U_m))\n",
    "k_R2   = k_0 * exp(- E_a/(R*T_EK))* ((k_U1 * (1 - U_m)) + (k_U2 * U_m))\n",
    "k_K    = ((m_W / m_ges) * k_WS) + ((m_A/m_ges) * k_AS) + ((m_P/m_ges) * k_PS)\n",
    "\n",
    "# Differential equations\n",
    "dot_m_W = m_dot_f * w_WF\n",
    "model.set_rhs('m_W', dot_m_W)\n",
    "dot_m_A = (m_dot_f * w_AF) - (k_R1 * (m_A-((m_A*m_AWT)/(m_W+m_A+m_P)))) - (p_1 * k_R2 * (m_A/m_ges) * m_AWT)\n",
    "model.set_rhs('m_A', dot_m_A)\n",
    "dot_m_P = (k_R1 * (m_A-((m_A*m_AWT)/(m_W+m_A+m_P)))) + (p_1 * k_R2 * (m_A/m_ges) * m_AWT)\n",
    "model.set_rhs('m_P', dot_m_P)\n",
    "\n",
    "dot_T_R = 1./(c_pR * m_ges)   * ((m_dot_f * c_pF * (T_F - T_R)) - (k_K *A_tank* (T_R - T_S)) - (fm_AWT * c_pR * (T_R - T_EK)) + (delH_R * k_R1 * (m_A-((m_A*m_AWT)/(m_W+m_A+m_P)))))\n",
    "model.set_rhs('T_R', dot_T_R)\n",
    "model.set_rhs('T_S', 1./(c_pS * m_S)     * ((k_K *A_tank* (T_R - T_S)) - (k_K *A_tank* (T_S - Tout_M))))\n",
    "model.set_rhs('Tout_M', 1./(c_pW * m_M_KW)  * ((fm_M_KW * c_pW * (T_in_M - Tout_M)) + (k_K *A_tank* (T_S - Tout_M))))\n",
    "model.set_rhs('T_EK', 1./(c_pR * m_AWT)   * ((fm_AWT * c_pR * (T_R - T_EK)) - (alfa * (T_EK - Tout_AWT)) + (p_1 * k_R2 * (m_A/m_ges) * m_AWT * delH_R)))\n",
    "model.set_rhs('Tout_AWT', 1./(c_pW * m_AWT_KW)* ((fm_AWT_KW * c_pW * (T_in_EK - Tout_AWT)) - (alfa * (Tout_AWT - T_EK))))\n",
    "model.set_rhs('accum_monom', m_dot_f)\n",
    "model.set_rhs('T_adiab', delH_R/(m_ges*c_pR)*dot_m_A-(dot_m_A+dot_m_W+dot_m_P)*(m_A*delH_R/(m_ges*m_ges*c_pR))+dot_T_R)\n"
   ]
  },
  {
   "cell_type": "markdown",
   "metadata": {},
   "source": [
    "Next we must also define the output structure to match the reality of the measured outputs:   "
   ]
  },
  {
   "cell_type": "code",
   "execution_count": null,
   "metadata": {},
   "outputs": [],
   "source": [
    "# The output function, in this case a linear dependency\n",
    "model.set_meas('m_W_meas', m_W)\n",
    "model.set_meas('T_S_meas', T_S)\n",
    "model.set_meas('T_R_meas', T_R)\n",
    "model.set_meas('T_M_meas', Tout_M)\n",
    "model.set_meas('T_EK_meas', T_EK)\n",
    "model.set_meas('T_AWT_meas', Tout_AWT)\n",
    "model.set_meas('accum_monom_meas', accum_monom)"
   ]
  },
  {
   "cell_type": "markdown",
   "metadata": {},
   "source": [
    "The model has been implemented. Let us have a look at the optimization problem that we want to solve, both in the classical synchronous mode of *do-mpc*, as well as in the real-time mode. \n",
    "\n",
    "For this example we will only consider the single-stage NMPC implementation. The optimization problem that is genrated by *do-mpc* reads:\n",
    "\n",
    "\\begin{align}\n",
    " \\min_{x,u,p} & \\sum ^{Np}_{k=0} J_{p,k} \\\\\n",
    " \\text{subject to:}&\\\\\n",
    "              x_{k+1} & = f(x_k, u_k, p_k) \\\\\n",
    "              88 °C & \\le T_R \\le 92 \\\\\n",
    "              T_{adiab} & \\le 109 \n",
    "\\end{align}"
   ]
  },
  {
   "cell_type": "markdown",
   "metadata": {},
   "source": [
    "## Controller template\n",
    "\n",
    "Let us have a look at the controller implementation and see how the NMPC controller is defined. The defnition is found in the file `examples\\industrial_poly_realtime\\template_mpc.py` "
   ]
  },
  {
   "cell_type": "code",
   "execution_count": null,
   "metadata": {},
   "outputs": [],
   "source": [
    "# The controller is typically run less often than the simulator/estimator\n",
    "opc_opts['_opc_opts']['_client_type'] = \"controller\"\n",
    "opc_opts['_opc_opts']['_output_feedback'] = True\n",
    "opc_opts['_cycle_time'] = 10.0\n",
    "\n",
    "controller = RealtimeController(model,opc_opts)"
   ]
  },
  {
   "cell_type": "markdown",
   "metadata": {},
   "source": [
    "The real-time controller is very easy to create. The type must be declared as `controller`, ensuring that the OPCUA client reads and writes data correctly on the server. \n",
    "Next, we set the output feedback to `False` to start. We want to make sure that the controller runs okay in a state-feedback setup. Finally, we want to call the controller every 10 seconds, which is a first guess meant to provide the rea-time structure some buffer time and ensure that the optimization can finish within the cycle time of the controller (we mighjt have to adjust this interval later). "
   ]
  },
  {
   "cell_type": "code",
   "execution_count": null,
   "metadata": {},
   "outputs": [],
   "source": [
    "setup_mpc = {\n",
    "    'n_horizon': 20,\n",
    "    'n_robust': 1,\n",
    "    'open_loop': 0,\n",
    "    't_step': 10.0/3600.0,\n",
    "    'state_discretization': 'collocation',\n",
    "    'store_full_solution': True,\n",
    "    # Use MA27 linear solver in ipopt for faster calculations:\n",
    "    #'nlpsol_opts': {'ipopt.linear_solver': 'MA27'}\n",
    "}\n",
    "\n",
    "controller.set_param(**setup_mpc)\n",
    "\n",
    "_x, _u, _z, _tvp, p, _aux,  *_ = controller.model.get_variables()"
   ]
  },
  {
   "cell_type": "markdown",
   "metadata": {},
   "source": [
    "The NMPC controller is not fully initialized until all the NLP settings have been passed. For further details about the initialization please have a look at our other, more basic example, the `getting_started:MPC` Jupyter Notebook. "
   ]
  },
  {
   "cell_type": "code",
   "execution_count": null,
   "metadata": {},
   "outputs": [],
   "source": [
    "temp_range = 2.0\n",
    "#...\n",
    "controller.bounds['lower','_x','m_P'] = 26.0\n",
    "controller.bounds['lower','_x','T_R'] = 363.15 - temp_range\n",
    "# ...\n",
    "controller.bounds['upper','_x','T_R'] = 363.15 + temp_range\n",
    "controller.bounds['upper','_x','accum_monom'] = 30000.0\n",
    "# ..."
   ]
  },
  {
   "cell_type": "code",
   "execution_count": null,
   "metadata": {},
   "outputs": [],
   "source": [
    "# Cost function definition\n",
    "mterm = - _x['m_P']\n",
    "lterm = - _x['m_P']\n",
    "\n",
    "controller.set_objective(mterm=mterm, lterm=lterm)\n",
    "controller.set_rterm(m_dot_f=0.002, T_in_M=0.004, T_in_EK=0.002)\n"
   ]
  },
  {
   "cell_type": "markdown",
   "metadata": {},
   "source": [
    "The cost function here is composed of three kinds of terms: the Lagrange term, the Mayer term and the input penalty term. For the last one of them, the interface allows you to set individual penalty terms for each one of the controll variables."
   ]
  },
  {
   "cell_type": "code",
   "execution_count": null,
   "metadata": {},
   "outputs": [],
   "source": [
    "# Soft constraints\n",
    "controller.set_soft_constraints('_x', 'T_adiab', )"
   ]
  },
  {
   "cell_type": "markdown",
   "metadata": {},
   "source": [
    "## Simulator template\n",
    "\n",
    "You can use the simulator in order to just simulate the plant overa given time span. However, we generally want to do something more with our model: test estimators and NMPC controllers. Let'S first get the simulator set up and then we will move on to the other modules. "
   ]
  },
  {
   "cell_type": "code",
   "execution_count": null,
   "metadata": {},
   "outputs": [],
   "source": [
    "# The simulator is the one that typically run the fastest (most often, e.g every second)\n",
    "opc_opts['_opc_opts']['_client_type'] = \"simulator\"\n",
    "opc_opts['_cycle_time'] = 2.0\n",
    "simulator = RealtimeSimulator(model,opc_opts)\n"
   ]
  },
  {
   "cell_type": "code",
   "execution_count": null,
   "metadata": {},
   "outputs": [],
   "source": [
    "params_simulator = {\n",
    "    'integration_tool': 'cvodes',\n",
    "    'abstol': 1e-10,\n",
    "    'reltol': 1e-10,\n",
    "    't_step': 2.0/3600.0\n",
    "}\n",
    "\n",
    "simulator.set_param(**params_simulator)"
   ]
  },
  {
   "cell_type": "code",
   "execution_count": null,
   "metadata": {},
   "outputs": [],
   "source": []
  },
  {
   "cell_type": "code",
   "execution_count": null,
   "metadata": {},
   "outputs": [],
   "source": [
    "# Set the real value of the [potentially] uncertain parameters\n",
    "p_num = simulator.get_p_template()\n",
    "p_num['delH_R'] = 950.0\n",
    "p_num['k_0'] = 7.0\n",
    "\n",
    "# The parameters are returned by a user-defined function, here a dummy implementation\n",
    "def p_fun(t_now):\n",
    "    # that returns the same values always\n",
    "    return p_num\n",
    "simulator.set_p_fun(p_fun)\n",
    "# And the last step ...\n",
    "simulator.setup()"
   ]
  },
  {
   "cell_type": "markdown",
   "metadata": {},
   "source": [
    "## Estimator template\n",
    "\n",
    "The next section will give you a short overview on setting up a simple estimator. As of now, **do-mpc** offers you a choice of two estimation methods: Extended Kalman Filter (EKF) and the Moving Horizon Estimator (MHE). Add to those the choice of using full State FeedBack (SFB) and these are your options. For more information about the MHE, please read through our other example at [`Getting started: MHE`](mhe_example.ipynb)"
   ]
  },
  {
   "cell_type": "code",
   "execution_count": null,
   "metadata": {},
   "outputs": [],
   "source": [
    "# The estimator is just a delayed state feedback estimator in this case \n",
    "\n",
    "opc_opts['_opc_opts']['_client_type'] = \"estimator\"\n",
    "opc_opts['_cycle_time'] = 3.0   # execute every 3 seconds\n",
    "opc_opts['_opc_opts']['_output_feedback'] = False\n",
    "\n",
    "# Use type 'SFB' for a full state feedback or 'EKF'/'MHE' for an actual estimator\n",
    "etype = 'SFB'\n",
    "if etype == 'SFB':\n",
    "    estimator = RealtimeEstimator('SFB', model, opc_opts)\n",
    "\n",
    "# And finally set it up\n",
    "estimator.setup()"
   ]
  },
  {
   "cell_type": "markdown",
   "metadata": {},
   "source": [
    "The real-time estimator module will be executed every 3 seconds. Again, we start off by disabling the real-time feedback, because we want to first check that the estimator performs well and tune it.\n",
    "\n",
    "For the real-time implementation, you have a choice of only two real-time estimators: 'SFB' stands for a full-state feedback, which asssumes that you can basically measure all plant states. This is perfect for setting up the controller and testing the rea-time environment. Later on, you can switch to 'EKF', which implements an extended Kalman Filter. For further information about estimators, we recommend reading through our [`Getting started: do-mpc`](getting_started.ipynb) notebook and the CSTR example. \n",
    "\n",
    "For completeness, the template includes the following code, that can be used to define the real-time EKF. Note that the matrix C must match the measurement structure defined in the model above, or else the estimator will abort at initialization. "
   ]
  },
  {
   "cell_type": "code",
   "execution_count": null,
   "metadata": {},
   "outputs": [],
   "source": [
    " if etype == 'EKF':\n",
    "    estimator = RealtimeEstimator('EKF', model, opc_opts)\n",
    "\n",
    "    \n",
    "    \"\"\" The following state and measurement structures are implemented:\n",
    "        x  = [m_W, m_A, m_P, T_R, T_S, Tout_M, T_EK, T_AWT, accum_monom, T_adiab]\n",
    "        y  =   |    0    0    |    |      |     |     |          |        0\n",
    "    \"\"\"\n",
    "    # The C matrix must be defined according to the above assumnption, has therefore size (7x10)\n",
    "    C = np.matrix([[1,0,0,0,0,0,0,0,0,0],\n",
    "                   [0,0,0,1,0,0,0,0,0,0],\n",
    "                   [0,0,0,0,1,0,0,0,0,0],\n",
    "                   [0,0,0,0,0,1,0,0,0,0],\n",
    "                   [0,0,0,0,0,0,1,0,0,0],\n",
    "                   [0,0,0,0,0,0,0,1,0,0],\n",
    "                   [0,0,0,0,0,0,0,0,1,0]])  \n",
    "    \n",
    "    # Tuning paramaters EKF\n",
    "    Q = 0.001*np.eye(10)\n",
    "    R = 0.01*np.eye(7)\n",
    "    P0 = 100*Q\n",
    "\n",
    "    setup_ekf = {\n",
    "    'P0': P0,\n",
    "    'Q' : Q,\n",
    "    'R' : R,\n",
    "    'C' : C,\n",
    "    't_step': 3.0/3600.0,\n",
    "    'type': \"continuous_discrete\",\n",
    "    'estimate_params': False,\n",
    "    'output_func':'linear', \n",
    "    'noise_level':0.01\n",
    "    #'output_func':'nonlinear',\n",
    "    #'H_func': h\n",
    "    }\n",
    "       \n",
    "    estimator.set_param(**setup_ekf) \n",
    "    estimator.setup()"
   ]
  },
  {
   "cell_type": "markdown",
   "metadata": {},
   "source": [
    "## The structure of the main file \n",
    "\n",
    "We change our attention to the main *do-mpc* file, where we must first import the files containing the definition of the real-time modules.  "
   ]
  },
  {
   "cell_type": "code",
   "execution_count": null,
   "metadata": {},
   "outputs": [],
   "source": [
    "from template_model import template_model\n",
    "from template_mpc import template_mpc\n",
    "from template_simulator import template_simulator\n",
    "from template_estimator import template_estimator\n",
    "from template_opcua import template_opcua\n",
    "\n",
    "from opcmodules import Server, Client\n",
    "from opcmodules import RealtimeSimulator, RealtimeController, RealtimeEstimator\n",
    "from opcmodules import RealtimeTrigger"
   ]
  },
  {
   "cell_type": "markdown",
   "metadata": {},
   "source": [
    "Next we set up all rea-time modules by calling the templates and collecting the resulting MPC modules."
   ]
  },
  {
   "cell_type": "code",
   "execution_count": null,
   "metadata": {},
   "outputs": [],
   "source": [
    "model = template_model()\n",
    "\n",
    "opc_server, opc_opts = template_opcua(model)\n",
    "    \n",
    "rt_simulator = template_simulator(model,opc_opts)\n",
    "\n",
    "rt_estimator = template_estimator(model, opc_opts)\n",
    "\n",
    "rt_controller = template_mpc(model,opc_opts)"
   ]
  },
  {
   "cell_type": "markdown",
   "metadata": {},
   "source": [
    "Notice that the real-time modules have a different calling syntax, compared to their synchronous counterparts. The options related to the OPCUA server and connection setting, as well as other settings are passed via the `opc_opts` dictionary. Please see the `template_opcua.py` file and the code documentation for further information. "
   ]
  },
  {
   "cell_type": "markdown",
   "metadata": {},
   "source": [
    "We must initialize the data structure on the server with the starting point of our simulation. FIrst, the $x_0$ state of the plant, controller and estimator must be defined."
   ]
  },
  {
   "cell_type": "code",
   "execution_count": null,
   "metadata": {},
   "outputs": [],
   "source": [
    "# Set the initial state of mpc and simulator:\n",
    "x0 = model._x(0)\n",
    "\n",
    "delH_R_real = 950.0\n",
    "c_pR = 5.0\n",
    "\n",
    "x0['m_W'] = 10000.0\n",
    "x0['m_A'] = 853.0\n",
    "x0['m_P'] = 26.5\n",
    "\n",
    "x0['T_R'] = 90.0 + 273.15\n",
    "x0['T_S'] = 90.0 + 273.15\n",
    "x0['Tout_M'] = 90.0 + 273.15\n",
    "x0['T_EK'] = 35.0 + 273.15\n",
    "x0['Tout_AWT'] = 35.0 + 273.15\n",
    "x0['accum_monom'] = 300.0\n",
    "x0['T_adiab'] = x0['m_A']*delH_R_real/((x0['m_W'] + x0['m_A'] + x0['m_P']) * c_pR) + x0['T_R']"
   ]
  },
  {
   "cell_type": "code",
   "execution_count": null,
   "metadata": {},
   "outputs": [],
   "source": [
    "# Step 1: initilize the simulator part\n",
    "rt_simulator.set_initial_state(x0, reset_history=True)\n",
    "rt_simulator.init_server(x0.cat.toarray().tolist())\n",
    "\n",
    "# Step 2: initialize the estimator part (if present)\n",
    "rt_estimator.set_initial_state(x0, reset_history=True)\n",
    "rt_estimator.init_server(x0.cat.toarray().tolist())\n",
    "\n",
    "# Step 3: only now can the optimizer be initialized, and a first optimization can be executed\n",
    "time.sleep((rt_simulator.cycle_time+rt_estimator.cycle_time)/2)\n",
    "rt_controller.set_initial_state(x0, reset_history=True)\n",
    "rt_controller.init_server(rt_controller._u0.cat.toarray().tolist())"
   ]
  },
  {
   "cell_type": "markdown",
   "metadata": {},
   "source": [
    "Notice that we are calling the routine `RealtimeSimulator.init_server()` for each of the modules. This has the effect of making the first update on the server, so that once we start the modules, they will read and work with relevant data. This is only done in order to prevent runtime failuers, for example by the optimizer having to start from an all-0 vector, which is physically not meaningful.  "
   ]
  },
  {
   "cell_type": "code",
   "execution_count": null,
   "metadata": {},
   "outputs": [],
   "source": [
    "# Step 4: the cyclical operation can be safely started now\n",
    "\"\"\"\n",
    "Define triggers for each of the modules and start the parallel/asynchronous operation\n",
    "\"\"\"\n",
    "trigger_simulator  = RealtimeTrigger(rt_simulator.cycle_time , rt_simulator.asynchronous_step)\n",
    "\n",
    "trigger_estimator  = RealtimeTrigger(rt_estimator.cycle_time , rt_estimator.asynchronous_step)\n",
    "\n",
    "trigger_controller = RealtimeTrigger(rt_controller.cycle_time, rt_controller.asynchronous_step)\n"
   ]
  },
  {
   "cell_type": "markdown",
   "metadata": {},
   "source": [
    "The real-time execution of the modules must be managed asynchronously and according to the cycle times defined by teh user in the templates. The special tool for doing this is `RealtimeTrigger`, a class that was implemented in **do-mpc** in order to easily manage the execution. This class takes a cycle time (in seconds) and a function (as Python function handle) and executes it at the given frequency. Once the trigger is instantiated, the execution of the thread starts automatically.\n",
    "\n",
    "The execution of each one of the functions happens independently of the others, while the user still maintains control of the main thread of execution, as we will see later. "
   ]
  },
  {
   "cell_type": "code",
   "execution_count": null,
   "metadata": {},
   "outputs": [],
   "source": [
    "# Once the main thread reaches this point, all real-time modules will be stopped\n",
    "trigger_controller.stop()\n",
    "trigger_simulator.stop()\n",
    "trigger_estimator.stop()"
   ]
  },
  {
   "cell_type": "markdown",
   "metadata": {},
   "source": [
    "Meanwhile, you can implement routine checks or message displays on the main thread. For the easiest configuration, we recommend that you let the execution start automatically when you run the main file, i.e. set `opc_opts['user_controlled'] = False`. Alternatively, you can use the `ManualUser` client to start and stop the execution quasi-automatically, as we will show next:"
   ]
  },
  {
   "cell_type": "code",
   "execution_count": null,
   "metadata": {},
   "outputs": [],
   "source": [
    "# Start all modules if the manual mode is enabled and avoid delays\n",
    "if opc_opts['_user_controlled']: \n",
    "    user.updateSwitches(pos = -1, switchVal=[1,1,1])"
   ]
  },
  {
   "cell_type": "markdown",
   "metadata": {},
   "source": [
    "Now all the modules are started and running as defined. The code below represents the main thread. You will that the main thread is executed every 10 seconds and it performs some very basic message displays and server checks, via our previously defined `ManualUser` interface. "
   ]
  },
  {
   "cell_type": "code",
   "execution_count": null,
   "metadata": {},
   "outputs": [],
   "source": [
    "\"\"\"\n",
    "The real-time do-mpc will keep running until you manually stop it via the flags (use an OPCUA Client to set the flags).\n",
    "Alternatively, use the routine below to check when the maximum nr of iterations is reached and stop the real-time modules.\n",
    "\"\"\"\n",
    "max_iter = 100\n",
    "manual_stop = False\n",
    "\n",
    "while rt_controller.iter_count < max_iter and manual_stop == False:\n",
    "    # The code below is executed on the main thread (e.g the Ipython console you're using to start do-mpc)\n",
    "    print(\"Waiting on the main thread...Checking flags...Executing your main code...\")\n",
    "    \n",
    "    if user.checkFlags(pos=0) == 1:\n",
    "        print(\"The controller has failed! Better take backup action ...\")\n",
    "    if user.checkFlags(pos=0) == 0: print(\"All systems OK @ \", time.strftime('%Y-%m-%d %H:%M %Z', time.localtime()))\n",
    "    \n",
    "    # Checking the status of the modules\n",
    "    switches = user.checkSwitches()\n",
    "    print(\"The controller is:\", 'ON' if switches[0] else 'OFF')\n",
    "    print(\"The simulator  is:\", 'ON' if switches[1] else 'OFF')\n",
    "    print(\"The estimator  is:\", 'ON' if switches[2] else 'OFF')\n",
    "    \n",
    "    # Check the 5th flag and stop all modules at once if the user has raised the flag\n",
    "    # Alternatively, the user can individually stop modules by setting the switch to 0\n",
    "    if user.checkFlags(pos=4) == 1: \n",
    "        user.updateSwitches(pos = -1, switchVal=[0,0,0])\n",
    "        manual_stop = True\n",
    "    \n",
    "    # The main thread sleeps for 10 seconds and repeats\n",
    "    time.sleep(10)"
   ]
  },
  {
   "cell_type": "markdown",
   "metadata": {},
   "source": [
    "## Running the code, getting results\n",
    "\n",
    "In this example, we want to execute 100 NMPC iterations of the polymerization reactor test case. However, if you decide to stop the modules before that, you can always connect to the server and set the switches for any or all of the modules to 0. This will cause the module(s) to stop after finishing their current iteration. \n",
    "\n",
    "Now let us look at some results. The next two images will show: 1) 100 iteration of real-time NMPC with full state-feedback vs 2) 100 iterations of the same setup, but executed in simulated time, with the 'classic' **do-mpc** setup."
   ]
  },
  {
   "cell_type": "markdown",
   "metadata": {},
   "source": [
    "You should notice that the real-time solution exhibits small oscillations, which become visible after t=0.2 h, when the adiabatic temperature hits the upper soft constraint. This is normal, although counterintuitive at first. After all, you can see that the simulated time solution 1) does not exhibit such a behavior. For the long answer to this, please consider reading our paper.\n",
    "\n",
    "Here is the short answer: the asynchronous execution introduces implicit time delays, which, especially at the limit of feasibility, become quite important. They can cause the solution of the optimization to oscillate or even crash. This is to be expected, if we think back and realize the optimizer always computes optimal inputs for a past state of the plant. By the time the inputs are updated, say after 10 seconds, the real plant has already evolved past this point, making the inputs suboptimal at the new state of the plant. Further delays can be introduced by the estimator, which interlaces itself in-between the plant and the controller.\n",
    "\n",
    "Several solutions exist for this problem, and they are explained in the above paper. We have added one final result in 3), where we show that the real-time framework can be modified in order to cope with these inherent time delays. "
   ]
  },
  {
   "cell_type": "markdown",
   "metadata": {},
   "source": [
    "## Testing the EKF estimator and output-feedback"
   ]
  },
  {
   "cell_type": "code",
   "execution_count": null,
   "metadata": {},
   "outputs": [],
   "source": []
  }
 ],
 "metadata": {
  "kernelspec": {
   "display_name": "Python 2",
   "language": "python",
   "name": "python2"
  },
  "language_info": {
   "codemirror_mode": {
    "name": "ipython",
    "version": 2
   },
   "file_extension": ".py",
   "mimetype": "text/x-python",
   "name": "python",
   "nbconvert_exporter": "python",
   "pygments_lexer": "ipython2",
   "version": "2.7.14"
  }
 },
 "nbformat": 4,
 "nbformat_minor": 4
}
